{
 "cells": [
  {
   "cell_type": "markdown",
   "metadata": {},
   "source": [
    "# Datathon Mayo 2018  **_\"Haciendo el gasto fiscal visible para el público\"_**\n",
    "## Ingresos y Gastos anuales del Gobierno Central"
   ]
  },
  {
   "cell_type": "markdown",
   "metadata": {},
   "source": [
    "## Lectura de Datos"
   ]
  },
  {
   "cell_type": "code",
   "execution_count": 37,
   "metadata": {},
   "outputs": [],
   "source": [
    "import os\n",
    "import pandas as pd\n",
    "import pandas_profiling as pd_profiling\n",
    "import altair as alt\n",
    "import matplotlib.pyplot as plt\n",
    "#%matplotlib ipympl"
   ]
  },
  {
   "cell_type": "code",
   "execution_count": 2,
   "metadata": {},
   "outputs": [],
   "source": [
    "def read_field_type(x):\n",
    "    '''\n",
    "    Para facilitar la lectura de los dataframes con los tipos de columna correspondientes.\n",
    "    '''\n",
    "    if x in ['String']:\n",
    "        return str\n",
    "    elif x in ['Integer', 'Long']:\n",
    "        return int\n",
    "    else:\n",
    "        return str"
   ]
  },
  {
   "cell_type": "code",
   "execution_count": 5,
   "metadata": {},
   "outputs": [],
   "source": [
    "spend_gob_names = pd.read_csv(os.path.join('data', \n",
    "                              'dataset_3_Revenue_and_ pending_(Central_Government)_Real_DICTIONARY.csv'), \n",
    "                              sep=';', \n",
    "                              encoding='iso-8859-1')"
   ]
  },
  {
   "cell_type": "code",
   "execution_count": 6,
   "metadata": {},
   "outputs": [
    {
     "data": {
      "text/html": [
       "<div>\n",
       "<style scoped>\n",
       "    .dataframe tbody tr th:only-of-type {\n",
       "        vertical-align: middle;\n",
       "    }\n",
       "\n",
       "    .dataframe tbody tr th {\n",
       "        vertical-align: top;\n",
       "    }\n",
       "\n",
       "    .dataframe thead th {\n",
       "        text-align: right;\n",
       "    }\n",
       "</style>\n",
       "<table border=\"1\" class=\"dataframe\">\n",
       "  <thead>\n",
       "    <tr style=\"text-align: right;\">\n",
       "      <th></th>\n",
       "      <th>Field name</th>\n",
       "      <th>Field type</th>\n",
       "      <th>Field size</th>\n",
       "      <th>Field format</th>\n",
       "      <th>Range</th>\n",
       "      <th>Description</th>\n",
       "      <th>Example</th>\n",
       "    </tr>\n",
       "  </thead>\n",
       "  <tbody>\n",
       "    <tr>\n",
       "      <th>0</th>\n",
       "      <td>Periodo</td>\n",
       "      <td>Integer</td>\n",
       "      <td>9</td>\n",
       "      <td>#</td>\n",
       "      <td>1990 to 2017</td>\n",
       "      <td>Year of the revenue or spend</td>\n",
       "      <td>1990</td>\n",
       "    </tr>\n",
       "    <tr>\n",
       "      <th>1</th>\n",
       "      <td>NIVEL1</td>\n",
       "      <td>String</td>\n",
       "      <td>63</td>\n",
       "      <td>NaN</td>\n",
       "      <td>2 categories</td>\n",
       "      <td>First Level of de State Operations Report of t...</td>\n",
       "      <td>TRANSACCIONES QUE AFECTAN EL PATRIMONIO NETO</td>\n",
       "    </tr>\n",
       "    <tr>\n",
       "      <th>2</th>\n",
       "      <td>NIVEL2</td>\n",
       "      <td>String</td>\n",
       "      <td>42</td>\n",
       "      <td>NaN</td>\n",
       "      <td>3 categories</td>\n",
       "      <td>Second Level of de State Operations Report of ...</td>\n",
       "      <td>GASTOS</td>\n",
       "    </tr>\n",
       "    <tr>\n",
       "      <th>3</th>\n",
       "      <td>NIVEL3</td>\n",
       "      <td>String</td>\n",
       "      <td>56</td>\n",
       "      <td>NaN</td>\n",
       "      <td>16 categories</td>\n",
       "      <td>Third Level of de State Operations Report of t...</td>\n",
       "      <td>Personal</td>\n",
       "    </tr>\n",
       "    <tr>\n",
       "      <th>4</th>\n",
       "      <td>Real_Amount</td>\n",
       "      <td>Integer</td>\n",
       "      <td>10</td>\n",
       "      <td>#</td>\n",
       "      <td>(-76356,02) to 30754067,04</td>\n",
       "      <td>Real Amount in millions (chilean pesos). This ...</td>\n",
       "      <td>30754067</td>\n",
       "    </tr>\n",
       "  </tbody>\n",
       "</table>\n",
       "</div>"
      ],
      "text/plain": [
       "    Field name Field type  Field size Field format  \\\n",
       "0      Periodo    Integer           9            #   \n",
       "1       NIVEL1     String          63          NaN   \n",
       "2       NIVEL2     String          42          NaN   \n",
       "3       NIVEL3     String          56          NaN   \n",
       "4  Real_Amount    Integer          10            #   \n",
       "\n",
       "                        Range  \\\n",
       "0                1990 to 2017   \n",
       "1                2 categories   \n",
       "2                3 categories   \n",
       "3               16 categories   \n",
       "4  (-76356,02) to 30754067,04   \n",
       "\n",
       "                                         Description  \\\n",
       "0                      Year of the revenue or spend    \n",
       "1  First Level of de State Operations Report of t...   \n",
       "2  Second Level of de State Operations Report of ...   \n",
       "3  Third Level of de State Operations Report of t...   \n",
       "4  Real Amount in millions (chilean pesos). This ...   \n",
       "\n",
       "                                        Example  \n",
       "0                                          1990  \n",
       "1  TRANSACCIONES QUE AFECTAN EL PATRIMONIO NETO  \n",
       "2                                        GASTOS  \n",
       "3                                      Personal  \n",
       "4                                      30754067  "
      ]
     },
     "execution_count": 6,
     "metadata": {},
     "output_type": "execute_result"
    }
   ],
   "source": [
    "spend_gob_names"
   ]
  },
  {
   "cell_type": "code",
   "execution_count": 7,
   "metadata": {},
   "outputs": [],
   "source": [
    "spend_gob = pd.read_csv(os.path.join('data', \n",
    "                              'dataset_3_Revenue_and_ pending_(Central_Government)_1990-2017 (real).csv'),\n",
    "                 sep=';', \n",
    "                 encoding='iso-8859-1',\n",
    "                 dtype=dict(zip(spend_gob_names['Field name'], spend_gob_names['Field type'].apply(read_field_type))))"
   ]
  },
  {
   "cell_type": "code",
   "execution_count": 23,
   "metadata": {},
   "outputs": [],
   "source": [
    "spend_gob.columns = spend_gob.columns.str.lower()"
   ]
  },
  {
   "cell_type": "code",
   "execution_count": 47,
   "metadata": {},
   "outputs": [],
   "source": [
    "spend_gob['real_amount'] = spend_gob['real_amount'].str.replace(',', '.').astype(float)"
   ]
  },
  {
   "cell_type": "code",
   "execution_count": 9,
   "metadata": {},
   "outputs": [
    {
     "data": {
      "text/html": [
       "<div>\n",
       "<style scoped>\n",
       "    .dataframe tbody tr th:only-of-type {\n",
       "        vertical-align: middle;\n",
       "    }\n",
       "\n",
       "    .dataframe tbody tr th {\n",
       "        vertical-align: top;\n",
       "    }\n",
       "\n",
       "    .dataframe thead th {\n",
       "        text-align: right;\n",
       "    }\n",
       "</style>\n",
       "<table border=\"1\" class=\"dataframe\">\n",
       "  <thead>\n",
       "    <tr style=\"text-align: right;\">\n",
       "      <th></th>\n",
       "      <th>Periodo</th>\n",
       "      <th>NIVEL1</th>\n",
       "      <th>NIVEL2</th>\n",
       "      <th>NIVEL3</th>\n",
       "      <th>Real_amount</th>\n",
       "    </tr>\n",
       "  </thead>\n",
       "  <tbody>\n",
       "    <tr>\n",
       "      <th>0</th>\n",
       "      <td>1990</td>\n",
       "      <td>TRANSACCIONES EN ACTIVOS NO FINANCIEROS</td>\n",
       "      <td>ADQUISICION NETA DE ACTIVOS NO FINANCIEROS</td>\n",
       "      <td>Inversión</td>\n",
       "      <td>786184,56</td>\n",
       "    </tr>\n",
       "    <tr>\n",
       "      <th>1</th>\n",
       "      <td>1991</td>\n",
       "      <td>TRANSACCIONES EN ACTIVOS NO FINANCIEROS</td>\n",
       "      <td>ADQUISICION NETA DE ACTIVOS NO FINANCIEROS</td>\n",
       "      <td>Inversión</td>\n",
       "      <td>970813,77</td>\n",
       "    </tr>\n",
       "    <tr>\n",
       "      <th>2</th>\n",
       "      <td>1992</td>\n",
       "      <td>TRANSACCIONES EN ACTIVOS NO FINANCIEROS</td>\n",
       "      <td>ADQUISICION NETA DE ACTIVOS NO FINANCIEROS</td>\n",
       "      <td>Inversión</td>\n",
       "      <td>1165103,28</td>\n",
       "    </tr>\n",
       "    <tr>\n",
       "      <th>3</th>\n",
       "      <td>1993</td>\n",
       "      <td>TRANSACCIONES EN ACTIVOS NO FINANCIEROS</td>\n",
       "      <td>ADQUISICION NETA DE ACTIVOS NO FINANCIEROS</td>\n",
       "      <td>Inversión</td>\n",
       "      <td>1432888,73</td>\n",
       "    </tr>\n",
       "    <tr>\n",
       "      <th>4</th>\n",
       "      <td>1994</td>\n",
       "      <td>TRANSACCIONES EN ACTIVOS NO FINANCIEROS</td>\n",
       "      <td>ADQUISICION NETA DE ACTIVOS NO FINANCIEROS</td>\n",
       "      <td>Inversión</td>\n",
       "      <td>1568702,18</td>\n",
       "    </tr>\n",
       "  </tbody>\n",
       "</table>\n",
       "</div>"
      ],
      "text/plain": [
       "   Periodo                                   NIVEL1  \\\n",
       "0     1990  TRANSACCIONES EN ACTIVOS NO FINANCIEROS   \n",
       "1     1991  TRANSACCIONES EN ACTIVOS NO FINANCIEROS   \n",
       "2     1992  TRANSACCIONES EN ACTIVOS NO FINANCIEROS   \n",
       "3     1993  TRANSACCIONES EN ACTIVOS NO FINANCIEROS   \n",
       "4     1994  TRANSACCIONES EN ACTIVOS NO FINANCIEROS   \n",
       "\n",
       "                                       NIVEL2     NIVEL3 Real_amount  \n",
       "0  ADQUISICION NETA DE ACTIVOS NO FINANCIEROS  Inversión   786184,56  \n",
       "1  ADQUISICION NETA DE ACTIVOS NO FINANCIEROS  Inversión   970813,77  \n",
       "2  ADQUISICION NETA DE ACTIVOS NO FINANCIEROS  Inversión  1165103,28  \n",
       "3  ADQUISICION NETA DE ACTIVOS NO FINANCIEROS  Inversión  1432888,73  \n",
       "4  ADQUISICION NETA DE ACTIVOS NO FINANCIEROS  Inversión  1568702,18  "
      ]
     },
     "execution_count": 9,
     "metadata": {},
     "output_type": "execute_result"
    }
   ],
   "source": [
    "spend_gob.head(5) "
   ]
  },
  {
   "cell_type": "markdown",
   "metadata": {},
   "source": [
    "Ejemplito"
   ]
  },
  {
   "cell_type": "code",
   "execution_count": 49,
   "metadata": {},
   "outputs": [],
   "source": [
    "cobre = spend_gob.query(\"nivel3 == 'Cobre bruto'\")"
   ]
  },
  {
   "cell_type": "code",
   "execution_count": 50,
   "metadata": {},
   "outputs": [
    {
     "data": {
      "application/vnd.vegalite.v2+json": {
       "$schema": "https://vega.github.io/schema/vega-lite/v2.4.1.json",
       "config": {
        "view": {
         "height": 300,
         "width": 400
        }
       },
       "data": {
        "values": [
         {
          "nivel1": "TRANSACCIONES QUE AFECTAN EL PATRIMONIO NETO",
          "nivel2": "INGRESOS",
          "nivel3": "Cobre bruto",
          "periodo": 1990,
          "real_amount": 1935051.72
         },
         {
          "nivel1": "TRANSACCIONES QUE AFECTAN EL PATRIMONIO NETO",
          "nivel2": "INGRESOS",
          "nivel3": "Cobre bruto",
          "periodo": 1991,
          "real_amount": 1039128.11
         },
         {
          "nivel1": "TRANSACCIONES QUE AFECTAN EL PATRIMONIO NETO",
          "nivel2": "INGRESOS",
          "nivel3": "Cobre bruto",
          "periodo": 1992,
          "real_amount": 950370.46
         },
         {
          "nivel1": "TRANSACCIONES QUE AFECTAN EL PATRIMONIO NETO",
          "nivel2": "INGRESOS",
          "nivel3": "Cobre bruto",
          "periodo": 1993,
          "real_amount": 434457.23
         },
         {
          "nivel1": "TRANSACCIONES QUE AFECTAN EL PATRIMONIO NETO",
          "nivel2": "INGRESOS",
          "nivel3": "Cobre bruto",
          "periodo": 1994,
          "real_amount": 775337.35
         },
         {
          "nivel1": "TRANSACCIONES QUE AFECTAN EL PATRIMONIO NETO",
          "nivel2": "INGRESOS",
          "nivel3": "Cobre bruto",
          "periodo": 1995,
          "real_amount": 1499926.13
         },
         {
          "nivel1": "TRANSACCIONES QUE AFECTAN EL PATRIMONIO NETO",
          "nivel2": "INGRESOS",
          "nivel3": "Cobre bruto",
          "periodo": 1996,
          "real_amount": 831721.57
         },
         {
          "nivel1": "TRANSACCIONES QUE AFECTAN EL PATRIMONIO NETO",
          "nivel2": "INGRESOS",
          "nivel3": "Cobre bruto",
          "periodo": 1997,
          "real_amount": 905255.35
         },
         {
          "nivel1": "TRANSACCIONES QUE AFECTAN EL PATRIMONIO NETO",
          "nivel2": "INGRESOS",
          "nivel3": "Cobre bruto",
          "periodo": 1998,
          "real_amount": 275738.59
         },
         {
          "nivel1": "TRANSACCIONES QUE AFECTAN EL PATRIMONIO NETO",
          "nivel2": "INGRESOS",
          "nivel3": "Cobre bruto",
          "periodo": 1999,
          "real_amount": 246277.11
         },
         {
          "nivel1": "TRANSACCIONES QUE AFECTAN EL PATRIMONIO NETO",
          "nivel2": "INGRESOS",
          "nivel3": "Cobre bruto",
          "periodo": 2000,
          "real_amount": 648056.48
         },
         {
          "nivel1": "TRANSACCIONES QUE AFECTAN EL PATRIMONIO NETO",
          "nivel2": "INGRESOS",
          "nivel3": "Cobre bruto",
          "periodo": 2001,
          "real_amount": 375225.32
         },
         {
          "nivel1": "TRANSACCIONES QUE AFECTAN EL PATRIMONIO NETO",
          "nivel2": "INGRESOS",
          "nivel3": "Cobre bruto",
          "periodo": 2002,
          "real_amount": 350431.25
         },
         {
          "nivel1": "TRANSACCIONES QUE AFECTAN EL PATRIMONIO NETO",
          "nivel2": "INGRESOS",
          "nivel3": "Cobre bruto",
          "periodo": 2003,
          "real_amount": 681729.25
         },
         {
          "nivel1": "TRANSACCIONES QUE AFECTAN EL PATRIMONIO NETO",
          "nivel2": "INGRESOS",
          "nivel3": "Cobre bruto",
          "periodo": 2004,
          "real_amount": 2760048.04
         },
         {
          "nivel1": "TRANSACCIONES QUE AFECTAN EL PATRIMONIO NETO",
          "nivel2": "INGRESOS",
          "nivel3": "Cobre bruto",
          "periodo": 2005,
          "real_amount": 3704834.85
         },
         {
          "nivel1": "TRANSACCIONES QUE AFECTAN EL PATRIMONIO NETO",
          "nivel2": "INGRESOS",
          "nivel3": "Cobre bruto",
          "periodo": 2006,
          "real_amount": 6506311.41
         },
         {
          "nivel1": "TRANSACCIONES QUE AFECTAN EL PATRIMONIO NETO",
          "nivel2": "INGRESOS",
          "nivel3": "Cobre bruto",
          "periodo": 2007,
          "real_amount": 5824599.82
         },
         {
          "nivel1": "TRANSACCIONES QUE AFECTAN EL PATRIMONIO NETO",
          "nivel2": "INGRESOS",
          "nivel3": "Cobre bruto",
          "periodo": 2008,
          "real_amount": 4138031.8
         },
         {
          "nivel1": "TRANSACCIONES QUE AFECTAN EL PATRIMONIO NETO",
          "nivel2": "INGRESOS",
          "nivel3": "Cobre bruto",
          "periodo": 2009,
          "real_amount": 2030682.3
         },
         {
          "nivel1": "TRANSACCIONES QUE AFECTAN EL PATRIMONIO NETO",
          "nivel2": "INGRESOS",
          "nivel3": "Cobre bruto",
          "periodo": 2010,
          "real_amount": 3819539.17
         },
         {
          "nivel1": "TRANSACCIONES QUE AFECTAN EL PATRIMONIO NETO",
          "nivel2": "INGRESOS",
          "nivel3": "Cobre bruto",
          "periodo": 2011,
          "real_amount": 3360128.37
         },
         {
          "nivel1": "TRANSACCIONES QUE AFECTAN EL PATRIMONIO NETO",
          "nivel2": "INGRESOS",
          "nivel3": "Cobre bruto",
          "periodo": 2012,
          "real_amount": 2316530.09
         },
         {
          "nivel1": "TRANSACCIONES QUE AFECTAN EL PATRIMONIO NETO",
          "nivel2": "INGRESOS",
          "nivel3": "Cobre bruto",
          "periodo": 2013,
          "real_amount": 1637152.96
         },
         {
          "nivel1": "TRANSACCIONES QUE AFECTAN EL PATRIMONIO NETO",
          "nivel2": "INGRESOS",
          "nivel3": "Cobre bruto",
          "periodo": 2014,
          "real_amount": 1497921.75
         },
         {
          "nivel1": "TRANSACCIONES QUE AFECTAN EL PATRIMONIO NETO",
          "nivel2": "INGRESOS",
          "nivel3": "Cobre bruto",
          "periodo": 2015,
          "real_amount": 746262.73
         },
         {
          "nivel1": "TRANSACCIONES QUE AFECTAN EL PATRIMONIO NETO",
          "nivel2": "INGRESOS",
          "nivel3": "Cobre bruto",
          "periodo": 2016,
          "real_amount": 612811.37
         },
         {
          "nivel1": "TRANSACCIONES QUE AFECTAN EL PATRIMONIO NETO",
          "nivel2": "INGRESOS",
          "nivel3": "Cobre bruto",
          "periodo": 2017,
          "real_amount": 898899.7
         }
        ]
       },
       "encoding": {
        "x": {
         "field": "periodo",
         "type": "ordinal"
        },
        "y": {
         "aggregate": "sum",
         "field": "real_amount",
         "type": "quantitative"
        }
       },
       "mark": "bar"
      },
      "image/png": "[encoded data removed]",
      "text/plain": [
       "<VegaLite 2 object>\n",
       "\n",
       "If you see this message, it means the renderer has not been properly enabled\n",
       "for the frontend that you are using. For more information, see\n",
       "https://altair-viz.github.io/user_guide/troubleshooting.html\n"
      ]
     },
     "execution_count": 50,
     "metadata": {},
     "output_type": "execute_result"
    }
   ],
   "source": [
    "alt.Chart(cobre).mark_bar().encode(\n",
    "    x='periodo:O',\n",
    "    y='sum(real_amount):Q'\n",
    ")"
   ]
  },
  {
   "cell_type": "code",
   "execution_count": null,
   "metadata": {},
   "outputs": [],
   "source": []
  }
 ],
 "metadata": {
  "kernelspec": {
   "display_name": "Python 3",
   "language": "python",
   "name": "python3"
  },
  "language_info": {
   "codemirror_mode": {
    "name": "ipython",
    "version": 3
   },
   "file_extension": ".py",
   "mimetype": "text/x-python",
   "name": "python",
   "nbconvert_exporter": "python",
   "pygments_lexer": "ipython3",
   "version": "3.6.5"
  }
 },
 "nbformat": 4,
 "nbformat_minor": 2
}
