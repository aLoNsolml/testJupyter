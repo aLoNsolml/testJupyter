{
 "cells": [
  {
   "cell_type": "markdown",
   "metadata": {},
   "source": [
    "# Datathon Mayo 2018  **_\"Haciendo el gasto fiscal visible para el público\"_**\n",
    "## Ingresos y Gastos anuales del Gobierno Central"
   ]
  },
  {
   "cell_type": "markdown",
   "metadata": {},
   "source": [
    "## Lectura de Datos"
   ]
  },
  {
   "cell_type": "code",
   "execution_count": 1,
   "metadata": {},
   "outputs": [],
   "source": [
    "import os\n",
    "import pandas as pd\n",
    "import pandas_profiling as pd_profiling\n",
    "import altair as alt"
   ]
  },
  {
   "cell_type": "code",
   "execution_count": 2,
   "metadata": {},
   "outputs": [],
   "source": [
    "def read_field_type(x):\n",
    "    '''\n",
    "    Para facilitar la lectura de los dataframes con los tipos de columna correspondientes.\n",
    "    '''\n",
    "    if x in ['String']:\n",
    "        return str\n",
    "    elif x in ['Integer', 'Long']:\n",
    "        return int\n",
    "    else:\n",
    "        return str"
   ]
  },
  {
   "cell_type": "code",
   "execution_count": 3,
   "metadata": {},
   "outputs": [],
   "source": [
    "spend_gob_names = pd.read_csv(os.path.join('data', \n",
    "                              'dataset_3_Revenue_and_ pending_(Central_Government)_Real_DICTIONARY.csv'), \n",
    "                              sep=';', \n",
    "                              encoding='iso-8859-1')"
   ]
  },
  {
   "cell_type": "code",
   "execution_count": 4,
   "metadata": {},
   "outputs": [
    {
     "data": {
      "text/html": [
       "<div>\n",
       "<style scoped>\n",
       "    .dataframe tbody tr th:only-of-type {\n",
       "        vertical-align: middle;\n",
       "    }\n",
       "\n",
       "    .dataframe tbody tr th {\n",
       "        vertical-align: top;\n",
       "    }\n",
       "\n",
       "    .dataframe thead th {\n",
       "        text-align: right;\n",
       "    }\n",
       "</style>\n",
       "<table border=\"1\" class=\"dataframe\">\n",
       "  <thead>\n",
       "    <tr style=\"text-align: right;\">\n",
       "      <th></th>\n",
       "      <th>Field name</th>\n",
       "      <th>Field type</th>\n",
       "      <th>Field size</th>\n",
       "      <th>Field format</th>\n",
       "      <th>Range</th>\n",
       "      <th>Description</th>\n",
       "      <th>Example</th>\n",
       "    </tr>\n",
       "  </thead>\n",
       "  <tbody>\n",
       "    <tr>\n",
       "      <th>0</th>\n",
       "      <td>Periodo</td>\n",
       "      <td>Integer</td>\n",
       "      <td>9</td>\n",
       "      <td>#</td>\n",
       "      <td>1990 to 2017</td>\n",
       "      <td>Year of the revenue or spend</td>\n",
       "      <td>1990</td>\n",
       "    </tr>\n",
       "    <tr>\n",
       "      <th>1</th>\n",
       "      <td>NIVEL1</td>\n",
       "      <td>String</td>\n",
       "      <td>63</td>\n",
       "      <td>NaN</td>\n",
       "      <td>2 categories</td>\n",
       "      <td>First Level of de State Operations Report of t...</td>\n",
       "      <td>TRANSACCIONES QUE AFECTAN EL PATRIMONIO NETO</td>\n",
       "    </tr>\n",
       "    <tr>\n",
       "      <th>2</th>\n",
       "      <td>NIVEL2</td>\n",
       "      <td>String</td>\n",
       "      <td>42</td>\n",
       "      <td>NaN</td>\n",
       "      <td>3 categories</td>\n",
       "      <td>Second Level of de State Operations Report of ...</td>\n",
       "      <td>GASTOS</td>\n",
       "    </tr>\n",
       "    <tr>\n",
       "      <th>3</th>\n",
       "      <td>NIVEL3</td>\n",
       "      <td>String</td>\n",
       "      <td>56</td>\n",
       "      <td>NaN</td>\n",
       "      <td>16 categories</td>\n",
       "      <td>Third Level of de State Operations Report of t...</td>\n",
       "      <td>Personal</td>\n",
       "    </tr>\n",
       "    <tr>\n",
       "      <th>4</th>\n",
       "      <td>Real_Amount</td>\n",
       "      <td>Integer</td>\n",
       "      <td>10</td>\n",
       "      <td>#</td>\n",
       "      <td>(-76356,02) to 30754067,04</td>\n",
       "      <td>Real Amount in millions (chilean pesos). This ...</td>\n",
       "      <td>30754067</td>\n",
       "    </tr>\n",
       "  </tbody>\n",
       "</table>\n",
       "</div>"
      ],
      "text/plain": [
       "    Field name Field type  Field size Field format  \\\n",
       "0      Periodo    Integer           9            #   \n",
       "1       NIVEL1     String          63          NaN   \n",
       "2       NIVEL2     String          42          NaN   \n",
       "3       NIVEL3     String          56          NaN   \n",
       "4  Real_Amount    Integer          10            #   \n",
       "\n",
       "                        Range  \\\n",
       "0                1990 to 2017   \n",
       "1                2 categories   \n",
       "2                3 categories   \n",
       "3               16 categories   \n",
       "4  (-76356,02) to 30754067,04   \n",
       "\n",
       "                                         Description  \\\n",
       "0                      Year of the revenue or spend    \n",
       "1  First Level of de State Operations Report of t...   \n",
       "2  Second Level of de State Operations Report of ...   \n",
       "3  Third Level of de State Operations Report of t...   \n",
       "4  Real Amount in millions (chilean pesos). This ...   \n",
       "\n",
       "                                        Example  \n",
       "0                                          1990  \n",
       "1  TRANSACCIONES QUE AFECTAN EL PATRIMONIO NETO  \n",
       "2                                        GASTOS  \n",
       "3                                      Personal  \n",
       "4                                      30754067  "
      ]
     },
     "execution_count": 4,
     "metadata": {},
     "output_type": "execute_result"
    }
   ],
   "source": [
    "spend_gob_names"
   ]
  },
  {
   "cell_type": "code",
   "execution_count": 5,
   "metadata": {},
   "outputs": [],
   "source": [
    "spend_gob = pd.read_csv(os.path.join('data', \n",
    "                              'dataset_3_Revenue_and_ pending_(Central_Government)_1990-2017 (real).csv'),\n",
    "                 sep=';', \n",
    "                 encoding='iso-8859-1',\n",
    "                 dtype=dict(zip(spend_gob_names['Field name'], spend_gob_names['Field type'].apply(read_field_type))))"
   ]
  },
  {
   "cell_type": "code",
   "execution_count": 6,
   "metadata": {},
   "outputs": [],
   "source": [
    "spend_gob.columns = spend_gob.columns.str.lower()"
   ]
  },
  {
   "cell_type": "code",
   "execution_count": 7,
   "metadata": {},
   "outputs": [],
   "source": [
    "spend_gob['real_amount'] = spend_gob['real_amount'].str.replace(',', '.').astype(float)"
   ]
  },
  {
   "cell_type": "code",
   "execution_count": 8,
   "metadata": {},
   "outputs": [
    {
     "data": {
      "text/html": [
       "<div>\n",
       "<style scoped>\n",
       "    .dataframe tbody tr th:only-of-type {\n",
       "        vertical-align: middle;\n",
       "    }\n",
       "\n",
       "    .dataframe tbody tr th {\n",
       "        vertical-align: top;\n",
       "    }\n",
       "\n",
       "    .dataframe thead th {\n",
       "        text-align: right;\n",
       "    }\n",
       "</style>\n",
       "<table border=\"1\" class=\"dataframe\">\n",
       "  <thead>\n",
       "    <tr style=\"text-align: right;\">\n",
       "      <th></th>\n",
       "      <th>periodo</th>\n",
       "      <th>nivel1</th>\n",
       "      <th>nivel2</th>\n",
       "      <th>nivel3</th>\n",
       "      <th>real_amount</th>\n",
       "    </tr>\n",
       "  </thead>\n",
       "  <tbody>\n",
       "    <tr>\n",
       "      <th>0</th>\n",
       "      <td>1990</td>\n",
       "      <td>TRANSACCIONES EN ACTIVOS NO FINANCIEROS</td>\n",
       "      <td>ADQUISICION NETA DE ACTIVOS NO FINANCIEROS</td>\n",
       "      <td>Inversión</td>\n",
       "      <td>786184.56</td>\n",
       "    </tr>\n",
       "    <tr>\n",
       "      <th>1</th>\n",
       "      <td>1991</td>\n",
       "      <td>TRANSACCIONES EN ACTIVOS NO FINANCIEROS</td>\n",
       "      <td>ADQUISICION NETA DE ACTIVOS NO FINANCIEROS</td>\n",
       "      <td>Inversión</td>\n",
       "      <td>970813.77</td>\n",
       "    </tr>\n",
       "    <tr>\n",
       "      <th>2</th>\n",
       "      <td>1992</td>\n",
       "      <td>TRANSACCIONES EN ACTIVOS NO FINANCIEROS</td>\n",
       "      <td>ADQUISICION NETA DE ACTIVOS NO FINANCIEROS</td>\n",
       "      <td>Inversión</td>\n",
       "      <td>1165103.28</td>\n",
       "    </tr>\n",
       "    <tr>\n",
       "      <th>3</th>\n",
       "      <td>1993</td>\n",
       "      <td>TRANSACCIONES EN ACTIVOS NO FINANCIEROS</td>\n",
       "      <td>ADQUISICION NETA DE ACTIVOS NO FINANCIEROS</td>\n",
       "      <td>Inversión</td>\n",
       "      <td>1432888.73</td>\n",
       "    </tr>\n",
       "    <tr>\n",
       "      <th>4</th>\n",
       "      <td>1994</td>\n",
       "      <td>TRANSACCIONES EN ACTIVOS NO FINANCIEROS</td>\n",
       "      <td>ADQUISICION NETA DE ACTIVOS NO FINANCIEROS</td>\n",
       "      <td>Inversión</td>\n",
       "      <td>1568702.18</td>\n",
       "    </tr>\n",
       "  </tbody>\n",
       "</table>\n",
       "</div>"
      ],
      "text/plain": [
       "   periodo                                   nivel1  \\\n",
       "0     1990  TRANSACCIONES EN ACTIVOS NO FINANCIEROS   \n",
       "1     1991  TRANSACCIONES EN ACTIVOS NO FINANCIEROS   \n",
       "2     1992  TRANSACCIONES EN ACTIVOS NO FINANCIEROS   \n",
       "3     1993  TRANSACCIONES EN ACTIVOS NO FINANCIEROS   \n",
       "4     1994  TRANSACCIONES EN ACTIVOS NO FINANCIEROS   \n",
       "\n",
       "                                       nivel2     nivel3  real_amount  \n",
       "0  ADQUISICION NETA DE ACTIVOS NO FINANCIEROS  Inversión    786184.56  \n",
       "1  ADQUISICION NETA DE ACTIVOS NO FINANCIEROS  Inversión    970813.77  \n",
       "2  ADQUISICION NETA DE ACTIVOS NO FINANCIEROS  Inversión   1165103.28  \n",
       "3  ADQUISICION NETA DE ACTIVOS NO FINANCIEROS  Inversión   1432888.73  \n",
       "4  ADQUISICION NETA DE ACTIVOS NO FINANCIEROS  Inversión   1568702.18  "
      ]
     },
     "execution_count": 8,
     "metadata": {},
     "output_type": "execute_result"
    }
   ],
   "source": [
    "spend_gob.head(5) "
   ]
  },
  {
   "cell_type": "markdown",
   "metadata": {},
   "source": [
    "# Estadística Descriptiva"
   ]
  },
  {
   "cell_type": "code",
   "execution_count": 14,
   "metadata": {},
   "outputs": [
    {
     "data": {
      "text/html": [
       "<div>\n",
       "<style scoped>\n",
       "    .dataframe tbody tr th:only-of-type {\n",
       "        vertical-align: middle;\n",
       "    }\n",
       "\n",
       "    .dataframe tbody tr th {\n",
       "        vertical-align: top;\n",
       "    }\n",
       "\n",
       "    .dataframe thead th {\n",
       "        text-align: right;\n",
       "    }\n",
       "</style>\n",
       "<table border=\"1\" class=\"dataframe\">\n",
       "  <thead>\n",
       "    <tr style=\"text-align: right;\">\n",
       "      <th></th>\n",
       "      <th>periodo</th>\n",
       "      <th>nivel1</th>\n",
       "      <th>nivel2</th>\n",
       "      <th>nivel3</th>\n",
       "      <th>real_amount</th>\n",
       "    </tr>\n",
       "  </thead>\n",
       "  <tbody>\n",
       "    <tr>\n",
       "      <th>56</th>\n",
       "      <td>1990</td>\n",
       "      <td>TRANSACCIONES EN ACTIVOS NO FINANCIEROS</td>\n",
       "      <td>ADQUISICION NETA DE ACTIVOS NO FINANCIEROS</td>\n",
       "      <td>Venta de activos físicos</td>\n",
       "      <td>-55042.96</td>\n",
       "    </tr>\n",
       "    <tr>\n",
       "      <th>57</th>\n",
       "      <td>1991</td>\n",
       "      <td>TRANSACCIONES EN ACTIVOS NO FINANCIEROS</td>\n",
       "      <td>ADQUISICION NETA DE ACTIVOS NO FINANCIEROS</td>\n",
       "      <td>Venta de activos físicos</td>\n",
       "      <td>-76356.02</td>\n",
       "    </tr>\n",
       "    <tr>\n",
       "      <th>58</th>\n",
       "      <td>1992</td>\n",
       "      <td>TRANSACCIONES EN ACTIVOS NO FINANCIEROS</td>\n",
       "      <td>ADQUISICION NETA DE ACTIVOS NO FINANCIEROS</td>\n",
       "      <td>Venta de activos físicos</td>\n",
       "      <td>-56027.22</td>\n",
       "    </tr>\n",
       "    <tr>\n",
       "      <th>59</th>\n",
       "      <td>1993</td>\n",
       "      <td>TRANSACCIONES EN ACTIVOS NO FINANCIEROS</td>\n",
       "      <td>ADQUISICION NETA DE ACTIVOS NO FINANCIEROS</td>\n",
       "      <td>Venta de activos físicos</td>\n",
       "      <td>-43191.08</td>\n",
       "    </tr>\n",
       "    <tr>\n",
       "      <th>60</th>\n",
       "      <td>1994</td>\n",
       "      <td>TRANSACCIONES EN ACTIVOS NO FINANCIEROS</td>\n",
       "      <td>ADQUISICION NETA DE ACTIVOS NO FINANCIEROS</td>\n",
       "      <td>Venta de activos físicos</td>\n",
       "      <td>-44478.33</td>\n",
       "    </tr>\n",
       "    <tr>\n",
       "      <th>61</th>\n",
       "      <td>1995</td>\n",
       "      <td>TRANSACCIONES EN ACTIVOS NO FINANCIEROS</td>\n",
       "      <td>ADQUISICION NETA DE ACTIVOS NO FINANCIEROS</td>\n",
       "      <td>Venta de activos físicos</td>\n",
       "      <td>-31664.74</td>\n",
       "    </tr>\n",
       "    <tr>\n",
       "      <th>62</th>\n",
       "      <td>1996</td>\n",
       "      <td>TRANSACCIONES EN ACTIVOS NO FINANCIEROS</td>\n",
       "      <td>ADQUISICION NETA DE ACTIVOS NO FINANCIEROS</td>\n",
       "      <td>Venta de activos físicos</td>\n",
       "      <td>-18877.27</td>\n",
       "    </tr>\n",
       "    <tr>\n",
       "      <th>63</th>\n",
       "      <td>1997</td>\n",
       "      <td>TRANSACCIONES EN ACTIVOS NO FINANCIEROS</td>\n",
       "      <td>ADQUISICION NETA DE ACTIVOS NO FINANCIEROS</td>\n",
       "      <td>Venta de activos físicos</td>\n",
       "      <td>-47438.86</td>\n",
       "    </tr>\n",
       "    <tr>\n",
       "      <th>64</th>\n",
       "      <td>1998</td>\n",
       "      <td>TRANSACCIONES EN ACTIVOS NO FINANCIEROS</td>\n",
       "      <td>ADQUISICION NETA DE ACTIVOS NO FINANCIEROS</td>\n",
       "      <td>Venta de activos físicos</td>\n",
       "      <td>-35591.36</td>\n",
       "    </tr>\n",
       "    <tr>\n",
       "      <th>65</th>\n",
       "      <td>1999</td>\n",
       "      <td>TRANSACCIONES EN ACTIVOS NO FINANCIEROS</td>\n",
       "      <td>ADQUISICION NETA DE ACTIVOS NO FINANCIEROS</td>\n",
       "      <td>Venta de activos físicos</td>\n",
       "      <td>-12776.47</td>\n",
       "    </tr>\n",
       "    <tr>\n",
       "      <th>66</th>\n",
       "      <td>2000</td>\n",
       "      <td>TRANSACCIONES EN ACTIVOS NO FINANCIEROS</td>\n",
       "      <td>ADQUISICION NETA DE ACTIVOS NO FINANCIEROS</td>\n",
       "      <td>Venta de activos físicos</td>\n",
       "      <td>-15483.03</td>\n",
       "    </tr>\n",
       "    <tr>\n",
       "      <th>67</th>\n",
       "      <td>2001</td>\n",
       "      <td>TRANSACCIONES EN ACTIVOS NO FINANCIEROS</td>\n",
       "      <td>ADQUISICION NETA DE ACTIVOS NO FINANCIEROS</td>\n",
       "      <td>Venta de activos físicos</td>\n",
       "      <td>-19958.69</td>\n",
       "    </tr>\n",
       "    <tr>\n",
       "      <th>68</th>\n",
       "      <td>2002</td>\n",
       "      <td>TRANSACCIONES EN ACTIVOS NO FINANCIEROS</td>\n",
       "      <td>ADQUISICION NETA DE ACTIVOS NO FINANCIEROS</td>\n",
       "      <td>Venta de activos físicos</td>\n",
       "      <td>-31254.84</td>\n",
       "    </tr>\n",
       "    <tr>\n",
       "      <th>69</th>\n",
       "      <td>2003</td>\n",
       "      <td>TRANSACCIONES EN ACTIVOS NO FINANCIEROS</td>\n",
       "      <td>ADQUISICION NETA DE ACTIVOS NO FINANCIEROS</td>\n",
       "      <td>Venta de activos físicos</td>\n",
       "      <td>-17894.35</td>\n",
       "    </tr>\n",
       "    <tr>\n",
       "      <th>70</th>\n",
       "      <td>2004</td>\n",
       "      <td>TRANSACCIONES EN ACTIVOS NO FINANCIEROS</td>\n",
       "      <td>ADQUISICION NETA DE ACTIVOS NO FINANCIEROS</td>\n",
       "      <td>Venta de activos físicos</td>\n",
       "      <td>-32679.07</td>\n",
       "    </tr>\n",
       "    <tr>\n",
       "      <th>71</th>\n",
       "      <td>2005</td>\n",
       "      <td>TRANSACCIONES EN ACTIVOS NO FINANCIEROS</td>\n",
       "      <td>ADQUISICION NETA DE ACTIVOS NO FINANCIEROS</td>\n",
       "      <td>Venta de activos físicos</td>\n",
       "      <td>-40323.80</td>\n",
       "    </tr>\n",
       "    <tr>\n",
       "      <th>72</th>\n",
       "      <td>2006</td>\n",
       "      <td>TRANSACCIONES EN ACTIVOS NO FINANCIEROS</td>\n",
       "      <td>ADQUISICION NETA DE ACTIVOS NO FINANCIEROS</td>\n",
       "      <td>Venta de activos físicos</td>\n",
       "      <td>-27297.56</td>\n",
       "    </tr>\n",
       "    <tr>\n",
       "      <th>73</th>\n",
       "      <td>2007</td>\n",
       "      <td>TRANSACCIONES EN ACTIVOS NO FINANCIEROS</td>\n",
       "      <td>ADQUISICION NETA DE ACTIVOS NO FINANCIEROS</td>\n",
       "      <td>Venta de activos físicos</td>\n",
       "      <td>-18291.74</td>\n",
       "    </tr>\n",
       "    <tr>\n",
       "      <th>74</th>\n",
       "      <td>2008</td>\n",
       "      <td>TRANSACCIONES EN ACTIVOS NO FINANCIEROS</td>\n",
       "      <td>ADQUISICION NETA DE ACTIVOS NO FINANCIEROS</td>\n",
       "      <td>Venta de activos físicos</td>\n",
       "      <td>-31240.67</td>\n",
       "    </tr>\n",
       "    <tr>\n",
       "      <th>75</th>\n",
       "      <td>2009</td>\n",
       "      <td>TRANSACCIONES EN ACTIVOS NO FINANCIEROS</td>\n",
       "      <td>ADQUISICION NETA DE ACTIVOS NO FINANCIEROS</td>\n",
       "      <td>Venta de activos físicos</td>\n",
       "      <td>-66713.53</td>\n",
       "    </tr>\n",
       "    <tr>\n",
       "      <th>76</th>\n",
       "      <td>2010</td>\n",
       "      <td>TRANSACCIONES EN ACTIVOS NO FINANCIEROS</td>\n",
       "      <td>ADQUISICION NETA DE ACTIVOS NO FINANCIEROS</td>\n",
       "      <td>Venta de activos físicos</td>\n",
       "      <td>-34915.65</td>\n",
       "    </tr>\n",
       "    <tr>\n",
       "      <th>77</th>\n",
       "      <td>2011</td>\n",
       "      <td>TRANSACCIONES EN ACTIVOS NO FINANCIEROS</td>\n",
       "      <td>ADQUISICION NETA DE ACTIVOS NO FINANCIEROS</td>\n",
       "      <td>Venta de activos físicos</td>\n",
       "      <td>-26020.42</td>\n",
       "    </tr>\n",
       "    <tr>\n",
       "      <th>78</th>\n",
       "      <td>2012</td>\n",
       "      <td>TRANSACCIONES EN ACTIVOS NO FINANCIEROS</td>\n",
       "      <td>ADQUISICION NETA DE ACTIVOS NO FINANCIEROS</td>\n",
       "      <td>Venta de activos físicos</td>\n",
       "      <td>-40273.02</td>\n",
       "    </tr>\n",
       "    <tr>\n",
       "      <th>79</th>\n",
       "      <td>2013</td>\n",
       "      <td>TRANSACCIONES EN ACTIVOS NO FINANCIEROS</td>\n",
       "      <td>ADQUISICION NETA DE ACTIVOS NO FINANCIEROS</td>\n",
       "      <td>Venta de activos físicos</td>\n",
       "      <td>-52804.96</td>\n",
       "    </tr>\n",
       "    <tr>\n",
       "      <th>80</th>\n",
       "      <td>2014</td>\n",
       "      <td>TRANSACCIONES EN ACTIVOS NO FINANCIEROS</td>\n",
       "      <td>ADQUISICION NETA DE ACTIVOS NO FINANCIEROS</td>\n",
       "      <td>Venta de activos físicos</td>\n",
       "      <td>-36645.30</td>\n",
       "    </tr>\n",
       "    <tr>\n",
       "      <th>81</th>\n",
       "      <td>2015</td>\n",
       "      <td>TRANSACCIONES EN ACTIVOS NO FINANCIEROS</td>\n",
       "      <td>ADQUISICION NETA DE ACTIVOS NO FINANCIEROS</td>\n",
       "      <td>Venta de activos físicos</td>\n",
       "      <td>-44837.30</td>\n",
       "    </tr>\n",
       "    <tr>\n",
       "      <th>82</th>\n",
       "      <td>2016</td>\n",
       "      <td>TRANSACCIONES EN ACTIVOS NO FINANCIEROS</td>\n",
       "      <td>ADQUISICION NETA DE ACTIVOS NO FINANCIEROS</td>\n",
       "      <td>Venta de activos físicos</td>\n",
       "      <td>-37554.63</td>\n",
       "    </tr>\n",
       "    <tr>\n",
       "      <th>83</th>\n",
       "      <td>2017</td>\n",
       "      <td>TRANSACCIONES EN ACTIVOS NO FINANCIEROS</td>\n",
       "      <td>ADQUISICION NETA DE ACTIVOS NO FINANCIEROS</td>\n",
       "      <td>Venta de activos físicos</td>\n",
       "      <td>-16224.99</td>\n",
       "    </tr>\n",
       "  </tbody>\n",
       "</table>\n",
       "</div>"
      ],
      "text/plain": [
       "    periodo                                   nivel1  \\\n",
       "56     1990  TRANSACCIONES EN ACTIVOS NO FINANCIEROS   \n",
       "57     1991  TRANSACCIONES EN ACTIVOS NO FINANCIEROS   \n",
       "58     1992  TRANSACCIONES EN ACTIVOS NO FINANCIEROS   \n",
       "59     1993  TRANSACCIONES EN ACTIVOS NO FINANCIEROS   \n",
       "60     1994  TRANSACCIONES EN ACTIVOS NO FINANCIEROS   \n",
       "61     1995  TRANSACCIONES EN ACTIVOS NO FINANCIEROS   \n",
       "62     1996  TRANSACCIONES EN ACTIVOS NO FINANCIEROS   \n",
       "63     1997  TRANSACCIONES EN ACTIVOS NO FINANCIEROS   \n",
       "64     1998  TRANSACCIONES EN ACTIVOS NO FINANCIEROS   \n",
       "65     1999  TRANSACCIONES EN ACTIVOS NO FINANCIEROS   \n",
       "66     2000  TRANSACCIONES EN ACTIVOS NO FINANCIEROS   \n",
       "67     2001  TRANSACCIONES EN ACTIVOS NO FINANCIEROS   \n",
       "68     2002  TRANSACCIONES EN ACTIVOS NO FINANCIEROS   \n",
       "69     2003  TRANSACCIONES EN ACTIVOS NO FINANCIEROS   \n",
       "70     2004  TRANSACCIONES EN ACTIVOS NO FINANCIEROS   \n",
       "71     2005  TRANSACCIONES EN ACTIVOS NO FINANCIEROS   \n",
       "72     2006  TRANSACCIONES EN ACTIVOS NO FINANCIEROS   \n",
       "73     2007  TRANSACCIONES EN ACTIVOS NO FINANCIEROS   \n",
       "74     2008  TRANSACCIONES EN ACTIVOS NO FINANCIEROS   \n",
       "75     2009  TRANSACCIONES EN ACTIVOS NO FINANCIEROS   \n",
       "76     2010  TRANSACCIONES EN ACTIVOS NO FINANCIEROS   \n",
       "77     2011  TRANSACCIONES EN ACTIVOS NO FINANCIEROS   \n",
       "78     2012  TRANSACCIONES EN ACTIVOS NO FINANCIEROS   \n",
       "79     2013  TRANSACCIONES EN ACTIVOS NO FINANCIEROS   \n",
       "80     2014  TRANSACCIONES EN ACTIVOS NO FINANCIEROS   \n",
       "81     2015  TRANSACCIONES EN ACTIVOS NO FINANCIEROS   \n",
       "82     2016  TRANSACCIONES EN ACTIVOS NO FINANCIEROS   \n",
       "83     2017  TRANSACCIONES EN ACTIVOS NO FINANCIEROS   \n",
       "\n",
       "                                        nivel2                    nivel3  \\\n",
       "56  ADQUISICION NETA DE ACTIVOS NO FINANCIEROS  Venta de activos físicos   \n",
       "57  ADQUISICION NETA DE ACTIVOS NO FINANCIEROS  Venta de activos físicos   \n",
       "58  ADQUISICION NETA DE ACTIVOS NO FINANCIEROS  Venta de activos físicos   \n",
       "59  ADQUISICION NETA DE ACTIVOS NO FINANCIEROS  Venta de activos físicos   \n",
       "60  ADQUISICION NETA DE ACTIVOS NO FINANCIEROS  Venta de activos físicos   \n",
       "61  ADQUISICION NETA DE ACTIVOS NO FINANCIEROS  Venta de activos físicos   \n",
       "62  ADQUISICION NETA DE ACTIVOS NO FINANCIEROS  Venta de activos físicos   \n",
       "63  ADQUISICION NETA DE ACTIVOS NO FINANCIEROS  Venta de activos físicos   \n",
       "64  ADQUISICION NETA DE ACTIVOS NO FINANCIEROS  Venta de activos físicos   \n",
       "65  ADQUISICION NETA DE ACTIVOS NO FINANCIEROS  Venta de activos físicos   \n",
       "66  ADQUISICION NETA DE ACTIVOS NO FINANCIEROS  Venta de activos físicos   \n",
       "67  ADQUISICION NETA DE ACTIVOS NO FINANCIEROS  Venta de activos físicos   \n",
       "68  ADQUISICION NETA DE ACTIVOS NO FINANCIEROS  Venta de activos físicos   \n",
       "69  ADQUISICION NETA DE ACTIVOS NO FINANCIEROS  Venta de activos físicos   \n",
       "70  ADQUISICION NETA DE ACTIVOS NO FINANCIEROS  Venta de activos físicos   \n",
       "71  ADQUISICION NETA DE ACTIVOS NO FINANCIEROS  Venta de activos físicos   \n",
       "72  ADQUISICION NETA DE ACTIVOS NO FINANCIEROS  Venta de activos físicos   \n",
       "73  ADQUISICION NETA DE ACTIVOS NO FINANCIEROS  Venta de activos físicos   \n",
       "74  ADQUISICION NETA DE ACTIVOS NO FINANCIEROS  Venta de activos físicos   \n",
       "75  ADQUISICION NETA DE ACTIVOS NO FINANCIEROS  Venta de activos físicos   \n",
       "76  ADQUISICION NETA DE ACTIVOS NO FINANCIEROS  Venta de activos físicos   \n",
       "77  ADQUISICION NETA DE ACTIVOS NO FINANCIEROS  Venta de activos físicos   \n",
       "78  ADQUISICION NETA DE ACTIVOS NO FINANCIEROS  Venta de activos físicos   \n",
       "79  ADQUISICION NETA DE ACTIVOS NO FINANCIEROS  Venta de activos físicos   \n",
       "80  ADQUISICION NETA DE ACTIVOS NO FINANCIEROS  Venta de activos físicos   \n",
       "81  ADQUISICION NETA DE ACTIVOS NO FINANCIEROS  Venta de activos físicos   \n",
       "82  ADQUISICION NETA DE ACTIVOS NO FINANCIEROS  Venta de activos físicos   \n",
       "83  ADQUISICION NETA DE ACTIVOS NO FINANCIEROS  Venta de activos físicos   \n",
       "\n",
       "    real_amount  \n",
       "56    -55042.96  \n",
       "57    -76356.02  \n",
       "58    -56027.22  \n",
       "59    -43191.08  \n",
       "60    -44478.33  \n",
       "61    -31664.74  \n",
       "62    -18877.27  \n",
       "63    -47438.86  \n",
       "64    -35591.36  \n",
       "65    -12776.47  \n",
       "66    -15483.03  \n",
       "67    -19958.69  \n",
       "68    -31254.84  \n",
       "69    -17894.35  \n",
       "70    -32679.07  \n",
       "71    -40323.80  \n",
       "72    -27297.56  \n",
       "73    -18291.74  \n",
       "74    -31240.67  \n",
       "75    -66713.53  \n",
       "76    -34915.65  \n",
       "77    -26020.42  \n",
       "78    -40273.02  \n",
       "79    -52804.96  \n",
       "80    -36645.30  \n",
       "81    -44837.30  \n",
       "82    -37554.63  \n",
       "83    -16224.99  "
      ]
     },
     "execution_count": 14,
     "metadata": {},
     "output_type": "execute_result"
    }
   ],
   "source": [
    "spend_gob[spend_gob['real_amount'] < 0]"
   ]
  },
  {
   "cell_type": "code",
   "execution_count": 13,
   "metadata": {},
   "outputs": [
    {
     "data": {
      "text/plain": [
       "<matplotlib.axes._subplots.AxesSubplot at 0x7fdfdb65fcf8>"
      ]
     },
     "execution_count": 13,
     "metadata": {},
     "output_type": "execute_result"
    }
   ],
   "source": [
    "spend_gob['nivel2']"
   ]
  },
  {
   "cell_type": "code",
   "execution_count": null,
   "metadata": {},
   "outputs": [],
   "source": [
    "for col in s"
   ]
  },
  {
   "cell_type": "markdown",
   "metadata": {},
   "source": [
    "Ejemplito"
   ]
  },
  {
   "cell_type": "code",
   "execution_count": null,
   "metadata": {},
   "outputs": [],
   "source": []
  },
  {
   "cell_type": "code",
   "execution_count": 9,
   "metadata": {},
   "outputs": [],
   "source": [
    "cobre = spend_gob.query(\"nivel3 == 'Cobre bruto'\")"
   ]
  },
  {
   "cell_type": "code",
   "execution_count": 28,
   "metadata": {},
   "outputs": [
    {
     "data": {
      "application/vnd.vegalite.v2+json": {
       "$schema": "https://vega.github.io/schema/vega-lite/v2.4.1.json",
       "config": {
        "view": {
         "height": 300,
         "width": 400
        }
       },
       "data": {
        "values": [
         {
          "nivel1": "TRANSACCIONES QUE AFECTAN EL PATRIMONIO NETO",
          "nivel2": "INGRESOS",
          "nivel3": "Cobre bruto",
          "periodo": 1990,
          "real_amount": 1935051.72
         },
         {
          "nivel1": "TRANSACCIONES QUE AFECTAN EL PATRIMONIO NETO",
          "nivel2": "INGRESOS",
          "nivel3": "Cobre bruto",
          "periodo": 1991,
          "real_amount": 1039128.11
         },
         {
          "nivel1": "TRANSACCIONES QUE AFECTAN EL PATRIMONIO NETO",
          "nivel2": "INGRESOS",
          "nivel3": "Cobre bruto",
          "periodo": 1992,
          "real_amount": 950370.46
         },
         {
          "nivel1": "TRANSACCIONES QUE AFECTAN EL PATRIMONIO NETO",
          "nivel2": "INGRESOS",
          "nivel3": "Cobre bruto",
          "periodo": 1993,
          "real_amount": 434457.23
         },
         {
          "nivel1": "TRANSACCIONES QUE AFECTAN EL PATRIMONIO NETO",
          "nivel2": "INGRESOS",
          "nivel3": "Cobre bruto",
          "periodo": 1994,
          "real_amount": 775337.35
         },
         {
          "nivel1": "TRANSACCIONES QUE AFECTAN EL PATRIMONIO NETO",
          "nivel2": "INGRESOS",
          "nivel3": "Cobre bruto",
          "periodo": 1995,
          "real_amount": 1499926.13
         },
         {
          "nivel1": "TRANSACCIONES QUE AFECTAN EL PATRIMONIO NETO",
          "nivel2": "INGRESOS",
          "nivel3": "Cobre bruto",
          "periodo": 1996,
          "real_amount": 831721.57
         },
         {
          "nivel1": "TRANSACCIONES QUE AFECTAN EL PATRIMONIO NETO",
          "nivel2": "INGRESOS",
          "nivel3": "Cobre bruto",
          "periodo": 1997,
          "real_amount": 905255.35
         },
         {
          "nivel1": "TRANSACCIONES QUE AFECTAN EL PATRIMONIO NETO",
          "nivel2": "INGRESOS",
          "nivel3": "Cobre bruto",
          "periodo": 1998,
          "real_amount": 275738.59
         },
         {
          "nivel1": "TRANSACCIONES QUE AFECTAN EL PATRIMONIO NETO",
          "nivel2": "INGRESOS",
          "nivel3": "Cobre bruto",
          "periodo": 1999,
          "real_amount": 246277.11
         },
         {
          "nivel1": "TRANSACCIONES QUE AFECTAN EL PATRIMONIO NETO",
          "nivel2": "INGRESOS",
          "nivel3": "Cobre bruto",
          "periodo": 2000,
          "real_amount": 648056.48
         },
         {
          "nivel1": "TRANSACCIONES QUE AFECTAN EL PATRIMONIO NETO",
          "nivel2": "INGRESOS",
          "nivel3": "Cobre bruto",
          "periodo": 2001,
          "real_amount": 375225.32
         },
         {
          "nivel1": "TRANSACCIONES QUE AFECTAN EL PATRIMONIO NETO",
          "nivel2": "INGRESOS",
          "nivel3": "Cobre bruto",
          "periodo": 2002,
          "real_amount": 350431.25
         },
         {
          "nivel1": "TRANSACCIONES QUE AFECTAN EL PATRIMONIO NETO",
          "nivel2": "INGRESOS",
          "nivel3": "Cobre bruto",
          "periodo": 2003,
          "real_amount": 681729.25
         },
         {
          "nivel1": "TRANSACCIONES QUE AFECTAN EL PATRIMONIO NETO",
          "nivel2": "INGRESOS",
          "nivel3": "Cobre bruto",
          "periodo": 2004,
          "real_amount": 2760048.04
         },
         {
          "nivel1": "TRANSACCIONES QUE AFECTAN EL PATRIMONIO NETO",
          "nivel2": "INGRESOS",
          "nivel3": "Cobre bruto",
          "periodo": 2005,
          "real_amount": 3704834.85
         },
         {
          "nivel1": "TRANSACCIONES QUE AFECTAN EL PATRIMONIO NETO",
          "nivel2": "INGRESOS",
          "nivel3": "Cobre bruto",
          "periodo": 2006,
          "real_amount": 6506311.41
         },
         {
          "nivel1": "TRANSACCIONES QUE AFECTAN EL PATRIMONIO NETO",
          "nivel2": "INGRESOS",
          "nivel3": "Cobre bruto",
          "periodo": 2007,
          "real_amount": 5824599.82
         },
         {
          "nivel1": "TRANSACCIONES QUE AFECTAN EL PATRIMONIO NETO",
          "nivel2": "INGRESOS",
          "nivel3": "Cobre bruto",
          "periodo": 2008,
          "real_amount": 4138031.8
         },
         {
          "nivel1": "TRANSACCIONES QUE AFECTAN EL PATRIMONIO NETO",
          "nivel2": "INGRESOS",
          "nivel3": "Cobre bruto",
          "periodo": 2009,
          "real_amount": 2030682.3
         },
         {
          "nivel1": "TRANSACCIONES QUE AFECTAN EL PATRIMONIO NETO",
          "nivel2": "INGRESOS",
          "nivel3": "Cobre bruto",
          "periodo": 2010,
          "real_amount": 3819539.17
         },
         {
          "nivel1": "TRANSACCIONES QUE AFECTAN EL PATRIMONIO NETO",
          "nivel2": "INGRESOS",
          "nivel3": "Cobre bruto",
          "periodo": 2011,
          "real_amount": 3360128.37
         },
         {
          "nivel1": "TRANSACCIONES QUE AFECTAN EL PATRIMONIO NETO",
          "nivel2": "INGRESOS",
          "nivel3": "Cobre bruto",
          "periodo": 2012,
          "real_amount": 2316530.09
         },
         {
          "nivel1": "TRANSACCIONES QUE AFECTAN EL PATRIMONIO NETO",
          "nivel2": "INGRESOS",
          "nivel3": "Cobre bruto",
          "periodo": 2013,
          "real_amount": 1637152.96
         },
         {
          "nivel1": "TRANSACCIONES QUE AFECTAN EL PATRIMONIO NETO",
          "nivel2": "INGRESOS",
          "nivel3": "Cobre bruto",
          "periodo": 2014,
          "real_amount": 1497921.75
         },
         {
          "nivel1": "TRANSACCIONES QUE AFECTAN EL PATRIMONIO NETO",
          "nivel2": "INGRESOS",
          "nivel3": "Cobre bruto",
          "periodo": 2015,
          "real_amount": 746262.73
         },
         {
          "nivel1": "TRANSACCIONES QUE AFECTAN EL PATRIMONIO NETO",
          "nivel2": "INGRESOS",
          "nivel3": "Cobre bruto",
          "periodo": 2016,
          "real_amount": 612811.37
         },
         {
          "nivel1": "TRANSACCIONES QUE AFECTAN EL PATRIMONIO NETO",
          "nivel2": "INGRESOS",
          "nivel3": "Cobre bruto",
          "periodo": 2017,
          "real_amount": 898899.7
         }
        ]
       },
       "encoding": {
        "color": {
         "field": "nivel3",
         "type": "nominal"
        },
        "x": {
         "field": "periodo",
         "type": "ordinal"
        },
        "y": {
         "aggregate": "sum",
         "field": "real_amount",
         "type": "quantitative"
        }
       },
       "mark": "bar"
      },
      "image/png": "[encoded data removed]",
      "text/plain": [
       "<VegaLite 2 object>\n",
       "\n",
       "If you see this message, it means the renderer has not been properly enabled\n",
       "for the frontend that you are using. For more information, see\n",
       "https://altair-viz.github.io/user_guide/troubleshooting.html\n"
      ]
     },
     "execution_count": 28,
     "metadata": {},
     "output_type": "execute_result"
    }
   ],
   "source": [
    "alt.Chart(cobre).mark_bar().encode(\n",
    "    x='periodo:O',\n",
    "    y='sum(real_amount):Q',\n",
    "    color='nivel3'\n",
    ")"
   ]
  },
  {
   "cell_type": "code",
   "execution_count": 23,
   "metadata": {},
   "outputs": [
    {
     "data": {
      "application/vnd.vegalite.v2+json": {
       "$schema": "https://vega.github.io/schema/vega-lite/v2.4.1.json",
       "config": {
        "view": {
         "height": 300,
         "width": 400
        }
       },
       "data": {
        "values": [
         {
          "nivel1": "TRANSACCIONES EN ACTIVOS NO FINANCIEROS",
          "nivel2": "ADQUISICION NETA DE ACTIVOS NO FINANCIEROS",
          "nivel3": "Inversión",
          "periodo": 1990,
          "real_amount": 786184.56
         },
         {
          "nivel1": "TRANSACCIONES EN ACTIVOS NO FINANCIEROS",
          "nivel2": "ADQUISICION NETA DE ACTIVOS NO FINANCIEROS",
          "nivel3": "Inversión",
          "periodo": 1991,
          "real_amount": 970813.77
         },
         {
          "nivel1": "TRANSACCIONES EN ACTIVOS NO FINANCIEROS",
          "nivel2": "ADQUISICION NETA DE ACTIVOS NO FINANCIEROS",
          "nivel3": "Inversión",
          "periodo": 1992,
          "real_amount": 1165103.28
         },
         {
          "nivel1": "TRANSACCIONES EN ACTIVOS NO FINANCIEROS",
          "nivel2": "ADQUISICION NETA DE ACTIVOS NO FINANCIEROS",
          "nivel3": "Inversión",
          "periodo": 1993,
          "real_amount": 1432888.73
         },
         {
          "nivel1": "TRANSACCIONES EN ACTIVOS NO FINANCIEROS",
          "nivel2": "ADQUISICION NETA DE ACTIVOS NO FINANCIEROS",
          "nivel3": "Inversión",
          "periodo": 1994,
          "real_amount": 1568702.18
         },
         {
          "nivel1": "TRANSACCIONES EN ACTIVOS NO FINANCIEROS",
          "nivel2": "ADQUISICION NETA DE ACTIVOS NO FINANCIEROS",
          "nivel3": "Inversión",
          "periodo": 1995,
          "real_amount": 1617837.35
         },
         {
          "nivel1": "TRANSACCIONES EN ACTIVOS NO FINANCIEROS",
          "nivel2": "ADQUISICION NETA DE ACTIVOS NO FINANCIEROS",
          "nivel3": "Inversión",
          "periodo": 1996,
          "real_amount": 1826964.24
         },
         {
          "nivel1": "TRANSACCIONES EN ACTIVOS NO FINANCIEROS",
          "nivel2": "ADQUISICION NETA DE ACTIVOS NO FINANCIEROS",
          "nivel3": "Inversión",
          "periodo": 1997,
          "real_amount": 1931622.91
         },
         {
          "nivel1": "TRANSACCIONES EN ACTIVOS NO FINANCIEROS",
          "nivel2": "ADQUISICION NETA DE ACTIVOS NO FINANCIEROS",
          "nivel3": "Inversión",
          "periodo": 1998,
          "real_amount": 1989009.57
         },
         {
          "nivel1": "TRANSACCIONES EN ACTIVOS NO FINANCIEROS",
          "nivel2": "ADQUISICION NETA DE ACTIVOS NO FINANCIEROS",
          "nivel3": "Inversión",
          "periodo": 1999,
          "real_amount": 1859949.75
         },
         {
          "nivel1": "TRANSACCIONES EN ACTIVOS NO FINANCIEROS",
          "nivel2": "ADQUISICION NETA DE ACTIVOS NO FINANCIEROS",
          "nivel3": "Inversión",
          "periodo": 2000,
          "real_amount": 1562766.51
         },
         {
          "nivel1": "TRANSACCIONES EN ACTIVOS NO FINANCIEROS",
          "nivel2": "ADQUISICION NETA DE ACTIVOS NO FINANCIEROS",
          "nivel3": "Inversión",
          "periodo": 2001,
          "real_amount": 1632412.74
         },
         {
          "nivel1": "TRANSACCIONES EN ACTIVOS NO FINANCIEROS",
          "nivel2": "ADQUISICION NETA DE ACTIVOS NO FINANCIEROS",
          "nivel3": "Inversión",
          "periodo": 2002,
          "real_amount": 1677770.39
         },
         {
          "nivel1": "TRANSACCIONES EN ACTIVOS NO FINANCIEROS",
          "nivel2": "ADQUISICION NETA DE ACTIVOS NO FINANCIEROS",
          "nivel3": "Inversión",
          "periodo": 2003,
          "real_amount": 1601419.53
         },
         {
          "nivel1": "TRANSACCIONES EN ACTIVOS NO FINANCIEROS",
          "nivel2": "ADQUISICION NETA DE ACTIVOS NO FINANCIEROS",
          "nivel3": "Inversión",
          "periodo": 2004,
          "real_amount": 1645145.08
         },
         {
          "nivel1": "TRANSACCIONES EN ACTIVOS NO FINANCIEROS",
          "nivel2": "ADQUISICION NETA DE ACTIVOS NO FINANCIEROS",
          "nivel3": "Inversión",
          "periodo": 2005,
          "real_amount": 1835308.42
         },
         {
          "nivel1": "TRANSACCIONES EN ACTIVOS NO FINANCIEROS",
          "nivel2": "ADQUISICION NETA DE ACTIVOS NO FINANCIEROS",
          "nivel3": "Inversión",
          "periodo": 2006,
          "real_amount": 2018509.75
         },
         {
          "nivel1": "TRANSACCIONES EN ACTIVOS NO FINANCIEROS",
          "nivel2": "ADQUISICION NETA DE ACTIVOS NO FINANCIEROS",
          "nivel3": "Inversión",
          "periodo": 2007,
          "real_amount": 2516236.76
         },
         {
          "nivel1": "TRANSACCIONES EN ACTIVOS NO FINANCIEROS",
          "nivel2": "ADQUISICION NETA DE ACTIVOS NO FINANCIEROS",
          "nivel3": "Inversión",
          "periodo": 2008,
          "real_amount": 2607708.31
         },
         {
          "nivel1": "TRANSACCIONES EN ACTIVOS NO FINANCIEROS",
          "nivel2": "ADQUISICION NETA DE ACTIVOS NO FINANCIEROS",
          "nivel3": "Inversión",
          "periodo": 2009,
          "real_amount": 3157390.92
         },
         {
          "nivel1": "TRANSACCIONES EN ACTIVOS NO FINANCIEROS",
          "nivel2": "ADQUISICION NETA DE ACTIVOS NO FINANCIEROS",
          "nivel3": "Inversión",
          "periodo": 2010,
          "real_amount": 2944981.93
         },
         {
          "nivel1": "TRANSACCIONES EN ACTIVOS NO FINANCIEROS",
          "nivel2": "ADQUISICION NETA DE ACTIVOS NO FINANCIEROS",
          "nivel3": "Inversión",
          "periodo": 2011,
          "real_amount": 3164625.48
         },
         {
          "nivel1": "TRANSACCIONES EN ACTIVOS NO FINANCIEROS",
          "nivel2": "ADQUISICION NETA DE ACTIVOS NO FINANCIEROS",
          "nivel3": "Inversión",
          "periodo": 2012,
          "real_amount": 3155731.8
         },
         {
          "nivel1": "TRANSACCIONES EN ACTIVOS NO FINANCIEROS",
          "nivel2": "ADQUISICION NETA DE ACTIVOS NO FINANCIEROS",
          "nivel3": "Inversión",
          "periodo": 2013,
          "real_amount": 3157787.59
         },
         {
          "nivel1": "TRANSACCIONES EN ACTIVOS NO FINANCIEROS",
          "nivel2": "ADQUISICION NETA DE ACTIVOS NO FINANCIEROS",
          "nivel3": "Inversión",
          "periodo": 2014,
          "real_amount": 3297143.37
         },
         {
          "nivel1": "TRANSACCIONES EN ACTIVOS NO FINANCIEROS",
          "nivel2": "ADQUISICION NETA DE ACTIVOS NO FINANCIEROS",
          "nivel3": "Inversión",
          "periodo": 2015,
          "real_amount": 3879617.14
         },
         {
          "nivel1": "TRANSACCIONES EN ACTIVOS NO FINANCIEROS",
          "nivel2": "ADQUISICION NETA DE ACTIVOS NO FINANCIEROS",
          "nivel3": "Inversión",
          "periodo": 2016,
          "real_amount": 3645821.67
         },
         {
          "nivel1": "TRANSACCIONES EN ACTIVOS NO FINANCIEROS",
          "nivel2": "ADQUISICION NETA DE ACTIVOS NO FINANCIEROS",
          "nivel3": "Inversión",
          "periodo": 2017,
          "real_amount": 3640691.67
         },
         {
          "nivel1": "TRANSACCIONES EN ACTIVOS NO FINANCIEROS",
          "nivel2": "ADQUISICION NETA DE ACTIVOS NO FINANCIEROS",
          "nivel3": "Transferencias de capital",
          "periodo": 1990,
          "real_amount": 108467.02
         },
         {
          "nivel1": "TRANSACCIONES EN ACTIVOS NO FINANCIEROS",
          "nivel2": "ADQUISICION NETA DE ACTIVOS NO FINANCIEROS",
          "nivel3": "Transferencias de capital",
          "periodo": 1991,
          "real_amount": 89965.3
         },
         {
          "nivel1": "TRANSACCIONES EN ACTIVOS NO FINANCIEROS",
          "nivel2": "ADQUISICION NETA DE ACTIVOS NO FINANCIEROS",
          "nivel3": "Transferencias de capital",
          "periodo": 1992,
          "real_amount": 155784.25
         },
         {
          "nivel1": "TRANSACCIONES EN ACTIVOS NO FINANCIEROS",
          "nivel2": "ADQUISICION NETA DE ACTIVOS NO FINANCIEROS",
          "nivel3": "Transferencias de capital",
          "periodo": 1993,
          "real_amount": 87082.97
         },
         {
          "nivel1": "TRANSACCIONES EN ACTIVOS NO FINANCIEROS",
          "nivel2": "ADQUISICION NETA DE ACTIVOS NO FINANCIEROS",
          "nivel3": "Transferencias de capital",
          "periodo": 1994,
          "real_amount": 143977.41
         },
         {
          "nivel1": "TRANSACCIONES EN ACTIVOS NO FINANCIEROS",
          "nivel2": "ADQUISICION NETA DE ACTIVOS NO FINANCIEROS",
          "nivel3": "Transferencias de capital",
          "periodo": 1995,
          "real_amount": 169055.98
         },
         {
          "nivel1": "TRANSACCIONES EN ACTIVOS NO FINANCIEROS",
          "nivel2": "ADQUISICION NETA DE ACTIVOS NO FINANCIEROS",
          "nivel3": "Transferencias de capital",
          "periodo": 1996,
          "real_amount": 260722.83
         },
         {
          "nivel1": "TRANSACCIONES EN ACTIVOS NO FINANCIEROS",
          "nivel2": "ADQUISICION NETA DE ACTIVOS NO FINANCIEROS",
          "nivel3": "Transferencias de capital",
          "periodo": 1997,
          "real_amount": 247811.06
         },
         {
          "nivel1": "TRANSACCIONES EN ACTIVOS NO FINANCIEROS",
          "nivel2": "ADQUISICION NETA DE ACTIVOS NO FINANCIEROS",
          "nivel3": "Transferencias de capital",
          "periodo": 1998,
          "real_amount": 327400.12
         },
         {
          "nivel1": "TRANSACCIONES EN ACTIVOS NO FINANCIEROS",
          "nivel2": "ADQUISICION NETA DE ACTIVOS NO FINANCIEROS",
          "nivel3": "Transferencias de capital",
          "periodo": 1999,
          "real_amount": 564651.41
         },
         {
          "nivel1": "TRANSACCIONES EN ACTIVOS NO FINANCIEROS",
          "nivel2": "ADQUISICION NETA DE ACTIVOS NO FINANCIEROS",
          "nivel3": "Transferencias de capital",
          "periodo": 2000,
          "real_amount": 675932.49
         },
         {
          "nivel1": "TRANSACCIONES EN ACTIVOS NO FINANCIEROS",
          "nivel2": "ADQUISICION NETA DE ACTIVOS NO FINANCIEROS",
          "nivel3": "Transferencias de capital",
          "periodo": 2001,
          "real_amount": 807871.23
         },
         {
          "nivel1": "TRANSACCIONES EN ACTIVOS NO FINANCIEROS",
          "nivel2": "ADQUISICION NETA DE ACTIVOS NO FINANCIEROS",
          "nivel3": "Transferencias de capital",
          "periodo": 2002,
          "real_amount": 925016.41
         },
         {
          "nivel1": "TRANSACCIONES EN ACTIVOS NO FINANCIEROS",
          "nivel2": "ADQUISICION NETA DE ACTIVOS NO FINANCIEROS",
          "nivel3": "Transferencias de capital",
          "periodo": 2003,
          "real_amount": 1032531.58
         },
         {
          "nivel1": "TRANSACCIONES EN ACTIVOS NO FINANCIEROS",
          "nivel2": "ADQUISICION NETA DE ACTIVOS NO FINANCIEROS",
          "nivel3": "Transferencias de capital",
          "periodo": 2004,
          "real_amount": 1200057.55
         },
         {
          "nivel1": "TRANSACCIONES EN ACTIVOS NO FINANCIEROS",
          "nivel2": "ADQUISICION NETA DE ACTIVOS NO FINANCIEROS",
          "nivel3": "Transferencias de capital",
          "periodo": 2005,
          "real_amount": 1307526.89
         },
         {
          "nivel1": "TRANSACCIONES EN ACTIVOS NO FINANCIEROS",
          "nivel2": "ADQUISICION NETA DE ACTIVOS NO FINANCIEROS",
          "nivel3": "Transferencias de capital",
          "periodo": 2006,
          "real_amount": 1431097.64
         },
         {
          "nivel1": "TRANSACCIONES EN ACTIVOS NO FINANCIEROS",
          "nivel2": "ADQUISICION NETA DE ACTIVOS NO FINANCIEROS",
          "nivel3": "Transferencias de capital",
          "periodo": 2007,
          "real_amount": 1384317.59
         },
         {
          "nivel1": "TRANSACCIONES EN ACTIVOS NO FINANCIEROS",
          "nivel2": "ADQUISICION NETA DE ACTIVOS NO FINANCIEROS",
          "nivel3": "Transferencias de capital",
          "periodo": 2008,
          "real_amount": 1779118.33
         },
         {
          "nivel1": "TRANSACCIONES EN ACTIVOS NO FINANCIEROS",
          "nivel2": "ADQUISICION NETA DE ACTIVOS NO FINANCIEROS",
          "nivel3": "Transferencias de capital",
          "periodo": 2009,
          "real_amount": 2305034.3
         },
         {
          "nivel1": "TRANSACCIONES EN ACTIVOS NO FINANCIEROS",
          "nivel2": "ADQUISICION NETA DE ACTIVOS NO FINANCIEROS",
          "nivel3": "Transferencias de capital",
          "periodo": 2010,
          "real_amount": 2549183.78
         },
         {
          "nivel1": "TRANSACCIONES EN ACTIVOS NO FINANCIEROS",
          "nivel2": "ADQUISICION NETA DE ACTIVOS NO FINANCIEROS",
          "nivel3": "Transferencias de capital",
          "periodo": 2011,
          "real_amount": 2862886.39
         },
         {
          "nivel1": "TRANSACCIONES EN ACTIVOS NO FINANCIEROS",
          "nivel2": "ADQUISICION NETA DE ACTIVOS NO FINANCIEROS",
          "nivel3": "Transferencias de capital",
          "periodo": 2012,
          "real_amount": 2931230.52
         },
         {
          "nivel1": "TRANSACCIONES EN ACTIVOS NO FINANCIEROS",
          "nivel2": "ADQUISICION NETA DE ACTIVOS NO FINANCIEROS",
          "nivel3": "Transferencias de capital",
          "periodo": 2013,
          "real_amount": 2669066.52
         },
         {
          "nivel1": "TRANSACCIONES EN ACTIVOS NO FINANCIEROS",
          "nivel2": "ADQUISICION NETA DE ACTIVOS NO FINANCIEROS",
          "nivel3": "Transferencias de capital",
          "periodo": 2014,
          "real_amount": 2939596.72
         },
         {
          "nivel1": "TRANSACCIONES EN ACTIVOS NO FINANCIEROS",
          "nivel2": "ADQUISICION NETA DE ACTIVOS NO FINANCIEROS",
          "nivel3": "Transferencias de capital",
          "periodo": 2015,
          "real_amount": 3227839.99
         },
         {
          "nivel1": "TRANSACCIONES EN ACTIVOS NO FINANCIEROS",
          "nivel2": "ADQUISICION NETA DE ACTIVOS NO FINANCIEROS",
          "nivel3": "Transferencias de capital",
          "periodo": 2016,
          "real_amount": 3121706.49
         },
         {
          "nivel1": "TRANSACCIONES EN ACTIVOS NO FINANCIEROS",
          "nivel2": "ADQUISICION NETA DE ACTIVOS NO FINANCIEROS",
          "nivel3": "Transferencias de capital",
          "periodo": 2017,
          "real_amount": 2916955.39
         },
         {
          "nivel1": "TRANSACCIONES EN ACTIVOS NO FINANCIEROS",
          "nivel2": "ADQUISICION NETA DE ACTIVOS NO FINANCIEROS",
          "nivel3": "Venta de activos físicos",
          "periodo": 1990,
          "real_amount": -55042.96
         },
         {
          "nivel1": "TRANSACCIONES EN ACTIVOS NO FINANCIEROS",
          "nivel2": "ADQUISICION NETA DE ACTIVOS NO FINANCIEROS",
          "nivel3": "Venta de activos físicos",
          "periodo": 1991,
          "real_amount": -76356.02
         },
         {
          "nivel1": "TRANSACCIONES EN ACTIVOS NO FINANCIEROS",
          "nivel2": "ADQUISICION NETA DE ACTIVOS NO FINANCIEROS",
          "nivel3": "Venta de activos físicos",
          "periodo": 1992,
          "real_amount": -56027.22
         },
         {
          "nivel1": "TRANSACCIONES EN ACTIVOS NO FINANCIEROS",
          "nivel2": "ADQUISICION NETA DE ACTIVOS NO FINANCIEROS",
          "nivel3": "Venta de activos físicos",
          "periodo": 1993,
          "real_amount": -43191.08
         },
         {
          "nivel1": "TRANSACCIONES EN ACTIVOS NO FINANCIEROS",
          "nivel2": "ADQUISICION NETA DE ACTIVOS NO FINANCIEROS",
          "nivel3": "Venta de activos físicos",
          "periodo": 1994,
          "real_amount": -44478.33
         },
         {
          "nivel1": "TRANSACCIONES EN ACTIVOS NO FINANCIEROS",
          "nivel2": "ADQUISICION NETA DE ACTIVOS NO FINANCIEROS",
          "nivel3": "Venta de activos físicos",
          "periodo": 1995,
          "real_amount": -31664.74
         },
         {
          "nivel1": "TRANSACCIONES EN ACTIVOS NO FINANCIEROS",
          "nivel2": "ADQUISICION NETA DE ACTIVOS NO FINANCIEROS",
          "nivel3": "Venta de activos físicos",
          "periodo": 1996,
          "real_amount": -18877.27
         },
         {
          "nivel1": "TRANSACCIONES EN ACTIVOS NO FINANCIEROS",
          "nivel2": "ADQUISICION NETA DE ACTIVOS NO FINANCIEROS",
          "nivel3": "Venta de activos físicos",
          "periodo": 1997,
          "real_amount": -47438.86
         },
         {
          "nivel1": "TRANSACCIONES EN ACTIVOS NO FINANCIEROS",
          "nivel2": "ADQUISICION NETA DE ACTIVOS NO FINANCIEROS",
          "nivel3": "Venta de activos físicos",
          "periodo": 1998,
          "real_amount": -35591.36
         },
         {
          "nivel1": "TRANSACCIONES EN ACTIVOS NO FINANCIEROS",
          "nivel2": "ADQUISICION NETA DE ACTIVOS NO FINANCIEROS",
          "nivel3": "Venta de activos físicos",
          "periodo": 1999,
          "real_amount": -12776.47
         },
         {
          "nivel1": "TRANSACCIONES EN ACTIVOS NO FINANCIEROS",
          "nivel2": "ADQUISICION NETA DE ACTIVOS NO FINANCIEROS",
          "nivel3": "Venta de activos físicos",
          "periodo": 2000,
          "real_amount": -15483.03
         },
         {
          "nivel1": "TRANSACCIONES EN ACTIVOS NO FINANCIEROS",
          "nivel2": "ADQUISICION NETA DE ACTIVOS NO FINANCIEROS",
          "nivel3": "Venta de activos físicos",
          "periodo": 2001,
          "real_amount": -19958.69
         },
         {
          "nivel1": "TRANSACCIONES EN ACTIVOS NO FINANCIEROS",
          "nivel2": "ADQUISICION NETA DE ACTIVOS NO FINANCIEROS",
          "nivel3": "Venta de activos físicos",
          "periodo": 2002,
          "real_amount": -31254.84
         },
         {
          "nivel1": "TRANSACCIONES EN ACTIVOS NO FINANCIEROS",
          "nivel2": "ADQUISICION NETA DE ACTIVOS NO FINANCIEROS",
          "nivel3": "Venta de activos físicos",
          "periodo": 2003,
          "real_amount": -17894.35
         },
         {
          "nivel1": "TRANSACCIONES EN ACTIVOS NO FINANCIEROS",
          "nivel2": "ADQUISICION NETA DE ACTIVOS NO FINANCIEROS",
          "nivel3": "Venta de activos físicos",
          "periodo": 2004,
          "real_amount": -32679.07
         },
         {
          "nivel1": "TRANSACCIONES EN ACTIVOS NO FINANCIEROS",
          "nivel2": "ADQUISICION NETA DE ACTIVOS NO FINANCIEROS",
          "nivel3": "Venta de activos físicos",
          "periodo": 2005,
          "real_amount": -40323.8
         },
         {
          "nivel1": "TRANSACCIONES EN ACTIVOS NO FINANCIEROS",
          "nivel2": "ADQUISICION NETA DE ACTIVOS NO FINANCIEROS",
          "nivel3": "Venta de activos físicos",
          "periodo": 2006,
          "real_amount": -27297.56
         },
         {
          "nivel1": "TRANSACCIONES EN ACTIVOS NO FINANCIEROS",
          "nivel2": "ADQUISICION NETA DE ACTIVOS NO FINANCIEROS",
          "nivel3": "Venta de activos físicos",
          "periodo": 2007,
          "real_amount": -18291.74
         },
         {
          "nivel1": "TRANSACCIONES EN ACTIVOS NO FINANCIEROS",
          "nivel2": "ADQUISICION NETA DE ACTIVOS NO FINANCIEROS",
          "nivel3": "Venta de activos físicos",
          "periodo": 2008,
          "real_amount": -31240.67
         },
         {
          "nivel1": "TRANSACCIONES EN ACTIVOS NO FINANCIEROS",
          "nivel2": "ADQUISICION NETA DE ACTIVOS NO FINANCIEROS",
          "nivel3": "Venta de activos físicos",
          "periodo": 2009,
          "real_amount": -66713.53
         },
         {
          "nivel1": "TRANSACCIONES EN ACTIVOS NO FINANCIEROS",
          "nivel2": "ADQUISICION NETA DE ACTIVOS NO FINANCIEROS",
          "nivel3": "Venta de activos físicos",
          "periodo": 2010,
          "real_amount": -34915.65
         },
         {
          "nivel1": "TRANSACCIONES EN ACTIVOS NO FINANCIEROS",
          "nivel2": "ADQUISICION NETA DE ACTIVOS NO FINANCIEROS",
          "nivel3": "Venta de activos físicos",
          "periodo": 2011,
          "real_amount": -26020.42
         },
         {
          "nivel1": "TRANSACCIONES EN ACTIVOS NO FINANCIEROS",
          "nivel2": "ADQUISICION NETA DE ACTIVOS NO FINANCIEROS",
          "nivel3": "Venta de activos físicos",
          "periodo": 2012,
          "real_amount": -40273.02
         },
         {
          "nivel1": "TRANSACCIONES EN ACTIVOS NO FINANCIEROS",
          "nivel2": "ADQUISICION NETA DE ACTIVOS NO FINANCIEROS",
          "nivel3": "Venta de activos físicos",
          "periodo": 2013,
          "real_amount": -52804.96
         },
         {
          "nivel1": "TRANSACCIONES EN ACTIVOS NO FINANCIEROS",
          "nivel2": "ADQUISICION NETA DE ACTIVOS NO FINANCIEROS",
          "nivel3": "Venta de activos físicos",
          "periodo": 2014,
          "real_amount": -36645.3
         },
         {
          "nivel1": "TRANSACCIONES EN ACTIVOS NO FINANCIEROS",
          "nivel2": "ADQUISICION NETA DE ACTIVOS NO FINANCIEROS",
          "nivel3": "Venta de activos físicos",
          "periodo": 2015,
          "real_amount": -44837.3
         },
         {
          "nivel1": "TRANSACCIONES EN ACTIVOS NO FINANCIEROS",
          "nivel2": "ADQUISICION NETA DE ACTIVOS NO FINANCIEROS",
          "nivel3": "Venta de activos físicos",
          "periodo": 2016,
          "real_amount": -37554.63
         },
         {
          "nivel1": "TRANSACCIONES EN ACTIVOS NO FINANCIEROS",
          "nivel2": "ADQUISICION NETA DE ACTIVOS NO FINANCIEROS",
          "nivel3": "Venta de activos físicos",
          "periodo": 2017,
          "real_amount": -16224.99
         },
         {
          "nivel1": "TRANSACCIONES QUE AFECTAN EL PATRIMONIO NETO",
          "nivel2": "GASTOS",
          "nivel3": "Bienes y servicios de consumo y producción",
          "periodo": 1990,
          "real_amount": 857738.71
         },
         {
          "nivel1": "TRANSACCIONES QUE AFECTAN EL PATRIMONIO NETO",
          "nivel2": "GASTOS",
          "nivel3": "Bienes y servicios de consumo y producción",
          "periodo": 1991,
          "real_amount": 906313.24
         },
         {
          "nivel1": "TRANSACCIONES QUE AFECTAN EL PATRIMONIO NETO",
          "nivel2": "GASTOS",
          "nivel3": "Bienes y servicios de consumo y producción",
          "periodo": 1992,
          "real_amount": 977699.71
         },
         {
          "nivel1": "TRANSACCIONES QUE AFECTAN EL PATRIMONIO NETO",
          "nivel2": "GASTOS",
          "nivel3": "Bienes y servicios de consumo y producción",
          "periodo": 1993,
          "real_amount": 991345.78
         },
         {
          "nivel1": "TRANSACCIONES QUE AFECTAN EL PATRIMONIO NETO",
          "nivel2": "GASTOS",
          "nivel3": "Bienes y servicios de consumo y producción",
          "periodo": 1994,
          "real_amount": 1035051.05
         },
         {
          "nivel1": "TRANSACCIONES QUE AFECTAN EL PATRIMONIO NETO",
          "nivel2": "GASTOS",
          "nivel3": "Bienes y servicios de consumo y producción",
          "periodo": 1995,
          "real_amount": 1105890.87
         },
         {
          "nivel1": "TRANSACCIONES QUE AFECTAN EL PATRIMONIO NETO",
          "nivel2": "GASTOS",
          "nivel3": "Bienes y servicios de consumo y producción",
          "periodo": 1996,
          "real_amount": 1212640.09
         },
         {
          "nivel1": "TRANSACCIONES QUE AFECTAN EL PATRIMONIO NETO",
          "nivel2": "GASTOS",
          "nivel3": "Bienes y servicios de consumo y producción",
          "periodo": 1997,
          "real_amount": 1234297.6
         },
         {
          "nivel1": "TRANSACCIONES QUE AFECTAN EL PATRIMONIO NETO",
          "nivel2": "GASTOS",
          "nivel3": "Bienes y servicios de consumo y producción",
          "periodo": 1998,
          "real_amount": 1329056.87
         },
         {
          "nivel1": "TRANSACCIONES QUE AFECTAN EL PATRIMONIO NETO",
          "nivel2": "GASTOS",
          "nivel3": "Bienes y servicios de consumo y producción",
          "periodo": 1999,
          "real_amount": 1196705.8
         },
         {
          "nivel1": "TRANSACCIONES QUE AFECTAN EL PATRIMONIO NETO",
          "nivel2": "GASTOS",
          "nivel3": "Bienes y servicios de consumo y producción",
          "periodo": 2000,
          "real_amount": 1285586.78
         },
         {
          "nivel1": "TRANSACCIONES QUE AFECTAN EL PATRIMONIO NETO",
          "nivel2": "GASTOS",
          "nivel3": "Bienes y servicios de consumo y producción",
          "periodo": 2001,
          "real_amount": 1358740
         },
         {
          "nivel1": "TRANSACCIONES QUE AFECTAN EL PATRIMONIO NETO",
          "nivel2": "GASTOS",
          "nivel3": "Bienes y servicios de consumo y producción",
          "periodo": 2002,
          "real_amount": 1353323.07
         },
         {
          "nivel1": "TRANSACCIONES QUE AFECTAN EL PATRIMONIO NETO",
          "nivel2": "GASTOS",
          "nivel3": "Bienes y servicios de consumo y producción",
          "periodo": 2003,
          "real_amount": 1316219.81
         },
         {
          "nivel1": "TRANSACCIONES QUE AFECTAN EL PATRIMONIO NETO",
          "nivel2": "GASTOS",
          "nivel3": "Bienes y servicios de consumo y producción",
          "periodo": 2004,
          "real_amount": 1561494.03
         },
         {
          "nivel1": "TRANSACCIONES QUE AFECTAN EL PATRIMONIO NETO",
          "nivel2": "GASTOS",
          "nivel3": "Bienes y servicios de consumo y producción",
          "periodo": 2005,
          "real_amount": 1848013.41
         },
         {
          "nivel1": "TRANSACCIONES QUE AFECTAN EL PATRIMONIO NETO",
          "nivel2": "GASTOS",
          "nivel3": "Bienes y servicios de consumo y producción",
          "periodo": 2006,
          "real_amount": 2033248.29
         },
         {
          "nivel1": "TRANSACCIONES QUE AFECTAN EL PATRIMONIO NETO",
          "nivel2": "GASTOS",
          "nivel3": "Bienes y servicios de consumo y producción",
          "periodo": 2007,
          "real_amount": 2337209.37
         },
         {
          "nivel1": "TRANSACCIONES QUE AFECTAN EL PATRIMONIO NETO",
          "nivel2": "GASTOS",
          "nivel3": "Bienes y servicios de consumo y producción",
          "periodo": 2008,
          "real_amount": 2444977.18
         },
         {
          "nivel1": "TRANSACCIONES QUE AFECTAN EL PATRIMONIO NETO",
          "nivel2": "GASTOS",
          "nivel3": "Bienes y servicios de consumo y producción",
          "periodo": 2009,
          "real_amount": 2820280.2
         },
         {
          "nivel1": "TRANSACCIONES QUE AFECTAN EL PATRIMONIO NETO",
          "nivel2": "GASTOS",
          "nivel3": "Bienes y servicios de consumo y producción",
          "periodo": 2010,
          "real_amount": 2983204.07
         },
         {
          "nivel1": "TRANSACCIONES QUE AFECTAN EL PATRIMONIO NETO",
          "nivel2": "GASTOS",
          "nivel3": "Bienes y servicios de consumo y producción",
          "periodo": 2011,
          "real_amount": 3190426.57
         },
         {
          "nivel1": "TRANSACCIONES QUE AFECTAN EL PATRIMONIO NETO",
          "nivel2": "GASTOS",
          "nivel3": "Bienes y servicios de consumo y producción",
          "periodo": 2012,
          "real_amount": 3122143.29
         },
         {
          "nivel1": "TRANSACCIONES QUE AFECTAN EL PATRIMONIO NETO",
          "nivel2": "GASTOS",
          "nivel3": "Bienes y servicios de consumo y producción",
          "periodo": 2013,
          "real_amount": 3192191.07
         },
         {
          "nivel1": "TRANSACCIONES QUE AFECTAN EL PATRIMONIO NETO",
          "nivel2": "GASTOS",
          "nivel3": "Bienes y servicios de consumo y producción",
          "periodo": 2014,
          "real_amount": 3551554.14
         },
         {
          "nivel1": "TRANSACCIONES QUE AFECTAN EL PATRIMONIO NETO",
          "nivel2": "GASTOS",
          "nivel3": "Bienes y servicios de consumo y producción",
          "periodo": 2015,
          "real_amount": 3499785.01
         },
         {
          "nivel1": "TRANSACCIONES QUE AFECTAN EL PATRIMONIO NETO",
          "nivel2": "GASTOS",
          "nivel3": "Bienes y servicios de consumo y producción",
          "periodo": 2016,
          "real_amount": 3580256.42
         },
         {
          "nivel1": "TRANSACCIONES QUE AFECTAN EL PATRIMONIO NETO",
          "nivel2": "GASTOS",
          "nivel3": "Bienes y servicios de consumo y producción",
          "periodo": 2017,
          "real_amount": 3734614.03
         },
         {
          "nivel1": "TRANSACCIONES QUE AFECTAN EL PATRIMONIO NETO",
          "nivel2": "GASTOS",
          "nivel3": "Intereses ",
          "periodo": 1990,
          "real_amount": 1306956.76
         },
         {
          "nivel1": "TRANSACCIONES QUE AFECTAN EL PATRIMONIO NETO",
          "nivel2": "GASTOS",
          "nivel3": "Intereses ",
          "periodo": 1991,
          "real_amount": 1382446.61
         },
         {
          "nivel1": "TRANSACCIONES QUE AFECTAN EL PATRIMONIO NETO",
          "nivel2": "GASTOS",
          "nivel3": "Intereses ",
          "periodo": 1992,
          "real_amount": 1187424.93
         },
         {
          "nivel1": "TRANSACCIONES QUE AFECTAN EL PATRIMONIO NETO",
          "nivel2": "GASTOS",
          "nivel3": "Intereses ",
          "periodo": 1993,
          "real_amount": 1158771.05
         },
         {
          "nivel1": "TRANSACCIONES QUE AFECTAN EL PATRIMONIO NETO",
          "nivel2": "GASTOS",
          "nivel3": "Intereses ",
          "periodo": 1994,
          "real_amount": 1097055.28
         },
         {
          "nivel1": "TRANSACCIONES QUE AFECTAN EL PATRIMONIO NETO",
          "nivel2": "GASTOS",
          "nivel3": "Intereses ",
          "periodo": 1995,
          "real_amount": 1040494.77
         },
         {
          "nivel1": "TRANSACCIONES QUE AFECTAN EL PATRIMONIO NETO",
          "nivel2": "GASTOS",
          "nivel3": "Intereses ",
          "periodo": 1996,
          "real_amount": 894719.49
         },
         {
          "nivel1": "TRANSACCIONES QUE AFECTAN EL PATRIMONIO NETO",
          "nivel2": "GASTOS",
          "nivel3": "Intereses ",
          "periodo": 1997,
          "real_amount": 838546.35
         },
         {
          "nivel1": "TRANSACCIONES QUE AFECTAN EL PATRIMONIO NETO",
          "nivel2": "GASTOS",
          "nivel3": "Intereses ",
          "periodo": 1998,
          "real_amount": 824836.73
         },
         {
          "nivel1": "TRANSACCIONES QUE AFECTAN EL PATRIMONIO NETO",
          "nivel2": "GASTOS",
          "nivel3": "Intereses ",
          "periodo": 1999,
          "real_amount": 840686.52
         },
         {
          "nivel1": "TRANSACCIONES QUE AFECTAN EL PATRIMONIO NETO",
          "nivel2": "GASTOS",
          "nivel3": "Intereses ",
          "periodo": 2000,
          "real_amount": 855100.19
         },
         {
          "nivel1": "TRANSACCIONES QUE AFECTAN EL PATRIMONIO NETO",
          "nivel2": "GASTOS",
          "nivel3": "Intereses ",
          "periodo": 2001,
          "real_amount": 869221.58
         },
         {
          "nivel1": "TRANSACCIONES QUE AFECTAN EL PATRIMONIO NETO",
          "nivel2": "GASTOS",
          "nivel3": "Intereses ",
          "periodo": 2002,
          "real_amount": 881540.81
         },
         {
          "nivel1": "TRANSACCIONES QUE AFECTAN EL PATRIMONIO NETO",
          "nivel2": "GASTOS",
          "nivel3": "Intereses ",
          "periodo": 2003,
          "real_amount": 928145.75
         },
         {
          "nivel1": "TRANSACCIONES QUE AFECTAN EL PATRIMONIO NETO",
          "nivel2": "GASTOS",
          "nivel3": "Intereses ",
          "periodo": 2004,
          "real_amount": 877685.13
         },
         {
          "nivel1": "TRANSACCIONES QUE AFECTAN EL PATRIMONIO NETO",
          "nivel2": "GASTOS",
          "nivel3": "Intereses ",
          "periodo": 2005,
          "real_amount": 844106.76
         },
         {
          "nivel1": "TRANSACCIONES QUE AFECTAN EL PATRIMONIO NETO",
          "nivel2": "GASTOS",
          "nivel3": "Intereses ",
          "periodo": 2006,
          "real_amount": 789098.37
         },
         {
          "nivel1": "TRANSACCIONES QUE AFECTAN EL PATRIMONIO NETO",
          "nivel2": "GASTOS",
          "nivel3": "Intereses ",
          "periodo": 2007,
          "real_amount": 733034.62
         },
         {
          "nivel1": "TRANSACCIONES QUE AFECTAN EL PATRIMONIO NETO",
          "nivel2": "GASTOS",
          "nivel3": "Intereses ",
          "periodo": 2008,
          "real_amount": 568723.95
         },
         {
          "nivel1": "TRANSACCIONES QUE AFECTAN EL PATRIMONIO NETO",
          "nivel2": "GASTOS",
          "nivel3": "Intereses ",
          "periodo": 2009,
          "real_amount": 606031.27
         },
         {
          "nivel1": "TRANSACCIONES QUE AFECTAN EL PATRIMONIO NETO",
          "nivel2": "GASTOS",
          "nivel3": "Intereses ",
          "periodo": 2010,
          "real_amount": 674422.63
         },
         {
          "nivel1": "TRANSACCIONES QUE AFECTAN EL PATRIMONIO NETO",
          "nivel2": "GASTOS",
          "nivel3": "Intereses ",
          "periodo": 2011,
          "real_amount": 820774.29
         },
         {
          "nivel1": "TRANSACCIONES QUE AFECTAN EL PATRIMONIO NETO",
          "nivel2": "GASTOS",
          "nivel3": "Intereses ",
          "periodo": 2012,
          "real_amount": 901481.35
         },
         {
          "nivel1": "TRANSACCIONES QUE AFECTAN EL PATRIMONIO NETO",
          "nivel2": "GASTOS",
          "nivel3": "Intereses ",
          "periodo": 2013,
          "real_amount": 926769.51
         },
         {
          "nivel1": "TRANSACCIONES QUE AFECTAN EL PATRIMONIO NETO",
          "nivel2": "GASTOS",
          "nivel3": "Intereses ",
          "periodo": 2014,
          "real_amount": 1004837.87
         },
         {
          "nivel1": "TRANSACCIONES QUE AFECTAN EL PATRIMONIO NETO",
          "nivel2": "GASTOS",
          "nivel3": "Intereses ",
          "periodo": 2015,
          "real_amount": 1115862.86
         },
         {
          "nivel1": "TRANSACCIONES QUE AFECTAN EL PATRIMONIO NETO",
          "nivel2": "GASTOS",
          "nivel3": "Intereses ",
          "periodo": 2016,
          "real_amount": 1292751.9
         },
         {
          "nivel1": "TRANSACCIONES QUE AFECTAN EL PATRIMONIO NETO",
          "nivel2": "GASTOS",
          "nivel3": "Intereses ",
          "periodo": 2017,
          "real_amount": 1458818.39
         },
         {
          "nivel1": "TRANSACCIONES QUE AFECTAN EL PATRIMONIO NETO",
          "nivel2": "GASTOS",
          "nivel3": "Otros",
          "periodo": 1990,
          "real_amount": 45337.97
         },
         {
          "nivel1": "TRANSACCIONES QUE AFECTAN EL PATRIMONIO NETO",
          "nivel2": "GASTOS",
          "nivel3": "Otros",
          "periodo": 1991,
          "real_amount": 51914.3
         },
         {
          "nivel1": "TRANSACCIONES QUE AFECTAN EL PATRIMONIO NETO",
          "nivel2": "GASTOS",
          "nivel3": "Otros",
          "periodo": 1992,
          "real_amount": 56587.97
         },
         {
          "nivel1": "TRANSACCIONES QUE AFECTAN EL PATRIMONIO NETO",
          "nivel2": "GASTOS",
          "nivel3": "Otros",
          "periodo": 1993,
          "real_amount": 81679.73
         },
         {
          "nivel1": "TRANSACCIONES QUE AFECTAN EL PATRIMONIO NETO",
          "nivel2": "GASTOS",
          "nivel3": "Otros",
          "periodo": 1994,
          "real_amount": 72172.29
         },
         {
          "nivel1": "TRANSACCIONES QUE AFECTAN EL PATRIMONIO NETO",
          "nivel2": "GASTOS",
          "nivel3": "Otros",
          "periodo": 1995,
          "real_amount": 60100.91
         },
         {
          "nivel1": "TRANSACCIONES QUE AFECTAN EL PATRIMONIO NETO",
          "nivel2": "GASTOS",
          "nivel3": "Otros",
          "periodo": 1996,
          "real_amount": 87617.48
         },
         {
          "nivel1": "TRANSACCIONES QUE AFECTAN EL PATRIMONIO NETO",
          "nivel2": "GASTOS",
          "nivel3": "Otros",
          "periodo": 1997,
          "real_amount": 96504.48
         },
         {
          "nivel1": "TRANSACCIONES QUE AFECTAN EL PATRIMONIO NETO",
          "nivel2": "GASTOS",
          "nivel3": "Otros",
          "periodo": 1998,
          "real_amount": 121818.56
         },
         {
          "nivel1": "TRANSACCIONES QUE AFECTAN EL PATRIMONIO NETO",
          "nivel2": "GASTOS",
          "nivel3": "Otros",
          "periodo": 1999,
          "real_amount": 101566.73
         },
         {
          "nivel1": "TRANSACCIONES QUE AFECTAN EL PATRIMONIO NETO",
          "nivel2": "GASTOS",
          "nivel3": "Otros",
          "periodo": 2000,
          "real_amount": 117789.4
         },
         {
          "nivel1": "TRANSACCIONES QUE AFECTAN EL PATRIMONIO NETO",
          "nivel2": "GASTOS",
          "nivel3": "Otros",
          "periodo": 2001,
          "real_amount": 135001.42
         },
         {
          "nivel1": "TRANSACCIONES QUE AFECTAN EL PATRIMONIO NETO",
          "nivel2": "GASTOS",
          "nivel3": "Otros",
          "periodo": 2002,
          "real_amount": 148303.63
         },
         {
          "nivel1": "TRANSACCIONES QUE AFECTAN EL PATRIMONIO NETO",
          "nivel2": "GASTOS",
          "nivel3": "Otros",
          "periodo": 2003,
          "real_amount": 130637.62
         },
         {
          "nivel1": "TRANSACCIONES QUE AFECTAN EL PATRIMONIO NETO",
          "nivel2": "GASTOS",
          "nivel3": "Otros",
          "periodo": 2004,
          "real_amount": 121757.6
         },
         {
          "nivel1": "TRANSACCIONES QUE AFECTAN EL PATRIMONIO NETO",
          "nivel2": "GASTOS",
          "nivel3": "Otros",
          "periodo": 2005,
          "real_amount": 24567.43
         },
         {
          "nivel1": "TRANSACCIONES QUE AFECTAN EL PATRIMONIO NETO",
          "nivel2": "GASTOS",
          "nivel3": "Otros",
          "periodo": 2006,
          "real_amount": 16465.75
         },
         {
          "nivel1": "TRANSACCIONES QUE AFECTAN EL PATRIMONIO NETO",
          "nivel2": "GASTOS",
          "nivel3": "Otros",
          "periodo": 2007,
          "real_amount": 23773.49
         },
         {
          "nivel1": "TRANSACCIONES QUE AFECTAN EL PATRIMONIO NETO",
          "nivel2": "GASTOS",
          "nivel3": "Otros",
          "periodo": 2008,
          "real_amount": 38592.61
         },
         {
          "nivel1": "TRANSACCIONES QUE AFECTAN EL PATRIMONIO NETO",
          "nivel2": "GASTOS",
          "nivel3": "Otros",
          "periodo": 2009,
          "real_amount": 30704.11
         },
         {
          "nivel1": "TRANSACCIONES QUE AFECTAN EL PATRIMONIO NETO",
          "nivel2": "GASTOS",
          "nivel3": "Otros",
          "periodo": 2010,
          "real_amount": 45155.04
         },
         {
          "nivel1": "TRANSACCIONES QUE AFECTAN EL PATRIMONIO NETO",
          "nivel2": "GASTOS",
          "nivel3": "Otros",
          "periodo": 2011,
          "real_amount": 49310.61
         },
         {
          "nivel1": "TRANSACCIONES QUE AFECTAN EL PATRIMONIO NETO",
          "nivel2": "GASTOS",
          "nivel3": "Otros",
          "periodo": 2012,
          "real_amount": 68726.71
         },
         {
          "nivel1": "TRANSACCIONES QUE AFECTAN EL PATRIMONIO NETO",
          "nivel2": "GASTOS",
          "nivel3": "Otros",
          "periodo": 2013,
          "real_amount": 31794.69
         },
         {
          "nivel1": "TRANSACCIONES QUE AFECTAN EL PATRIMONIO NETO",
          "nivel2": "GASTOS",
          "nivel3": "Otros",
          "periodo": 2014,
          "real_amount": 43764.52
         },
         {
          "nivel1": "TRANSACCIONES QUE AFECTAN EL PATRIMONIO NETO",
          "nivel2": "GASTOS",
          "nivel3": "Otros",
          "periodo": 2015,
          "real_amount": 63680.07
         },
         {
          "nivel1": "TRANSACCIONES QUE AFECTAN EL PATRIMONIO NETO",
          "nivel2": "GASTOS",
          "nivel3": "Otros",
          "periodo": 2016,
          "real_amount": 68560.44
         },
         {
          "nivel1": "TRANSACCIONES QUE AFECTAN EL PATRIMONIO NETO",
          "nivel2": "GASTOS",
          "nivel3": "Otros",
          "periodo": 2017,
          "real_amount": 83217.49
         },
         {
          "nivel1": "TRANSACCIONES QUE AFECTAN EL PATRIMONIO NETO",
          "nivel2": "GASTOS",
          "nivel3": "Personal",
          "periodo": 1990,
          "real_amount": 1427260.47
         },
         {
          "nivel1": "TRANSACCIONES QUE AFECTAN EL PATRIMONIO NETO",
          "nivel2": "GASTOS",
          "nivel3": "Personal",
          "periodo": 1991,
          "real_amount": 1563428.09
         },
         {
          "nivel1": "TRANSACCIONES QUE AFECTAN EL PATRIMONIO NETO",
          "nivel2": "GASTOS",
          "nivel3": "Personal",
          "periodo": 1992,
          "real_amount": 1720512.59
         },
         {
          "nivel1": "TRANSACCIONES QUE AFECTAN EL PATRIMONIO NETO",
          "nivel2": "GASTOS",
          "nivel3": "Personal",
          "periodo": 1993,
          "real_amount": 1908365.04
         },
         {
          "nivel1": "TRANSACCIONES QUE AFECTAN EL PATRIMONIO NETO",
          "nivel2": "GASTOS",
          "nivel3": "Personal",
          "periodo": 1994,
          "real_amount": 2049674.79
         },
         {
          "nivel1": "TRANSACCIONES QUE AFECTAN EL PATRIMONIO NETO",
          "nivel2": "GASTOS",
          "nivel3": "Personal",
          "periodo": 1995,
          "real_amount": 2217986.09
         },
         {
          "nivel1": "TRANSACCIONES QUE AFECTAN EL PATRIMONIO NETO",
          "nivel2": "GASTOS",
          "nivel3": "Personal",
          "periodo": 1996,
          "real_amount": 2394757.22
         },
         {
          "nivel1": "TRANSACCIONES QUE AFECTAN EL PATRIMONIO NETO",
          "nivel2": "GASTOS",
          "nivel3": "Personal",
          "periodo": 1997,
          "real_amount": 2578569.13
         },
         {
          "nivel1": "TRANSACCIONES QUE AFECTAN EL PATRIMONIO NETO",
          "nivel2": "GASTOS",
          "nivel3": "Personal",
          "periodo": 1998,
          "real_amount": 2760659.21
         },
         {
          "nivel1": "TRANSACCIONES QUE AFECTAN EL PATRIMONIO NETO",
          "nivel2": "GASTOS",
          "nivel3": "Personal",
          "periodo": 1999,
          "real_amount": 2948524.1
         },
         {
          "nivel1": "TRANSACCIONES QUE AFECTAN EL PATRIMONIO NETO",
          "nivel2": "GASTOS",
          "nivel3": "Personal",
          "periodo": 2000,
          "real_amount": 3068464.58
         },
         {
          "nivel1": "TRANSACCIONES QUE AFECTAN EL PATRIMONIO NETO",
          "nivel2": "GASTOS",
          "nivel3": "Personal",
          "periodo": 2001,
          "real_amount": 3151731.8
         },
         {
          "nivel1": "TRANSACCIONES QUE AFECTAN EL PATRIMONIO NETO",
          "nivel2": "GASTOS",
          "nivel3": "Personal",
          "periodo": 2002,
          "real_amount": 3268991.04
         },
         {
          "nivel1": "TRANSACCIONES QUE AFECTAN EL PATRIMONIO NETO",
          "nivel2": "GASTOS",
          "nivel3": "Personal",
          "periodo": 2003,
          "real_amount": 3368582.37
         },
         {
          "nivel1": "TRANSACCIONES QUE AFECTAN EL PATRIMONIO NETO",
          "nivel2": "GASTOS",
          "nivel3": "Personal",
          "periodo": 2004,
          "real_amount": 3600967.45
         },
         {
          "nivel1": "TRANSACCIONES QUE AFECTAN EL PATRIMONIO NETO",
          "nivel2": "GASTOS",
          "nivel3": "Personal",
          "periodo": 2005,
          "real_amount": 3821839.46
         },
         {
          "nivel1": "TRANSACCIONES QUE AFECTAN EL PATRIMONIO NETO",
          "nivel2": "GASTOS",
          "nivel3": "Personal",
          "periodo": 2006,
          "real_amount": 4053225.37
         },
         {
          "nivel1": "TRANSACCIONES QUE AFECTAN EL PATRIMONIO NETO",
          "nivel2": "GASTOS",
          "nivel3": "Personal",
          "periodo": 2007,
          "real_amount": 4370691.51
         },
         {
          "nivel1": "TRANSACCIONES QUE AFECTAN EL PATRIMONIO NETO",
          "nivel2": "GASTOS",
          "nivel3": "Personal",
          "periodo": 2008,
          "real_amount": 4585515.56
         },
         {
          "nivel1": "TRANSACCIONES QUE AFECTAN EL PATRIMONIO NETO",
          "nivel2": "GASTOS",
          "nivel3": "Personal",
          "periodo": 2009,
          "real_amount": 5367080.3
         },
         {
          "nivel1": "TRANSACCIONES QUE AFECTAN EL PATRIMONIO NETO",
          "nivel2": "GASTOS",
          "nivel3": "Personal",
          "periodo": 2010,
          "real_amount": 5850706.86
         },
         {
          "nivel1": "TRANSACCIONES QUE AFECTAN EL PATRIMONIO NETO",
          "nivel2": "GASTOS",
          "nivel3": "Personal",
          "periodo": 2011,
          "real_amount": 6010771.4
         },
         {
          "nivel1": "TRANSACCIONES QUE AFECTAN EL PATRIMONIO NETO",
          "nivel2": "GASTOS",
          "nivel3": "Personal",
          "periodo": 2012,
          "real_amount": 6381102.6
         },
         {
          "nivel1": "TRANSACCIONES QUE AFECTAN EL PATRIMONIO NETO",
          "nivel2": "GASTOS",
          "nivel3": "Personal",
          "periodo": 2013,
          "real_amount": 6830645.43
         },
         {
          "nivel1": "TRANSACCIONES QUE AFECTAN EL PATRIMONIO NETO",
          "nivel2": "GASTOS",
          "nivel3": "Personal",
          "periodo": 2014,
          "real_amount": 7204927.48
         },
         {
          "nivel1": "TRANSACCIONES QUE AFECTAN EL PATRIMONIO NETO",
          "nivel2": "GASTOS",
          "nivel3": "Personal",
          "periodo": 2015,
          "real_amount": 7644678.61
         },
         {
          "nivel1": "TRANSACCIONES QUE AFECTAN EL PATRIMONIO NETO",
          "nivel2": "GASTOS",
          "nivel3": "Personal",
          "periodo": 2016,
          "real_amount": 8099156.82
         },
         {
          "nivel1": "TRANSACCIONES QUE AFECTAN EL PATRIMONIO NETO",
          "nivel2": "GASTOS",
          "nivel3": "Personal",
          "periodo": 2017,
          "real_amount": 8577014.46
         },
         {
          "nivel1": "TRANSACCIONES QUE AFECTAN EL PATRIMONIO NETO",
          "nivel2": "GASTOS",
          "nivel3": "Prestaciones previsionales ",
          "periodo": 1990,
          "real_amount": 2268009.1
         },
         {
          "nivel1": "TRANSACCIONES QUE AFECTAN EL PATRIMONIO NETO",
          "nivel2": "GASTOS",
          "nivel3": "Prestaciones previsionales ",
          "periodo": 1991,
          "real_amount": 2384804.26
         },
         {
          "nivel1": "TRANSACCIONES QUE AFECTAN EL PATRIMONIO NETO",
          "nivel2": "GASTOS",
          "nivel3": "Prestaciones previsionales ",
          "periodo": 1992,
          "real_amount": 2513386.38
         },
         {
          "nivel1": "TRANSACCIONES QUE AFECTAN EL PATRIMONIO NETO",
          "nivel2": "GASTOS",
          "nivel3": "Prestaciones previsionales ",
          "periodo": 1993,
          "real_amount": 2661452.41
         },
         {
          "nivel1": "TRANSACCIONES QUE AFECTAN EL PATRIMONIO NETO",
          "nivel2": "GASTOS",
          "nivel3": "Prestaciones previsionales ",
          "periodo": 1994,
          "real_amount": 2733826.06
         },
         {
          "nivel1": "TRANSACCIONES QUE AFECTAN EL PATRIMONIO NETO",
          "nivel2": "GASTOS",
          "nivel3": "Prestaciones previsionales ",
          "periodo": 1995,
          "real_amount": 2851655.53
         },
         {
          "nivel1": "TRANSACCIONES QUE AFECTAN EL PATRIMONIO NETO",
          "nivel2": "GASTOS",
          "nivel3": "Prestaciones previsionales ",
          "periodo": 1996,
          "real_amount": 3073506.58
         },
         {
          "nivel1": "TRANSACCIONES QUE AFECTAN EL PATRIMONIO NETO",
          "nivel2": "GASTOS",
          "nivel3": "Prestaciones previsionales ",
          "periodo": 1997,
          "real_amount": 3186971.15
         },
         {
          "nivel1": "TRANSACCIONES QUE AFECTAN EL PATRIMONIO NETO",
          "nivel2": "GASTOS",
          "nivel3": "Prestaciones previsionales ",
          "periodo": 1998,
          "real_amount": 3408387.1
         },
         {
          "nivel1": "TRANSACCIONES QUE AFECTAN EL PATRIMONIO NETO",
          "nivel2": "GASTOS",
          "nivel3": "Prestaciones previsionales ",
          "periodo": 1999,
          "real_amount": 3714506.54
         },
         {
          "nivel1": "TRANSACCIONES QUE AFECTAN EL PATRIMONIO NETO",
          "nivel2": "GASTOS",
          "nivel3": "Prestaciones previsionales ",
          "periodo": 2000,
          "real_amount": 3913071.36
         },
         {
          "nivel1": "TRANSACCIONES QUE AFECTAN EL PATRIMONIO NETO",
          "nivel2": "GASTOS",
          "nivel3": "Prestaciones previsionales ",
          "periodo": 2001,
          "real_amount": 4051886.76
         },
         {
          "nivel1": "TRANSACCIONES QUE AFECTAN EL PATRIMONIO NETO",
          "nivel2": "GASTOS",
          "nivel3": "Prestaciones previsionales ",
          "periodo": 2002,
          "real_amount": 4177989.95
         },
         {
          "nivel1": "TRANSACCIONES QUE AFECTAN EL PATRIMONIO NETO",
          "nivel2": "GASTOS",
          "nivel3": "Prestaciones previsionales ",
          "periodo": 2003,
          "real_amount": 4277573.67
         },
         {
          "nivel1": "TRANSACCIONES QUE AFECTAN EL PATRIMONIO NETO",
          "nivel2": "GASTOS",
          "nivel3": "Prestaciones previsionales ",
          "periodo": 2004,
          "real_amount": 4457006.83
         },
         {
          "nivel1": "TRANSACCIONES QUE AFECTAN EL PATRIMONIO NETO",
          "nivel2": "GASTOS",
          "nivel3": "Prestaciones previsionales ",
          "periodo": 2005,
          "real_amount": 4669000.65
         },
         {
          "nivel1": "TRANSACCIONES QUE AFECTAN EL PATRIMONIO NETO",
          "nivel2": "GASTOS",
          "nivel3": "Prestaciones previsionales ",
          "periodo": 2006,
          "real_amount": 4914301.69
         },
         {
          "nivel1": "TRANSACCIONES QUE AFECTAN EL PATRIMONIO NETO",
          "nivel2": "GASTOS",
          "nivel3": "Prestaciones previsionales ",
          "periodo": 2007,
          "real_amount": 5048885.04
         },
         {
          "nivel1": "TRANSACCIONES QUE AFECTAN EL PATRIMONIO NETO",
          "nivel2": "GASTOS",
          "nivel3": "Prestaciones previsionales ",
          "periodo": 2008,
          "real_amount": 5283011.39
         },
         {
          "nivel1": "TRANSACCIONES QUE AFECTAN EL PATRIMONIO NETO",
          "nivel2": "GASTOS",
          "nivel3": "Prestaciones previsionales ",
          "periodo": 2009,
          "real_amount": 5852693.51
         },
         {
          "nivel1": "TRANSACCIONES QUE AFECTAN EL PATRIMONIO NETO",
          "nivel2": "GASTOS",
          "nivel3": "Prestaciones previsionales ",
          "periodo": 2010,
          "real_amount": 6247275.44
         },
         {
          "nivel1": "TRANSACCIONES QUE AFECTAN EL PATRIMONIO NETO",
          "nivel2": "GASTOS",
          "nivel3": "Prestaciones previsionales ",
          "periodo": 2011,
          "real_amount": 6258527.34
         },
         {
          "nivel1": "TRANSACCIONES QUE AFECTAN EL PATRIMONIO NETO",
          "nivel2": "GASTOS",
          "nivel3": "Prestaciones previsionales ",
          "periodo": 2012,
          "real_amount": 6349464.21
         },
         {
          "nivel1": "TRANSACCIONES QUE AFECTAN EL PATRIMONIO NETO",
          "nivel2": "GASTOS",
          "nivel3": "Prestaciones previsionales ",
          "periodo": 2013,
          "real_amount": 6462197.42
         },
         {
          "nivel1": "TRANSACCIONES QUE AFECTAN EL PATRIMONIO NETO",
          "nivel2": "GASTOS",
          "nivel3": "Prestaciones previsionales ",
          "periodo": 2014,
          "real_amount": 6663927.15
         },
         {
          "nivel1": "TRANSACCIONES QUE AFECTAN EL PATRIMONIO NETO",
          "nivel2": "GASTOS",
          "nivel3": "Prestaciones previsionales ",
          "periodo": 2015,
          "real_amount": 6887645.14
         },
         {
          "nivel1": "TRANSACCIONES QUE AFECTAN EL PATRIMONIO NETO",
          "nivel2": "GASTOS",
          "nivel3": "Prestaciones previsionales ",
          "periodo": 2016,
          "real_amount": 6878240.78
         },
         {
          "nivel1": "TRANSACCIONES QUE AFECTAN EL PATRIMONIO NETO",
          "nivel2": "GASTOS",
          "nivel3": "Prestaciones previsionales ",
          "periodo": 2017,
          "real_amount": 7010850.63
         },
         {
          "nivel1": "TRANSACCIONES QUE AFECTAN EL PATRIMONIO NETO",
          "nivel2": "GASTOS",
          "nivel3": "Subsidios y donaciones ",
          "periodo": 1990,
          "real_amount": 1626801.81
         },
         {
          "nivel1": "TRANSACCIONES QUE AFECTAN EL PATRIMONIO NETO",
          "nivel2": "GASTOS",
          "nivel3": "Subsidios y donaciones ",
          "periodo": 1991,
          "real_amount": 1919538.13
         },
         {
          "nivel1": "TRANSACCIONES QUE AFECTAN EL PATRIMONIO NETO",
          "nivel2": "GASTOS",
          "nivel3": "Subsidios y donaciones ",
          "periodo": 1992,
          "real_amount": 2120068.31
         },
         {
          "nivel1": "TRANSACCIONES QUE AFECTAN EL PATRIMONIO NETO",
          "nivel2": "GASTOS",
          "nivel3": "Subsidios y donaciones ",
          "periodo": 1993,
          "real_amount": 2263146.01
         },
         {
          "nivel1": "TRANSACCIONES QUE AFECTAN EL PATRIMONIO NETO",
          "nivel2": "GASTOS",
          "nivel3": "Subsidios y donaciones ",
          "periodo": 1994,
          "real_amount": 2372818.22
         },
         {
          "nivel1": "TRANSACCIONES QUE AFECTAN EL PATRIMONIO NETO",
          "nivel2": "GASTOS",
          "nivel3": "Subsidios y donaciones ",
          "periodo": 1995,
          "real_amount": 2656786.58
         },
         {
          "nivel1": "TRANSACCIONES QUE AFECTAN EL PATRIMONIO NETO",
          "nivel2": "GASTOS",
          "nivel3": "Subsidios y donaciones ",
          "periodo": 1996,
          "real_amount": 2913145.82
         },
         {
          "nivel1": "TRANSACCIONES QUE AFECTAN EL PATRIMONIO NETO",
          "nivel2": "GASTOS",
          "nivel3": "Subsidios y donaciones ",
          "periodo": 1997,
          "real_amount": 3136163.96
         },
         {
          "nivel1": "TRANSACCIONES QUE AFECTAN EL PATRIMONIO NETO",
          "nivel2": "GASTOS",
          "nivel3": "Subsidios y donaciones ",
          "periodo": 1998,
          "real_amount": 3255903.76
         },
         {
          "nivel1": "TRANSACCIONES QUE AFECTAN EL PATRIMONIO NETO",
          "nivel2": "GASTOS",
          "nivel3": "Subsidios y donaciones ",
          "periodo": 1999,
          "real_amount": 3766592.46
         },
         {
          "nivel1": "TRANSACCIONES QUE AFECTAN EL PATRIMONIO NETO",
          "nivel2": "GASTOS",
          "nivel3": "Subsidios y donaciones ",
          "periodo": 2000,
          "real_amount": 3813773.95
         },
         {
          "nivel1": "TRANSACCIONES QUE AFECTAN EL PATRIMONIO NETO",
          "nivel2": "GASTOS",
          "nivel3": "Subsidios y donaciones ",
          "periodo": 2001,
          "real_amount": 4161891.93
         },
         {
          "nivel1": "TRANSACCIONES QUE AFECTAN EL PATRIMONIO NETO",
          "nivel2": "GASTOS",
          "nivel3": "Subsidios y donaciones ",
          "periodo": 2002,
          "real_amount": 4396403.24
         },
         {
          "nivel1": "TRANSACCIONES QUE AFECTAN EL PATRIMONIO NETO",
          "nivel2": "GASTOS",
          "nivel3": "Subsidios y donaciones ",
          "periodo": 2003,
          "real_amount": 4427381.55
         },
         {
          "nivel1": "TRANSACCIONES QUE AFECTAN EL PATRIMONIO NETO",
          "nivel2": "GASTOS",
          "nivel3": "Subsidios y donaciones ",
          "periodo": 2004,
          "real_amount": 4692880.69
         },
         {
          "nivel1": "TRANSACCIONES QUE AFECTAN EL PATRIMONIO NETO",
          "nivel2": "GASTOS",
          "nivel3": "Subsidios y donaciones ",
          "periodo": 2005,
          "real_amount": 5008294.74
         },
         {
          "nivel1": "TRANSACCIONES QUE AFECTAN EL PATRIMONIO NETO",
          "nivel2": "GASTOS",
          "nivel3": "Subsidios y donaciones ",
          "periodo": 2006,
          "real_amount": 5404728.26
         },
         {
          "nivel1": "TRANSACCIONES QUE AFECTAN EL PATRIMONIO NETO",
          "nivel2": "GASTOS",
          "nivel3": "Subsidios y donaciones ",
          "periodo": 2007,
          "real_amount": 6169878.68
         },
         {
          "nivel1": "TRANSACCIONES QUE AFECTAN EL PATRIMONIO NETO",
          "nivel2": "GASTOS",
          "nivel3": "Subsidios y donaciones ",
          "periodo": 2008,
          "real_amount": 7382705.9
         },
         {
          "nivel1": "TRANSACCIONES QUE AFECTAN EL PATRIMONIO NETO",
          "nivel2": "GASTOS",
          "nivel3": "Subsidios y donaciones ",
          "periodo": 2009,
          "real_amount": 8625701.48
         },
         {
          "nivel1": "TRANSACCIONES QUE AFECTAN EL PATRIMONIO NETO",
          "nivel2": "GASTOS",
          "nivel3": "Subsidios y donaciones ",
          "periodo": 2010,
          "real_amount": 9355354.67
         },
         {
          "nivel1": "TRANSACCIONES QUE AFECTAN EL PATRIMONIO NETO",
          "nivel2": "GASTOS",
          "nivel3": "Subsidios y donaciones ",
          "periodo": 2011,
          "real_amount": 9237368.79
         },
         {
          "nivel1": "TRANSACCIONES QUE AFECTAN EL PATRIMONIO NETO",
          "nivel2": "GASTOS",
          "nivel3": "Subsidios y donaciones ",
          "periodo": 2012,
          "real_amount": 10168319.11
         },
         {
          "nivel1": "TRANSACCIONES QUE AFECTAN EL PATRIMONIO NETO",
          "nivel2": "GASTOS",
          "nivel3": "Subsidios y donaciones ",
          "periodo": 2013,
          "real_amount": 11152880.39
         },
         {
          "nivel1": "TRANSACCIONES QUE AFECTAN EL PATRIMONIO NETO",
          "nivel2": "GASTOS",
          "nivel3": "Subsidios y donaciones ",
          "periodo": 2014,
          "real_amount": 11828632.94
         },
         {
          "nivel1": "TRANSACCIONES QUE AFECTAN EL PATRIMONIO NETO",
          "nivel2": "GASTOS",
          "nivel3": "Subsidios y donaciones ",
          "periodo": 2015,
          "real_amount": 12919695.37
         },
         {
          "nivel1": "TRANSACCIONES QUE AFECTAN EL PATRIMONIO NETO",
          "nivel2": "GASTOS",
          "nivel3": "Subsidios y donaciones ",
          "periodo": 2016,
          "real_amount": 14025633.53
         },
         {
          "nivel1": "TRANSACCIONES QUE AFECTAN EL PATRIMONIO NETO",
          "nivel2": "GASTOS",
          "nivel3": "Subsidios y donaciones ",
          "periodo": 2017,
          "real_amount": 14998298.22
         },
         {
          "nivel1": "TRANSACCIONES QUE AFECTAN EL PATRIMONIO NETO",
          "nivel2": "INGRESOS",
          "nivel3": "Cobre bruto",
          "periodo": 1990,
          "real_amount": 1935051.72
         },
         {
          "nivel1": "TRANSACCIONES QUE AFECTAN EL PATRIMONIO NETO",
          "nivel2": "INGRESOS",
          "nivel3": "Cobre bruto",
          "periodo": 1991,
          "real_amount": 1039128.11
         },
         {
          "nivel1": "TRANSACCIONES QUE AFECTAN EL PATRIMONIO NETO",
          "nivel2": "INGRESOS",
          "nivel3": "Cobre bruto",
          "periodo": 1992,
          "real_amount": 950370.46
         },
         {
          "nivel1": "TRANSACCIONES QUE AFECTAN EL PATRIMONIO NETO",
          "nivel2": "INGRESOS",
          "nivel3": "Cobre bruto",
          "periodo": 1993,
          "real_amount": 434457.23
         },
         {
          "nivel1": "TRANSACCIONES QUE AFECTAN EL PATRIMONIO NETO",
          "nivel2": "INGRESOS",
          "nivel3": "Cobre bruto",
          "periodo": 1994,
          "real_amount": 775337.35
         },
         {
          "nivel1": "TRANSACCIONES QUE AFECTAN EL PATRIMONIO NETO",
          "nivel2": "INGRESOS",
          "nivel3": "Cobre bruto",
          "periodo": 1995,
          "real_amount": 1499926.13
         },
         {
          "nivel1": "TRANSACCIONES QUE AFECTAN EL PATRIMONIO NETO",
          "nivel2": "INGRESOS",
          "nivel3": "Cobre bruto",
          "periodo": 1996,
          "real_amount": 831721.57
         },
         {
          "nivel1": "TRANSACCIONES QUE AFECTAN EL PATRIMONIO NETO",
          "nivel2": "INGRESOS",
          "nivel3": "Cobre bruto",
          "periodo": 1997,
          "real_amount": 905255.35
         },
         {
          "nivel1": "TRANSACCIONES QUE AFECTAN EL PATRIMONIO NETO",
          "nivel2": "INGRESOS",
          "nivel3": "Cobre bruto",
          "periodo": 1998,
          "real_amount": 275738.59
         },
         {
          "nivel1": "TRANSACCIONES QUE AFECTAN EL PATRIMONIO NETO",
          "nivel2": "INGRESOS",
          "nivel3": "Cobre bruto",
          "periodo": 1999,
          "real_amount": 246277.11
         },
         {
          "nivel1": "TRANSACCIONES QUE AFECTAN EL PATRIMONIO NETO",
          "nivel2": "INGRESOS",
          "nivel3": "Cobre bruto",
          "periodo": 2000,
          "real_amount": 648056.48
         },
         {
          "nivel1": "TRANSACCIONES QUE AFECTAN EL PATRIMONIO NETO",
          "nivel2": "INGRESOS",
          "nivel3": "Cobre bruto",
          "periodo": 2001,
          "real_amount": 375225.32
         },
         {
          "nivel1": "TRANSACCIONES QUE AFECTAN EL PATRIMONIO NETO",
          "nivel2": "INGRESOS",
          "nivel3": "Cobre bruto",
          "periodo": 2002,
          "real_amount": 350431.25
         },
         {
          "nivel1": "TRANSACCIONES QUE AFECTAN EL PATRIMONIO NETO",
          "nivel2": "INGRESOS",
          "nivel3": "Cobre bruto",
          "periodo": 2003,
          "real_amount": 681729.25
         },
         {
          "nivel1": "TRANSACCIONES QUE AFECTAN EL PATRIMONIO NETO",
          "nivel2": "INGRESOS",
          "nivel3": "Cobre bruto",
          "periodo": 2004,
          "real_amount": 2760048.04
         },
         {
          "nivel1": "TRANSACCIONES QUE AFECTAN EL PATRIMONIO NETO",
          "nivel2": "INGRESOS",
          "nivel3": "Cobre bruto",
          "periodo": 2005,
          "real_amount": 3704834.85
         },
         {
          "nivel1": "TRANSACCIONES QUE AFECTAN EL PATRIMONIO NETO",
          "nivel2": "INGRESOS",
          "nivel3": "Cobre bruto",
          "periodo": 2006,
          "real_amount": 6506311.41
         },
         {
          "nivel1": "TRANSACCIONES QUE AFECTAN EL PATRIMONIO NETO",
          "nivel2": "INGRESOS",
          "nivel3": "Cobre bruto",
          "periodo": 2007,
          "real_amount": 5824599.82
         },
         {
          "nivel1": "TRANSACCIONES QUE AFECTAN EL PATRIMONIO NETO",
          "nivel2": "INGRESOS",
          "nivel3": "Cobre bruto",
          "periodo": 2008,
          "real_amount": 4138031.8
         },
         {
          "nivel1": "TRANSACCIONES QUE AFECTAN EL PATRIMONIO NETO",
          "nivel2": "INGRESOS",
          "nivel3": "Cobre bruto",
          "periodo": 2009,
          "real_amount": 2030682.3
         },
         {
          "nivel1": "TRANSACCIONES QUE AFECTAN EL PATRIMONIO NETO",
          "nivel2": "INGRESOS",
          "nivel3": "Cobre bruto",
          "periodo": 2010,
          "real_amount": 3819539.17
         },
         {
          "nivel1": "TRANSACCIONES QUE AFECTAN EL PATRIMONIO NETO",
          "nivel2": "INGRESOS",
          "nivel3": "Cobre bruto",
          "periodo": 2011,
          "real_amount": 3360128.37
         },
         {
          "nivel1": "TRANSACCIONES QUE AFECTAN EL PATRIMONIO NETO",
          "nivel2": "INGRESOS",
          "nivel3": "Cobre bruto",
          "periodo": 2012,
          "real_amount": 2316530.09
         },
         {
          "nivel1": "TRANSACCIONES QUE AFECTAN EL PATRIMONIO NETO",
          "nivel2": "INGRESOS",
          "nivel3": "Cobre bruto",
          "periodo": 2013,
          "real_amount": 1637152.96
         },
         {
          "nivel1": "TRANSACCIONES QUE AFECTAN EL PATRIMONIO NETO",
          "nivel2": "INGRESOS",
          "nivel3": "Cobre bruto",
          "periodo": 2014,
          "real_amount": 1497921.75
         },
         {
          "nivel1": "TRANSACCIONES QUE AFECTAN EL PATRIMONIO NETO",
          "nivel2": "INGRESOS",
          "nivel3": "Cobre bruto",
          "periodo": 2015,
          "real_amount": 746262.73
         },
         {
          "nivel1": "TRANSACCIONES QUE AFECTAN EL PATRIMONIO NETO",
          "nivel2": "INGRESOS",
          "nivel3": "Cobre bruto",
          "periodo": 2016,
          "real_amount": 612811.37
         },
         {
          "nivel1": "TRANSACCIONES QUE AFECTAN EL PATRIMONIO NETO",
          "nivel2": "INGRESOS",
          "nivel3": "Cobre bruto",
          "periodo": 2017,
          "real_amount": 898899.7
         },
         {
          "nivel1": "TRANSACCIONES QUE AFECTAN EL PATRIMONIO NETO",
          "nivel2": "INGRESOS",
          "nivel3": "Donaciones ",
          "periodo": 1990,
          "real_amount": 63035.8
         },
         {
          "nivel1": "TRANSACCIONES QUE AFECTAN EL PATRIMONIO NETO",
          "nivel2": "INGRESOS",
          "nivel3": "Donaciones ",
          "periodo": 1991,
          "real_amount": 69821.06
         },
         {
          "nivel1": "TRANSACCIONES QUE AFECTAN EL PATRIMONIO NETO",
          "nivel2": "INGRESOS",
          "nivel3": "Donaciones ",
          "periodo": 1992,
          "real_amount": 86286.86
         },
         {
          "nivel1": "TRANSACCIONES QUE AFECTAN EL PATRIMONIO NETO",
          "nivel2": "INGRESOS",
          "nivel3": "Donaciones ",
          "periodo": 1993,
          "real_amount": 101912.43
         },
         {
          "nivel1": "TRANSACCIONES QUE AFECTAN EL PATRIMONIO NETO",
          "nivel2": "INGRESOS",
          "nivel3": "Donaciones ",
          "periodo": 1994,
          "real_amount": 93355.53
         },
         {
          "nivel1": "TRANSACCIONES QUE AFECTAN EL PATRIMONIO NETO",
          "nivel2": "INGRESOS",
          "nivel3": "Donaciones ",
          "periodo": 1995,
          "real_amount": 114780.23
         },
         {
          "nivel1": "TRANSACCIONES QUE AFECTAN EL PATRIMONIO NETO",
          "nivel2": "INGRESOS",
          "nivel3": "Donaciones ",
          "periodo": 1996,
          "real_amount": 116768.91
         },
         {
          "nivel1": "TRANSACCIONES QUE AFECTAN EL PATRIMONIO NETO",
          "nivel2": "INGRESOS",
          "nivel3": "Donaciones ",
          "periodo": 1997,
          "real_amount": 121960.61
         },
         {
          "nivel1": "TRANSACCIONES QUE AFECTAN EL PATRIMONIO NETO",
          "nivel2": "INGRESOS",
          "nivel3": "Donaciones ",
          "periodo": 1998,
          "real_amount": 128381.79
         },
         {
          "nivel1": "TRANSACCIONES QUE AFECTAN EL PATRIMONIO NETO",
          "nivel2": "INGRESOS",
          "nivel3": "Donaciones ",
          "periodo": 1999,
          "real_amount": 134447.64
         },
         {
          "nivel1": "TRANSACCIONES QUE AFECTAN EL PATRIMONIO NETO",
          "nivel2": "INGRESOS",
          "nivel3": "Donaciones ",
          "periodo": 2000,
          "real_amount": 137126.79
         },
         {
          "nivel1": "TRANSACCIONES QUE AFECTAN EL PATRIMONIO NETO",
          "nivel2": "INGRESOS",
          "nivel3": "Donaciones ",
          "periodo": 2001,
          "real_amount": 219842.09
         },
         {
          "nivel1": "TRANSACCIONES QUE AFECTAN EL PATRIMONIO NETO",
          "nivel2": "INGRESOS",
          "nivel3": "Donaciones ",
          "periodo": 2002,
          "real_amount": 142124.18
         },
         {
          "nivel1": "TRANSACCIONES QUE AFECTAN EL PATRIMONIO NETO",
          "nivel2": "INGRESOS",
          "nivel3": "Donaciones ",
          "periodo": 2003,
          "real_amount": 149339.89
         },
         {
          "nivel1": "TRANSACCIONES QUE AFECTAN EL PATRIMONIO NETO",
          "nivel2": "INGRESOS",
          "nivel3": "Donaciones ",
          "periodo": 2004,
          "real_amount": 65164.14
         },
         {
          "nivel1": "TRANSACCIONES QUE AFECTAN EL PATRIMONIO NETO",
          "nivel2": "INGRESOS",
          "nivel3": "Donaciones ",
          "periodo": 2005,
          "real_amount": 110540.54
         },
         {
          "nivel1": "TRANSACCIONES QUE AFECTAN EL PATRIMONIO NETO",
          "nivel2": "INGRESOS",
          "nivel3": "Donaciones ",
          "periodo": 2006,
          "real_amount": 136097.21
         },
         {
          "nivel1": "TRANSACCIONES QUE AFECTAN EL PATRIMONIO NETO",
          "nivel2": "INGRESOS",
          "nivel3": "Donaciones ",
          "periodo": 2007,
          "real_amount": 62861.59
         },
         {
          "nivel1": "TRANSACCIONES QUE AFECTAN EL PATRIMONIO NETO",
          "nivel2": "INGRESOS",
          "nivel3": "Donaciones ",
          "periodo": 2008,
          "real_amount": 83643.93
         },
         {
          "nivel1": "TRANSACCIONES QUE AFECTAN EL PATRIMONIO NETO",
          "nivel2": "INGRESOS",
          "nivel3": "Donaciones ",
          "periodo": 2009,
          "real_amount": 86838.74
         },
         {
          "nivel1": "TRANSACCIONES QUE AFECTAN EL PATRIMONIO NETO",
          "nivel2": "INGRESOS",
          "nivel3": "Donaciones ",
          "periodo": 2010,
          "real_amount": 91863.26
         },
         {
          "nivel1": "TRANSACCIONES QUE AFECTAN EL PATRIMONIO NETO",
          "nivel2": "INGRESOS",
          "nivel3": "Donaciones ",
          "periodo": 2011,
          "real_amount": 113361.06
         },
         {
          "nivel1": "TRANSACCIONES QUE AFECTAN EL PATRIMONIO NETO",
          "nivel2": "INGRESOS",
          "nivel3": "Donaciones ",
          "periodo": 2012,
          "real_amount": 93066.05
         },
         {
          "nivel1": "TRANSACCIONES QUE AFECTAN EL PATRIMONIO NETO",
          "nivel2": "INGRESOS",
          "nivel3": "Donaciones ",
          "periodo": 2013,
          "real_amount": 82700.26
         },
         {
          "nivel1": "TRANSACCIONES QUE AFECTAN EL PATRIMONIO NETO",
          "nivel2": "INGRESOS",
          "nivel3": "Donaciones ",
          "periodo": 2014,
          "real_amount": 77128.56
         },
         {
          "nivel1": "TRANSACCIONES QUE AFECTAN EL PATRIMONIO NETO",
          "nivel2": "INGRESOS",
          "nivel3": "Donaciones ",
          "periodo": 2015,
          "real_amount": 90471.44
         },
         {
          "nivel1": "TRANSACCIONES QUE AFECTAN EL PATRIMONIO NETO",
          "nivel2": "INGRESOS",
          "nivel3": "Donaciones ",
          "periodo": 2016,
          "real_amount": 89885.22
         },
         {
          "nivel1": "TRANSACCIONES QUE AFECTAN EL PATRIMONIO NETO",
          "nivel2": "INGRESOS",
          "nivel3": "Donaciones ",
          "periodo": 2017,
          "real_amount": 97727.85
         },
         {
          "nivel1": "TRANSACCIONES QUE AFECTAN EL PATRIMONIO NETO",
          "nivel2": "INGRESOS",
          "nivel3": "Imposiciones previsionales",
          "periodo": 1990,
          "real_amount": 676208.82
         },
         {
          "nivel1": "TRANSACCIONES QUE AFECTAN EL PATRIMONIO NETO",
          "nivel2": "INGRESOS",
          "nivel3": "Imposiciones previsionales",
          "periodo": 1991,
          "real_amount": 655872.58
         },
         {
          "nivel1": "TRANSACCIONES QUE AFECTAN EL PATRIMONIO NETO",
          "nivel2": "INGRESOS",
          "nivel3": "Imposiciones previsionales",
          "periodo": 1992,
          "real_amount": 742083.3
         },
         {
          "nivel1": "TRANSACCIONES QUE AFECTAN EL PATRIMONIO NETO",
          "nivel2": "INGRESOS",
          "nivel3": "Imposiciones previsionales",
          "periodo": 1993,
          "real_amount": 739196.78
         },
         {
          "nivel1": "TRANSACCIONES QUE AFECTAN EL PATRIMONIO NETO",
          "nivel2": "INGRESOS",
          "nivel3": "Imposiciones previsionales",
          "periodo": 1994,
          "real_amount": 750935.95
         },
         {
          "nivel1": "TRANSACCIONES QUE AFECTAN EL PATRIMONIO NETO",
          "nivel2": "INGRESOS",
          "nivel3": "Imposiciones previsionales",
          "periodo": 1995,
          "real_amount": 774153.99
         },
         {
          "nivel1": "TRANSACCIONES QUE AFECTAN EL PATRIMONIO NETO",
          "nivel2": "INGRESOS",
          "nivel3": "Imposiciones previsionales",
          "periodo": 1996,
          "real_amount": 832537.48
         },
         {
          "nivel1": "TRANSACCIONES QUE AFECTAN EL PATRIMONIO NETO",
          "nivel2": "INGRESOS",
          "nivel3": "Imposiciones previsionales",
          "periodo": 1997,
          "real_amount": 874619.26
         },
         {
          "nivel1": "TRANSACCIONES QUE AFECTAN EL PATRIMONIO NETO",
          "nivel2": "INGRESOS",
          "nivel3": "Imposiciones previsionales",
          "periodo": 1998,
          "real_amount": 919848.84
         },
         {
          "nivel1": "TRANSACCIONES QUE AFECTAN EL PATRIMONIO NETO",
          "nivel2": "INGRESOS",
          "nivel3": "Imposiciones previsionales",
          "periodo": 1999,
          "real_amount": 944290.39
         },
         {
          "nivel1": "TRANSACCIONES QUE AFECTAN EL PATRIMONIO NETO",
          "nivel2": "INGRESOS",
          "nivel3": "Imposiciones previsionales",
          "periodo": 2000,
          "real_amount": 995092.74
         },
         {
          "nivel1": "TRANSACCIONES QUE AFECTAN EL PATRIMONIO NETO",
          "nivel2": "INGRESOS",
          "nivel3": "Imposiciones previsionales",
          "periodo": 2001,
          "real_amount": 1046247.69
         },
         {
          "nivel1": "TRANSACCIONES QUE AFECTAN EL PATRIMONIO NETO",
          "nivel2": "INGRESOS",
          "nivel3": "Imposiciones previsionales",
          "periodo": 2002,
          "real_amount": 1103427.4
         },
         {
          "nivel1": "TRANSACCIONES QUE AFECTAN EL PATRIMONIO NETO",
          "nivel2": "INGRESOS",
          "nivel3": "Imposiciones previsionales",
          "periodo": 2003,
          "real_amount": 1150972.96
         },
         {
          "nivel1": "TRANSACCIONES QUE AFECTAN EL PATRIMONIO NETO",
          "nivel2": "INGRESOS",
          "nivel3": "Imposiciones previsionales",
          "periodo": 2004,
          "real_amount": 1294879.6
         },
         {
          "nivel1": "TRANSACCIONES QUE AFECTAN EL PATRIMONIO NETO",
          "nivel2": "INGRESOS",
          "nivel3": "Imposiciones previsionales",
          "periodo": 2005,
          "real_amount": 1414440.68
         },
         {
          "nivel1": "TRANSACCIONES QUE AFECTAN EL PATRIMONIO NETO",
          "nivel2": "INGRESOS",
          "nivel3": "Imposiciones previsionales",
          "periodo": 2006,
          "real_amount": 1542318.55
         },
         {
          "nivel1": "TRANSACCIONES QUE AFECTAN EL PATRIMONIO NETO",
          "nivel2": "INGRESOS",
          "nivel3": "Imposiciones previsionales",
          "periodo": 2007,
          "real_amount": 1615341.65
         },
         {
          "nivel1": "TRANSACCIONES QUE AFECTAN EL PATRIMONIO NETO",
          "nivel2": "INGRESOS",
          "nivel3": "Imposiciones previsionales",
          "periodo": 2008,
          "real_amount": 1667684.93
         },
         {
          "nivel1": "TRANSACCIONES QUE AFECTAN EL PATRIMONIO NETO",
          "nivel2": "INGRESOS",
          "nivel3": "Imposiciones previsionales",
          "periodo": 2009,
          "real_amount": 1748591.51
         },
         {
          "nivel1": "TRANSACCIONES QUE AFECTAN EL PATRIMONIO NETO",
          "nivel2": "INGRESOS",
          "nivel3": "Imposiciones previsionales",
          "periodo": 2010,
          "real_amount": 1875845.92
         },
         {
          "nivel1": "TRANSACCIONES QUE AFECTAN EL PATRIMONIO NETO",
          "nivel2": "INGRESOS",
          "nivel3": "Imposiciones previsionales",
          "periodo": 2011,
          "real_amount": 1973028.17
         },
         {
          "nivel1": "TRANSACCIONES QUE AFECTAN EL PATRIMONIO NETO",
          "nivel2": "INGRESOS",
          "nivel3": "Imposiciones previsionales",
          "periodo": 2012,
          "real_amount": 2126144.8
         },
         {
          "nivel1": "TRANSACCIONES QUE AFECTAN EL PATRIMONIO NETO",
          "nivel2": "INGRESOS",
          "nivel3": "Imposiciones previsionales",
          "periodo": 2013,
          "real_amount": 2281778.8
         },
         {
          "nivel1": "TRANSACCIONES QUE AFECTAN EL PATRIMONIO NETO",
          "nivel2": "INGRESOS",
          "nivel3": "Imposiciones previsionales",
          "periodo": 2014,
          "real_amount": 2334991.75
         },
         {
          "nivel1": "TRANSACCIONES QUE AFECTAN EL PATRIMONIO NETO",
          "nivel2": "INGRESOS",
          "nivel3": "Imposiciones previsionales",
          "periodo": 2015,
          "real_amount": 2388695.29
         },
         {
          "nivel1": "TRANSACCIONES QUE AFECTAN EL PATRIMONIO NETO",
          "nivel2": "INGRESOS",
          "nivel3": "Imposiciones previsionales",
          "periodo": 2016,
          "real_amount": 2494702.2
         },
         {
          "nivel1": "TRANSACCIONES QUE AFECTAN EL PATRIMONIO NETO",
          "nivel2": "INGRESOS",
          "nivel3": "Imposiciones previsionales",
          "periodo": 2017,
          "real_amount": 2627558.36
         },
         {
          "nivel1": "TRANSACCIONES QUE AFECTAN EL PATRIMONIO NETO",
          "nivel2": "INGRESOS",
          "nivel3": "Ingresos de operación",
          "periodo": 1990,
          "real_amount": 314984.08
         },
         {
          "nivel1": "TRANSACCIONES QUE AFECTAN EL PATRIMONIO NETO",
          "nivel2": "INGRESOS",
          "nivel3": "Ingresos de operación",
          "periodo": 1991,
          "real_amount": 361371.41
         },
         {
          "nivel1": "TRANSACCIONES QUE AFECTAN EL PATRIMONIO NETO",
          "nivel2": "INGRESOS",
          "nivel3": "Ingresos de operación",
          "periodo": 1992,
          "real_amount": 440955.08
         },
         {
          "nivel1": "TRANSACCIONES QUE AFECTAN EL PATRIMONIO NETO",
          "nivel2": "INGRESOS",
          "nivel3": "Ingresos de operación",
          "periodo": 1993,
          "real_amount": 460157.35
         },
         {
          "nivel1": "TRANSACCIONES QUE AFECTAN EL PATRIMONIO NETO",
          "nivel2": "INGRESOS",
          "nivel3": "Ingresos de operación",
          "periodo": 1994,
          "real_amount": 475534.61
         },
         {
          "nivel1": "TRANSACCIONES QUE AFECTAN EL PATRIMONIO NETO",
          "nivel2": "INGRESOS",
          "nivel3": "Ingresos de operación",
          "periodo": 1995,
          "real_amount": 492435.41
         },
         {
          "nivel1": "TRANSACCIONES QUE AFECTAN EL PATRIMONIO NETO",
          "nivel2": "INGRESOS",
          "nivel3": "Ingresos de operación",
          "periodo": 1996,
          "real_amount": 538734.5
         },
         {
          "nivel1": "TRANSACCIONES QUE AFECTAN EL PATRIMONIO NETO",
          "nivel2": "INGRESOS",
          "nivel3": "Ingresos de operación",
          "periodo": 1997,
          "real_amount": 561204.46
         },
         {
          "nivel1": "TRANSACCIONES QUE AFECTAN EL PATRIMONIO NETO",
          "nivel2": "INGRESOS",
          "nivel3": "Ingresos de operación",
          "periodo": 1998,
          "real_amount": 595934.91
         },
         {
          "nivel1": "TRANSACCIONES QUE AFECTAN EL PATRIMONIO NETO",
          "nivel2": "INGRESOS",
          "nivel3": "Ingresos de operación",
          "periodo": 1999,
          "real_amount": 589283.42
         },
         {
          "nivel1": "TRANSACCIONES QUE AFECTAN EL PATRIMONIO NETO",
          "nivel2": "INGRESOS",
          "nivel3": "Ingresos de operación",
          "periodo": 2000,
          "real_amount": 593965.94
         },
         {
          "nivel1": "TRANSACCIONES QUE AFECTAN EL PATRIMONIO NETO",
          "nivel2": "INGRESOS",
          "nivel3": "Ingresos de operación",
          "periodo": 2001,
          "real_amount": 593719.73
         },
         {
          "nivel1": "TRANSACCIONES QUE AFECTAN EL PATRIMONIO NETO",
          "nivel2": "INGRESOS",
          "nivel3": "Ingresos de operación",
          "periodo": 2002,
          "real_amount": 566707.25
         },
         {
          "nivel1": "TRANSACCIONES QUE AFECTAN EL PATRIMONIO NETO",
          "nivel2": "INGRESOS",
          "nivel3": "Ingresos de operación",
          "periodo": 2003,
          "real_amount": 621876.93
         },
         {
          "nivel1": "TRANSACCIONES QUE AFECTAN EL PATRIMONIO NETO",
          "nivel2": "INGRESOS",
          "nivel3": "Ingresos de operación",
          "periodo": 2004,
          "real_amount": 604812.43
         },
         {
          "nivel1": "TRANSACCIONES QUE AFECTAN EL PATRIMONIO NETO",
          "nivel2": "INGRESOS",
          "nivel3": "Ingresos de operación",
          "periodo": 2005,
          "real_amount": 631730.48
         },
         {
          "nivel1": "TRANSACCIONES QUE AFECTAN EL PATRIMONIO NETO",
          "nivel2": "INGRESOS",
          "nivel3": "Ingresos de operación",
          "periodo": 2006,
          "real_amount": 646523.78
         },
         {
          "nivel1": "TRANSACCIONES QUE AFECTAN EL PATRIMONIO NETO",
          "nivel2": "INGRESOS",
          "nivel3": "Ingresos de operación",
          "periodo": 2007,
          "real_amount": 654643.65
         },
         {
          "nivel1": "TRANSACCIONES QUE AFECTAN EL PATRIMONIO NETO",
          "nivel2": "INGRESOS",
          "nivel3": "Ingresos de operación",
          "periodo": 2008,
          "real_amount": 683151.58
         },
         {
          "nivel1": "TRANSACCIONES QUE AFECTAN EL PATRIMONIO NETO",
          "nivel2": "INGRESOS",
          "nivel3": "Ingresos de operación",
          "periodo": 2009,
          "real_amount": 687093.53
         },
         {
          "nivel1": "TRANSACCIONES QUE AFECTAN EL PATRIMONIO NETO",
          "nivel2": "INGRESOS",
          "nivel3": "Ingresos de operación",
          "periodo": 2010,
          "real_amount": 694882.66
         },
         {
          "nivel1": "TRANSACCIONES QUE AFECTAN EL PATRIMONIO NETO",
          "nivel2": "INGRESOS",
          "nivel3": "Ingresos de operación",
          "periodo": 2011,
          "real_amount": 732823.93
         },
         {
          "nivel1": "TRANSACCIONES QUE AFECTAN EL PATRIMONIO NETO",
          "nivel2": "INGRESOS",
          "nivel3": "Ingresos de operación",
          "periodo": 2012,
          "real_amount": 782419.84
         },
         {
          "nivel1": "TRANSACCIONES QUE AFECTAN EL PATRIMONIO NETO",
          "nivel2": "INGRESOS",
          "nivel3": "Ingresos de operación",
          "periodo": 2013,
          "real_amount": 794866.05
         },
         {
          "nivel1": "TRANSACCIONES QUE AFECTAN EL PATRIMONIO NETO",
          "nivel2": "INGRESOS",
          "nivel3": "Ingresos de operación",
          "periodo": 2014,
          "real_amount": 831541.13
         },
         {
          "nivel1": "TRANSACCIONES QUE AFECTAN EL PATRIMONIO NETO",
          "nivel2": "INGRESOS",
          "nivel3": "Ingresos de operación",
          "periodo": 2015,
          "real_amount": 884059.26
         },
         {
          "nivel1": "TRANSACCIONES QUE AFECTAN EL PATRIMONIO NETO",
          "nivel2": "INGRESOS",
          "nivel3": "Ingresos de operación",
          "periodo": 2016,
          "real_amount": 921198.82
         },
         {
          "nivel1": "TRANSACCIONES QUE AFECTAN EL PATRIMONIO NETO",
          "nivel2": "INGRESOS",
          "nivel3": "Ingresos de operación",
          "periodo": 2017,
          "real_amount": 948758.05
         },
         {
          "nivel1": "TRANSACCIONES QUE AFECTAN EL PATRIMONIO NETO",
          "nivel2": "INGRESOS",
          "nivel3": "Ingresos tributarios netos",
          "periodo": 1990,
          "real_amount": 5693937.7
         },
         {
          "nivel1": "TRANSACCIONES QUE AFECTAN EL PATRIMONIO NETO",
          "nivel2": "INGRESOS",
          "nivel3": "Ingresos tributarios netos",
          "periodo": 1991,
          "real_amount": 7018285.19
         },
         {
          "nivel1": "TRANSACCIONES QUE AFECTAN EL PATRIMONIO NETO",
          "nivel2": "INGRESOS",
          "nivel3": "Ingresos tributarios netos",
          "periodo": 1992,
          "real_amount": 7932913.46
         },
         {
          "nivel1": "TRANSACCIONES QUE AFECTAN EL PATRIMONIO NETO",
          "nivel2": "INGRESOS",
          "nivel3": "Ingresos tributarios netos",
          "periodo": 1993,
          "real_amount": 8728176.18
         },
         {
          "nivel1": "TRANSACCIONES QUE AFECTAN EL PATRIMONIO NETO",
          "nivel2": "INGRESOS",
          "nivel3": "Ingresos tributarios netos",
          "periodo": 1994,
          "real_amount": 9009585.11
         },
         {
          "nivel1": "TRANSACCIONES QUE AFECTAN EL PATRIMONIO NETO",
          "nivel2": "INGRESOS",
          "nivel3": "Ingresos tributarios netos",
          "periodo": 1995,
          "real_amount": 9766643.85
         },
         {
          "nivel1": "TRANSACCIONES QUE AFECTAN EL PATRIMONIO NETO",
          "nivel2": "INGRESOS",
          "nivel3": "Ingresos tributarios netos",
          "periodo": 1996,
          "real_amount": 10749008.68
         },
         {
          "nivel1": "TRANSACCIONES QUE AFECTAN EL PATRIMONIO NETO",
          "nivel2": "INGRESOS",
          "nivel3": "Ingresos tributarios netos",
          "periodo": 1997,
          "real_amount": 11039424.17
         },
         {
          "nivel1": "TRANSACCIONES QUE AFECTAN EL PATRIMONIO NETO",
          "nivel2": "INGRESOS",
          "nivel3": "Ingresos tributarios netos",
          "periodo": 1998,
          "real_amount": 11120773.42
         },
         {
          "nivel1": "TRANSACCIONES QUE AFECTAN EL PATRIMONIO NETO",
          "nivel2": "INGRESOS",
          "nivel3": "Ingresos tributarios netos",
          "periodo": 1999,
          "real_amount": 10454122.53
         },
         {
          "nivel1": "TRANSACCIONES QUE AFECTAN EL PATRIMONIO NETO",
          "nivel2": "INGRESOS",
          "nivel3": "Ingresos tributarios netos",
          "periodo": 2000,
          "real_amount": 11535795.27
         },
         {
          "nivel1": "TRANSACCIONES QUE AFECTAN EL PATRIMONIO NETO",
          "nivel2": "INGRESOS",
          "nivel3": "Ingresos tributarios netos",
          "periodo": 2001,
          "real_amount": 12008213.21
         },
         {
          "nivel1": "TRANSACCIONES QUE AFECTAN EL PATRIMONIO NETO",
          "nivel2": "INGRESOS",
          "nivel3": "Ingresos tributarios netos",
          "periodo": 2002,
          "real_amount": 12529563.62
         },
         {
          "nivel1": "TRANSACCIONES QUE AFECTAN EL PATRIMONIO NETO",
          "nivel2": "INGRESOS",
          "nivel3": "Ingresos tributarios netos",
          "periodo": 2003,
          "real_amount": 12833908.39
         },
         {
          "nivel1": "TRANSACCIONES QUE AFECTAN EL PATRIMONIO NETO",
          "nivel2": "INGRESOS",
          "nivel3": "Ingresos tributarios netos",
          "periodo": 2004,
          "real_amount": 14255990.24
         },
         {
          "nivel1": "TRANSACCIONES QUE AFECTAN EL PATRIMONIO NETO",
          "nivel2": "INGRESOS",
          "nivel3": "Ingresos tributarios netos",
          "periodo": 2005,
          "real_amount": 16979644.44
         },
         {
          "nivel1": "TRANSACCIONES QUE AFECTAN EL PATRIMONIO NETO",
          "nivel2": "INGRESOS",
          "nivel3": "Ingresos tributarios netos",
          "periodo": 2006,
          "real_amount": 19411960.43
         },
         {
          "nivel1": "TRANSACCIONES QUE AFECTAN EL PATRIMONIO NETO",
          "nivel2": "INGRESOS",
          "nivel3": "Ingresos tributarios netos",
          "periodo": 2007,
          "real_amount": 22733898.03
         },
         {
          "nivel1": "TRANSACCIONES QUE AFECTAN EL PATRIMONIO NETO",
          "nivel2": "INGRESOS",
          "nivel3": "Ingresos tributarios netos",
          "periodo": 2008,
          "real_amount": 21309132.1
         },
         {
          "nivel1": "TRANSACCIONES QUE AFECTAN EL PATRIMONIO NETO",
          "nivel2": "INGRESOS",
          "nivel3": "Ingresos tributarios netos",
          "periodo": 2009,
          "real_amount": 17013066.85
         },
         {
          "nivel1": "TRANSACCIONES QUE AFECTAN EL PATRIMONIO NETO",
          "nivel2": "INGRESOS",
          "nivel3": "Ingresos tributarios netos",
          "periodo": 2010,
          "real_amount": 22070528.42
         },
         {
          "nivel1": "TRANSACCIONES QUE AFECTAN EL PATRIMONIO NETO",
          "nivel2": "INGRESOS",
          "nivel3": "Ingresos tributarios netos",
          "periodo": 2011,
          "real_amount": 25639136.66
         },
         {
          "nivel1": "TRANSACCIONES QUE AFECTAN EL PATRIMONIO NETO",
          "nivel2": "INGRESOS",
          "nivel3": "Ingresos tributarios netos",
          "periodo": 2012,
          "real_amount": 26858940.58
         },
         {
          "nivel1": "TRANSACCIONES QUE AFECTAN EL PATRIMONIO NETO",
          "nivel2": "INGRESOS",
          "nivel3": "Ingresos tributarios netos",
          "periodo": 2013,
          "real_amount": 26599535.31
         },
         {
          "nivel1": "TRANSACCIONES QUE AFECTAN EL PATRIMONIO NETO",
          "nivel2": "INGRESOS",
          "nivel3": "Ingresos tributarios netos",
          "periodo": 2014,
          "real_amount": 27094801.55
         },
         {
          "nivel1": "TRANSACCIONES QUE AFECTAN EL PATRIMONIO NETO",
          "nivel2": "INGRESOS",
          "nivel3": "Ingresos tributarios netos",
          "periodo": 2015,
          "real_amount": 29351467.88
         },
         {
          "nivel1": "TRANSACCIONES QUE AFECTAN EL PATRIMONIO NETO",
          "nivel2": "INGRESOS",
          "nivel3": "Ingresos tributarios netos",
          "periodo": 2016,
          "real_amount": 29631043.08
         },
         {
          "nivel1": "TRANSACCIONES QUE AFECTAN EL PATRIMONIO NETO",
          "nivel2": "INGRESOS",
          "nivel3": "Ingresos tributarios netos",
          "periodo": 2017,
          "real_amount": 30754067.04
         },
         {
          "nivel1": "TRANSACCIONES QUE AFECTAN EL PATRIMONIO NETO",
          "nivel2": "INGRESOS",
          "nivel3": "Otros ingresos",
          "periodo": 1990,
          "real_amount": 409211.46
         },
         {
          "nivel1": "TRANSACCIONES QUE AFECTAN EL PATRIMONIO NETO",
          "nivel2": "INGRESOS",
          "nivel3": "Otros ingresos",
          "periodo": 1991,
          "real_amount": 422757.58
         },
         {
          "nivel1": "TRANSACCIONES QUE AFECTAN EL PATRIMONIO NETO",
          "nivel2": "INGRESOS",
          "nivel3": "Otros ingresos",
          "periodo": 1992,
          "real_amount": 454723.72
         },
         {
          "nivel1": "TRANSACCIONES QUE AFECTAN EL PATRIMONIO NETO",
          "nivel2": "INGRESOS",
          "nivel3": "Otros ingresos",
          "periodo": 1993,
          "real_amount": 509350.82
         },
         {
          "nivel1": "TRANSACCIONES QUE AFECTAN EL PATRIMONIO NETO",
          "nivel2": "INGRESOS",
          "nivel3": "Otros ingresos",
          "periodo": 1994,
          "real_amount": 474965.85
         },
         {
          "nivel1": "TRANSACCIONES QUE AFECTAN EL PATRIMONIO NETO",
          "nivel2": "INGRESOS",
          "nivel3": "Otros ingresos",
          "periodo": 1995,
          "real_amount": 597536.61
         },
         {
          "nivel1": "TRANSACCIONES QUE AFECTAN EL PATRIMONIO NETO",
          "nivel2": "INGRESOS",
          "nivel3": "Otros ingresos",
          "periodo": 1996,
          "real_amount": 620686.11
         },
         {
          "nivel1": "TRANSACCIONES QUE AFECTAN EL PATRIMONIO NETO",
          "nivel2": "INGRESOS",
          "nivel3": "Otros ingresos",
          "periodo": 1997,
          "real_amount": 725750.88
         },
         {
          "nivel1": "TRANSACCIONES QUE AFECTAN EL PATRIMONIO NETO",
          "nivel2": "INGRESOS",
          "nivel3": "Otros ingresos",
          "periodo": 1998,
          "real_amount": 780501.2
         },
         {
          "nivel1": "TRANSACCIONES QUE AFECTAN EL PATRIMONIO NETO",
          "nivel2": "INGRESOS",
          "nivel3": "Otros ingresos",
          "periodo": 1999,
          "real_amount": 755350.62
         },
         {
          "nivel1": "TRANSACCIONES QUE AFECTAN EL PATRIMONIO NETO",
          "nivel2": "INGRESOS",
          "nivel3": "Otros ingresos",
          "periodo": 2000,
          "real_amount": 547201.11
         },
         {
          "nivel1": "TRANSACCIONES QUE AFECTAN EL PATRIMONIO NETO",
          "nivel2": "INGRESOS",
          "nivel3": "Otros ingresos",
          "periodo": 2001,
          "real_amount": 1024361.6
         },
         {
          "nivel1": "TRANSACCIONES QUE AFECTAN EL PATRIMONIO NETO",
          "nivel2": "INGRESOS",
          "nivel3": "Otros ingresos",
          "periodo": 2002,
          "real_amount": 709336.9
         },
         {
          "nivel1": "TRANSACCIONES QUE AFECTAN EL PATRIMONIO NETO",
          "nivel2": "INGRESOS",
          "nivel3": "Otros ingresos",
          "periodo": 2003,
          "real_amount": 809805.56
         },
         {
          "nivel1": "TRANSACCIONES QUE AFECTAN EL PATRIMONIO NETO",
          "nivel2": "INGRESOS",
          "nivel3": "Otros ingresos",
          "periodo": 2004,
          "real_amount": 720280.48
         },
         {
          "nivel1": "TRANSACCIONES QUE AFECTAN EL PATRIMONIO NETO",
          "nivel2": "INGRESOS",
          "nivel3": "Otros ingresos",
          "periodo": 2005,
          "real_amount": 719072.91
         },
         {
          "nivel1": "TRANSACCIONES QUE AFECTAN EL PATRIMONIO NETO",
          "nivel2": "INGRESOS",
          "nivel3": "Otros ingresos",
          "periodo": 2006,
          "real_amount": 664175.94
         },
         {
          "nivel1": "TRANSACCIONES QUE AFECTAN EL PATRIMONIO NETO",
          "nivel2": "INGRESOS",
          "nivel3": "Otros ingresos",
          "periodo": 2007,
          "real_amount": 675312.03
         },
         {
          "nivel1": "TRANSACCIONES QUE AFECTAN EL PATRIMONIO NETO",
          "nivel2": "INGRESOS",
          "nivel3": "Otros ingresos",
          "periodo": 2008,
          "real_amount": 505406.62
         },
         {
          "nivel1": "TRANSACCIONES QUE AFECTAN EL PATRIMONIO NETO",
          "nivel2": "INGRESOS",
          "nivel3": "Otros ingresos",
          "periodo": 2009,
          "real_amount": 945461.87
         },
         {
          "nivel1": "TRANSACCIONES QUE AFECTAN EL PATRIMONIO NETO",
          "nivel2": "INGRESOS",
          "nivel3": "Otros ingresos",
          "periodo": 2010,
          "real_amount": 837163.17
         },
         {
          "nivel1": "TRANSACCIONES QUE AFECTAN EL PATRIMONIO NETO",
          "nivel2": "INGRESOS",
          "nivel3": "Otros ingresos",
          "periodo": 2011,
          "real_amount": 981114.99
         },
         {
          "nivel1": "TRANSACCIONES QUE AFECTAN EL PATRIMONIO NETO",
          "nivel2": "INGRESOS",
          "nivel3": "Otros ingresos",
          "periodo": 2012,
          "real_amount": 1006138.68
         },
         {
          "nivel1": "TRANSACCIONES QUE AFECTAN EL PATRIMONIO NETO",
          "nivel2": "INGRESOS",
          "nivel3": "Otros ingresos",
          "periodo": 2013,
          "real_amount": 1240451.7
         },
         {
          "nivel1": "TRANSACCIONES QUE AFECTAN EL PATRIMONIO NETO",
          "nivel2": "INGRESOS",
          "nivel3": "Otros ingresos",
          "periodo": 2014,
          "real_amount": 1243632.43
         },
         {
          "nivel1": "TRANSACCIONES QUE AFECTAN EL PATRIMONIO NETO",
          "nivel2": "INGRESOS",
          "nivel3": "Otros ingresos",
          "periodo": 2015,
          "real_amount": 1386797.9
         },
         {
          "nivel1": "TRANSACCIONES QUE AFECTAN EL PATRIMONIO NETO",
          "nivel2": "INGRESOS",
          "nivel3": "Otros ingresos",
          "periodo": 2016,
          "real_amount": 1448551.83
         },
         {
          "nivel1": "TRANSACCIONES QUE AFECTAN EL PATRIMONIO NETO",
          "nivel2": "INGRESOS",
          "nivel3": "Otros ingresos",
          "periodo": 2017,
          "real_amount": 1343767
         },
         {
          "nivel1": "TRANSACCIONES QUE AFECTAN EL PATRIMONIO NETO",
          "nivel2": "INGRESOS",
          "nivel3": "Rentas de la propiedad ",
          "periodo": 1990,
          "real_amount": 273320.43
         },
         {
          "nivel1": "TRANSACCIONES QUE AFECTAN EL PATRIMONIO NETO",
          "nivel2": "INGRESOS",
          "nivel3": "Rentas de la propiedad ",
          "periodo": 1991,
          "real_amount": 328609.62
         },
         {
          "nivel1": "TRANSACCIONES QUE AFECTAN EL PATRIMONIO NETO",
          "nivel2": "INGRESOS",
          "nivel3": "Rentas de la propiedad ",
          "periodo": 1992,
          "real_amount": 270169.14
         },
         {
          "nivel1": "TRANSACCIONES QUE AFECTAN EL PATRIMONIO NETO",
          "nivel2": "INGRESOS",
          "nivel3": "Rentas de la propiedad ",
          "periodo": 1993,
          "real_amount": 301042.89
         },
         {
          "nivel1": "TRANSACCIONES QUE AFECTAN EL PATRIMONIO NETO",
          "nivel2": "INGRESOS",
          "nivel3": "Rentas de la propiedad ",
          "periodo": 1994,
          "real_amount": 284580.66
         },
         {
          "nivel1": "TRANSACCIONES QUE AFECTAN EL PATRIMONIO NETO",
          "nivel2": "INGRESOS",
          "nivel3": "Rentas de la propiedad ",
          "periodo": 1995,
          "real_amount": 393724.82
         },
         {
          "nivel1": "TRANSACCIONES QUE AFECTAN EL PATRIMONIO NETO",
          "nivel2": "INGRESOS",
          "nivel3": "Rentas de la propiedad ",
          "periodo": 1996,
          "real_amount": 371018.23
         },
         {
          "nivel1": "TRANSACCIONES QUE AFECTAN EL PATRIMONIO NETO",
          "nivel2": "INGRESOS",
          "nivel3": "Rentas de la propiedad ",
          "periodo": 1997,
          "real_amount": 355123.01
         },
         {
          "nivel1": "TRANSACCIONES QUE AFECTAN EL PATRIMONIO NETO",
          "nivel2": "INGRESOS",
          "nivel3": "Rentas de la propiedad ",
          "periodo": 1998,
          "real_amount": 439752.47
         },
         {
          "nivel1": "TRANSACCIONES QUE AFECTAN EL PATRIMONIO NETO",
          "nivel2": "INGRESOS",
          "nivel3": "Rentas de la propiedad ",
          "periodo": 1999,
          "real_amount": 440328.55
         },
         {
          "nivel1": "TRANSACCIONES QUE AFECTAN EL PATRIMONIO NETO",
          "nivel2": "INGRESOS",
          "nivel3": "Rentas de la propiedad ",
          "periodo": 2000,
          "real_amount": 358961.68
         },
         {
          "nivel1": "TRANSACCIONES QUE AFECTAN EL PATRIMONIO NETO",
          "nivel2": "INGRESOS",
          "nivel3": "Rentas de la propiedad ",
          "periodo": 2001,
          "real_amount": 493464.85
         },
         {
          "nivel1": "TRANSACCIONES QUE AFECTAN EL PATRIMONIO NETO",
          "nivel2": "INGRESOS",
          "nivel3": "Rentas de la propiedad ",
          "periodo": 2002,
          "real_amount": 462220.52
         },
         {
          "nivel1": "TRANSACCIONES QUE AFECTAN EL PATRIMONIO NETO",
          "nivel2": "INGRESOS",
          "nivel3": "Rentas de la propiedad ",
          "periodo": 2003,
          "real_amount": 452582.58
         },
         {
          "nivel1": "TRANSACCIONES QUE AFECTAN EL PATRIMONIO NETO",
          "nivel2": "INGRESOS",
          "nivel3": "Rentas de la propiedad ",
          "periodo": 2004,
          "real_amount": 370191.79
         },
         {
          "nivel1": "TRANSACCIONES QUE AFECTAN EL PATRIMONIO NETO",
          "nivel2": "INGRESOS",
          "nivel3": "Rentas de la propiedad ",
          "periodo": 2005,
          "real_amount": 345383.2
         },
         {
          "nivel1": "TRANSACCIONES QUE AFECTAN EL PATRIMONIO NETO",
          "nivel2": "INGRESOS",
          "nivel3": "Rentas de la propiedad ",
          "periodo": 2006,
          "real_amount": 533297.14
         },
         {
          "nivel1": "TRANSACCIONES QUE AFECTAN EL PATRIMONIO NETO",
          "nivel2": "INGRESOS",
          "nivel3": "Rentas de la propiedad ",
          "periodo": 2007,
          "real_amount": 915145.15
         },
         {
          "nivel1": "TRANSACCIONES QUE AFECTAN EL PATRIMONIO NETO",
          "nivel2": "INGRESOS",
          "nivel3": "Rentas de la propiedad ",
          "periodo": 2008,
          "real_amount": 989690.76
         },
         {
          "nivel1": "TRANSACCIONES QUE AFECTAN EL PATRIMONIO NETO",
          "nivel2": "INGRESOS",
          "nivel3": "Rentas de la propiedad ",
          "periodo": 2009,
          "real_amount": 836652.12
         },
         {
          "nivel1": "TRANSACCIONES QUE AFECTAN EL PATRIMONIO NETO",
          "nivel2": "INGRESOS",
          "nivel3": "Rentas de la propiedad ",
          "periodo": 2010,
          "real_amount": 593417.59
         },
         {
          "nivel1": "TRANSACCIONES QUE AFECTAN EL PATRIMONIO NETO",
          "nivel2": "INGRESOS",
          "nivel3": "Rentas de la propiedad ",
          "periodo": 2011,
          "real_amount": 663864.36
         },
         {
          "nivel1": "TRANSACCIONES QUE AFECTAN EL PATRIMONIO NETO",
          "nivel2": "INGRESOS",
          "nivel3": "Rentas de la propiedad ",
          "periodo": 2012,
          "real_amount": 713023.96
         },
         {
          "nivel1": "TRANSACCIONES QUE AFECTAN EL PATRIMONIO NETO",
          "nivel2": "INGRESOS",
          "nivel3": "Rentas de la propiedad ",
          "periodo": 2013,
          "real_amount": 779435.73
         },
         {
          "nivel1": "TRANSACCIONES QUE AFECTAN EL PATRIMONIO NETO",
          "nivel2": "INGRESOS",
          "nivel3": "Rentas de la propiedad ",
          "periodo": 2014,
          "real_amount": 749804.63
         },
         {
          "nivel1": "TRANSACCIONES QUE AFECTAN EL PATRIMONIO NETO",
          "nivel2": "INGRESOS",
          "nivel3": "Rentas de la propiedad ",
          "periodo": 2015,
          "real_amount": 729399.54
         },
         {
          "nivel1": "TRANSACCIONES QUE AFECTAN EL PATRIMONIO NETO",
          "nivel2": "INGRESOS",
          "nivel3": "Rentas de la propiedad ",
          "periodo": 2016,
          "real_amount": 779186.62
         },
         {
          "nivel1": "TRANSACCIONES QUE AFECTAN EL PATRIMONIO NETO",
          "nivel2": "INGRESOS",
          "nivel3": "Rentas de la propiedad ",
          "periodo": 2017,
          "real_amount": 786029.54
         }
        ]
       },
       "encoding": {
        "color": {
         "field": "nivel3",
         "type": "nominal"
        },
        "column": {
         "field": "nivel2",
         "type": "nominal"
        },
        "x": {
         "field": "periodo",
         "type": "ordinal"
        },
        "y": {
         "aggregate": "sum",
         "field": "real_amount",
         "type": "quantitative"
        }
       },
       "mark": "area"
      },
      "image/png": "[encoded data removed]",
      "text/plain": [
       "<VegaLite 2 object>\n",
       "\n",
       "If you see this message, it means the renderer has not been properly enabled\n",
       "for the frontend that you are using. For more information, see\n",
       "https://altair-viz.github.io/user_guide/troubleshooting.html\n"
      ]
     },
     "execution_count": 23,
     "metadata": {},
     "output_type": "execute_result"
    }
   ],
   "source": [
    "alt.Chart(spend_gob).mark_area().encode(\n",
    "    x='periodo:O',\n",
    "    y='sum(real_amount):Q',\n",
    "    color='nivel3',\n",
    "    column='nivel2'\n",
    ")"
   ]
  }
 ],
 "metadata": {
  "kernelspec": {
   "display_name": "Python 3",
   "language": "python",
   "name": "python3"
  },
  "language_info": {
   "codemirror_mode": {
    "name": "ipython",
    "version": 3
   },
   "file_extension": ".py",
   "mimetype": "text/x-python",
   "name": "python",
   "nbconvert_exporter": "python",
   "pygments_lexer": "ipython3",
   "version": "3.6.5"
  }
 },
 "nbformat": 4,
 "nbformat_minor": 2
}
