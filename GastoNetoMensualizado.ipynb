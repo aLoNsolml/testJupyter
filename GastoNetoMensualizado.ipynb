{
 "cells": [
  {
   "cell_type": "markdown",
   "metadata": {},
   "source": [
    "# Datathon Mayo 2018  **_\"Haciendo el gasto fiscal visible para el público\"_**\n",
    "## Gasto Neto Mensualizado por año de las Instituciones Públicas"
   ]
  },
  {
   "cell_type": "markdown",
   "metadata": {},
   "source": [
    "## Lectura de Datos"
   ]
  },
  {
   "cell_type": "code",
   "execution_count": 1,
   "metadata": {},
   "outputs": [],
   "source": [
    "import os\n",
    "import sys\n",
    "import numpy as np\n",
    "import pandas as pd\n",
    "import datetime as dt\n",
    "import pandas_profiling as pd_profiling\n",
    "import altair as alt\n",
    "\n",
    "alt.data_transformers.enable('json')\n",
    "# alt.data_transformers.enable('default', max_rows=10000)"
   ]
  },
  {
   "cell_type": "code",
   "execution_count": 2,
   "metadata": {},
   "outputs": [],
   "source": [
    "def read_field_type(x):\n",
    "    '''\n",
    "    Para facilitar la lectura de los dataframes con los tipos de columna correspondientes.\n",
    "    '''\n",
    "    if x in ['String']:\n",
    "        return str\n",
    "    elif x in ['Integer', 'Long']:\n",
    "        return int\n",
    "    else:\n",
    "        return str"
   ]
  },
  {
   "cell_type": "code",
   "execution_count": 3,
   "metadata": {},
   "outputs": [],
   "source": [
    "pub_spend_names = pd.read_csv(os.path.join('data', \n",
    "                              'dataset_1_monthly_spend_2009-2017_DICTIONARY.csv'), \n",
    "                              sep=';', \n",
    "                              encoding='utf-8')"
   ]
  },
  {
   "cell_type": "code",
   "execution_count": 4,
   "metadata": {},
   "outputs": [
    {
     "data": {
      "text/html": [
       "<div>\n",
       "<style scoped>\n",
       "    .dataframe tbody tr th:only-of-type {\n",
       "        vertical-align: middle;\n",
       "    }\n",
       "\n",
       "    .dataframe tbody tr th {\n",
       "        vertical-align: top;\n",
       "    }\n",
       "\n",
       "    .dataframe thead th {\n",
       "        text-align: right;\n",
       "    }\n",
       "</style>\n",
       "<table border=\"1\" class=\"dataframe\">\n",
       "  <thead>\n",
       "    <tr style=\"text-align: right;\">\n",
       "      <th></th>\n",
       "      <th>Field name</th>\n",
       "      <th>Field type</th>\n",
       "      <th>Field size</th>\n",
       "      <th>Field format</th>\n",
       "      <th>Range</th>\n",
       "      <th>Description</th>\n",
       "      <th>Example</th>\n",
       "    </tr>\n",
       "  </thead>\n",
       "  <tbody>\n",
       "    <tr>\n",
       "      <th>0</th>\n",
       "      <td>Periodo</td>\n",
       "      <td>Integer</td>\n",
       "      <td>15</td>\n",
       "      <td>#</td>\n",
       "      <td>2009 to 2017</td>\n",
       "      <td>Year of the spend</td>\n",
       "      <td>2009</td>\n",
       "    </tr>\n",
       "    <tr>\n",
       "      <th>1</th>\n",
       "      <td>Nombre Partida</td>\n",
       "      <td>String</td>\n",
       "      <td>63</td>\n",
       "      <td>NaN</td>\n",
       "      <td>28 categories</td>\n",
       "      <td>Ministeries</td>\n",
       "      <td>Ministerio de Educación</td>\n",
       "    </tr>\n",
       "    <tr>\n",
       "      <th>2</th>\n",
       "      <td>Nombre Capitulo</td>\n",
       "      <td>String</td>\n",
       "      <td>78</td>\n",
       "      <td>NaN</td>\n",
       "      <td>219 categories</td>\n",
       "      <td>Public Services</td>\n",
       "      <td>Fondo Nacional de Salud</td>\n",
       "    </tr>\n",
       "    <tr>\n",
       "      <th>3</th>\n",
       "      <td>Nombre Programa</td>\n",
       "      <td>String</td>\n",
       "      <td>78</td>\n",
       "      <td>NaN</td>\n",
       "      <td>363 categories</td>\n",
       "      <td>Programs</td>\n",
       "      <td>Fondo Nacional de Salud</td>\n",
       "    </tr>\n",
       "    <tr>\n",
       "      <th>4</th>\n",
       "      <td>Nombre Subtitulo</td>\n",
       "      <td>String</td>\n",
       "      <td>37</td>\n",
       "      <td>NaN</td>\n",
       "      <td>10 categories</td>\n",
       "      <td>First level of the budget classification</td>\n",
       "      <td>TRANSFERENCIAS CORRIENTES</td>\n",
       "    </tr>\n",
       "    <tr>\n",
       "      <th>5</th>\n",
       "      <td>Nombre Item</td>\n",
       "      <td>String</td>\n",
       "      <td>54</td>\n",
       "      <td>NaN</td>\n",
       "      <td>43 categories</td>\n",
       "      <td>Second level of the budget classification</td>\n",
       "      <td>Al Sector Privado</td>\n",
       "    </tr>\n",
       "    <tr>\n",
       "      <th>6</th>\n",
       "      <td>Nombre Asignación</td>\n",
       "      <td>String</td>\n",
       "      <td>250</td>\n",
       "      <td>NaN</td>\n",
       "      <td>4372 categories</td>\n",
       "      <td>Third level of the budget classification</td>\n",
       "      <td>Subsidios Fondo Solidario de Vivienda</td>\n",
       "    </tr>\n",
       "    <tr>\n",
       "      <th>7</th>\n",
       "      <td>Nombre SubAsignación</td>\n",
       "      <td>String</td>\n",
       "      <td>80</td>\n",
       "      <td>NaN</td>\n",
       "      <td>1355 categories</td>\n",
       "      <td>Last level of the budget classification</td>\n",
       "      <td>Asistencia Técnica</td>\n",
       "    </tr>\n",
       "    <tr>\n",
       "      <th>8</th>\n",
       "      <td>Mes</td>\n",
       "      <td>String</td>\n",
       "      <td>10</td>\n",
       "      <td>NaN</td>\n",
       "      <td>12 categories</td>\n",
       "      <td>Month</td>\n",
       "      <td>enero</td>\n",
       "    </tr>\n",
       "    <tr>\n",
       "      <th>9</th>\n",
       "      <td>Monto</td>\n",
       "      <td>Integer</td>\n",
       "      <td>15</td>\n",
       "      <td>#</td>\n",
       "      <td>(-49702217) to 357607483</td>\n",
       "      <td>Amount, this data was update by the inflation ...</td>\n",
       "      <td>357607483</td>\n",
       "    </tr>\n",
       "  </tbody>\n",
       "</table>\n",
       "</div>"
      ],
      "text/plain": [
       "             Field name Field type  Field size Field format  \\\n",
       "0               Periodo    Integer          15            #   \n",
       "1        Nombre Partida     String          63          NaN   \n",
       "2       Nombre Capitulo     String          78          NaN   \n",
       "3       Nombre Programa     String          78          NaN   \n",
       "4      Nombre Subtitulo     String          37          NaN   \n",
       "5           Nombre Item     String          54          NaN   \n",
       "6     Nombre Asignación     String         250          NaN   \n",
       "7  Nombre SubAsignación     String          80          NaN   \n",
       "8                   Mes     String          10          NaN   \n",
       "9                 Monto    Integer          15            #   \n",
       "\n",
       "                      Range  \\\n",
       "0              2009 to 2017   \n",
       "1             28 categories   \n",
       "2            219 categories   \n",
       "3            363 categories   \n",
       "4             10 categories   \n",
       "5             43 categories   \n",
       "6           4372 categories   \n",
       "7           1355 categories   \n",
       "8             12 categories   \n",
       "9  (-49702217) to 357607483   \n",
       "\n",
       "                                         Description  \\\n",
       "0                                  Year of the spend   \n",
       "1                                        Ministeries   \n",
       "2                                    Public Services   \n",
       "3                                           Programs   \n",
       "4           First level of the budget classification   \n",
       "5          Second level of the budget classification   \n",
       "6           Third level of the budget classification   \n",
       "7            Last level of the budget classification   \n",
       "8                                              Month   \n",
       "9  Amount, this data was update by the inflation ...   \n",
       "\n",
       "                                 Example  \n",
       "0                                   2009  \n",
       "1                Ministerio de Educación  \n",
       "2                Fondo Nacional de Salud  \n",
       "3                Fondo Nacional de Salud  \n",
       "4              TRANSFERENCIAS CORRIENTES  \n",
       "5                      Al Sector Privado  \n",
       "6  Subsidios Fondo Solidario de Vivienda  \n",
       "7                     Asistencia Técnica  \n",
       "8                                  enero  \n",
       "9                              357607483  "
      ]
     },
     "execution_count": 4,
     "metadata": {},
     "output_type": "execute_result"
    }
   ],
   "source": [
    "pub_spend_names"
   ]
  },
  {
   "cell_type": "code",
   "execution_count": 30,
   "metadata": {},
   "outputs": [
    {
     "data": {
      "text/plain": [
       "\"Amount, this data was update by the inflation factors, and it's expressed in thousands of pesos\""
      ]
     },
     "execution_count": 30,
     "metadata": {},
     "output_type": "execute_result"
    }
   ],
   "source": [
    "pub_spend_names.iloc[9, 5]"
   ]
  },
  {
   "cell_type": "code",
   "execution_count": 5,
   "metadata": {},
   "outputs": [],
   "source": [
    "pub_spend = pd.read_csv(os.path.join('data', \n",
    "                              'dataset_1_monthly_spend_2009-2017.csv'),\n",
    "                 sep=';', \n",
    "                 encoding='utf-8',\n",
    "                 dtype=dict(zip(pub_spend_names['Field name'], pub_spend_names['Field type'].apply(read_field_type))))"
   ]
  },
  {
   "cell_type": "code",
   "execution_count": 6,
   "metadata": {},
   "outputs": [
    {
     "data": {
      "text/html": [
       "<div>\n",
       "<style scoped>\n",
       "    .dataframe tbody tr th:only-of-type {\n",
       "        vertical-align: middle;\n",
       "    }\n",
       "\n",
       "    .dataframe tbody tr th {\n",
       "        vertical-align: top;\n",
       "    }\n",
       "\n",
       "    .dataframe thead th {\n",
       "        text-align: right;\n",
       "    }\n",
       "</style>\n",
       "<table border=\"1\" class=\"dataframe\">\n",
       "  <thead>\n",
       "    <tr style=\"text-align: right;\">\n",
       "      <th></th>\n",
       "      <th>Periodo</th>\n",
       "      <th>Nombre Partida</th>\n",
       "      <th>Nombre Capitulo</th>\n",
       "      <th>Nombre Programa</th>\n",
       "      <th>Nombre Subtitulo</th>\n",
       "      <th>Nombre Item</th>\n",
       "      <th>Nombre Asignación</th>\n",
       "      <th>Nombre SubAsignación</th>\n",
       "      <th>Mes</th>\n",
       "      <th>Monto_sum</th>\n",
       "    </tr>\n",
       "  </thead>\n",
       "  <tbody>\n",
       "    <tr>\n",
       "      <th>0</th>\n",
       "      <td>2009</td>\n",
       "      <td>Congreso Nacional</td>\n",
       "      <td>Biblioteca Del Congreso</td>\n",
       "      <td>Biblioteca Del Congreso</td>\n",
       "      <td>INICIATIVAS DE INVERSIÓN</td>\n",
       "      <td>Proyectos</td>\n",
       "      <td>Gastos Administrativos</td>\n",
       "      <td>NaN</td>\n",
       "      <td>Abril</td>\n",
       "      <td>0</td>\n",
       "    </tr>\n",
       "    <tr>\n",
       "      <th>1</th>\n",
       "      <td>2009</td>\n",
       "      <td>Congreso Nacional</td>\n",
       "      <td>Biblioteca Del Congreso</td>\n",
       "      <td>Biblioteca Del Congreso</td>\n",
       "      <td>INICIATIVAS DE INVERSIÓN</td>\n",
       "      <td>Proyectos</td>\n",
       "      <td>Gastos Administrativos</td>\n",
       "      <td>NaN</td>\n",
       "      <td>Agosto</td>\n",
       "      <td>0</td>\n",
       "    </tr>\n",
       "    <tr>\n",
       "      <th>2</th>\n",
       "      <td>2009</td>\n",
       "      <td>Congreso Nacional</td>\n",
       "      <td>Biblioteca Del Congreso</td>\n",
       "      <td>Biblioteca Del Congreso</td>\n",
       "      <td>INICIATIVAS DE INVERSIÓN</td>\n",
       "      <td>Proyectos</td>\n",
       "      <td>Gastos Administrativos</td>\n",
       "      <td>NaN</td>\n",
       "      <td>Diciembre</td>\n",
       "      <td>0</td>\n",
       "    </tr>\n",
       "    <tr>\n",
       "      <th>3</th>\n",
       "      <td>2009</td>\n",
       "      <td>Congreso Nacional</td>\n",
       "      <td>Biblioteca Del Congreso</td>\n",
       "      <td>Biblioteca Del Congreso</td>\n",
       "      <td>INICIATIVAS DE INVERSIÓN</td>\n",
       "      <td>Proyectos</td>\n",
       "      <td>Gastos Administrativos</td>\n",
       "      <td>NaN</td>\n",
       "      <td>Enero</td>\n",
       "      <td>0</td>\n",
       "    </tr>\n",
       "    <tr>\n",
       "      <th>4</th>\n",
       "      <td>2009</td>\n",
       "      <td>Congreso Nacional</td>\n",
       "      <td>Biblioteca Del Congreso</td>\n",
       "      <td>Biblioteca Del Congreso</td>\n",
       "      <td>INICIATIVAS DE INVERSIÓN</td>\n",
       "      <td>Proyectos</td>\n",
       "      <td>Gastos Administrativos</td>\n",
       "      <td>NaN</td>\n",
       "      <td>Febrero</td>\n",
       "      <td>0</td>\n",
       "    </tr>\n",
       "  </tbody>\n",
       "</table>\n",
       "</div>"
      ],
      "text/plain": [
       "   Periodo     Nombre Partida          Nombre Capitulo  \\\n",
       "0     2009  Congreso Nacional  Biblioteca Del Congreso   \n",
       "1     2009  Congreso Nacional  Biblioteca Del Congreso   \n",
       "2     2009  Congreso Nacional  Biblioteca Del Congreso   \n",
       "3     2009  Congreso Nacional  Biblioteca Del Congreso   \n",
       "4     2009  Congreso Nacional  Biblioteca Del Congreso   \n",
       "\n",
       "           Nombre Programa          Nombre Subtitulo Nombre Item  \\\n",
       "0  Biblioteca Del Congreso  INICIATIVAS DE INVERSIÓN   Proyectos   \n",
       "1  Biblioteca Del Congreso  INICIATIVAS DE INVERSIÓN   Proyectos   \n",
       "2  Biblioteca Del Congreso  INICIATIVAS DE INVERSIÓN   Proyectos   \n",
       "3  Biblioteca Del Congreso  INICIATIVAS DE INVERSIÓN   Proyectos   \n",
       "4  Biblioteca Del Congreso  INICIATIVAS DE INVERSIÓN   Proyectos   \n",
       "\n",
       "        Nombre Asignación Nombre SubAsignación        Mes  Monto_sum  \n",
       "0  Gastos Administrativos                  NaN      Abril          0  \n",
       "1  Gastos Administrativos                  NaN     Agosto          0  \n",
       "2  Gastos Administrativos                  NaN  Diciembre          0  \n",
       "3  Gastos Administrativos                  NaN      Enero          0  \n",
       "4  Gastos Administrativos                  NaN    Febrero          0  "
      ]
     },
     "execution_count": 6,
     "metadata": {},
     "output_type": "execute_result"
    }
   ],
   "source": [
    "pub_spend.head(5) "
   ]
  },
  {
   "cell_type": "code",
   "execution_count": 7,
   "metadata": {},
   "outputs": [],
   "source": [
    "pub_spend.columns = ['periodo', 'partida', 'capitulo', 'programa', 'subtitulo', 'item', 'asignacion', 'subasignacion', 'mes', 'gasto']"
   ]
  },
  {
   "cell_type": "code",
   "execution_count": 8,
   "metadata": {},
   "outputs": [
    {
     "data": {
      "text/plain": [
       "(3110448, 10)"
      ]
     },
     "execution_count": 8,
     "metadata": {},
     "output_type": "execute_result"
    }
   ],
   "source": [
    "pub_spend.shape"
   ]
  },
  {
   "cell_type": "code",
   "execution_count": 9,
   "metadata": {},
   "outputs": [],
   "source": [
    "pub_spend = pub_spend[pub_spend['gasto'] != 0]"
   ]
  },
  {
   "cell_type": "code",
   "execution_count": 10,
   "metadata": {},
   "outputs": [
    {
     "data": {
      "text/plain": [
       "(2107310, 10)"
      ]
     },
     "execution_count": 10,
     "metadata": {},
     "output_type": "execute_result"
    }
   ],
   "source": [
    "pub_spend.shape"
   ]
  },
  {
   "cell_type": "code",
   "execution_count": 11,
   "metadata": {},
   "outputs": [],
   "source": [
    "# pub_spend = pub_spend.sample(frac=0.2, random_state=42)\n",
    "# pub_spend.shape"
   ]
  },
  {
   "cell_type": "code",
   "execution_count": 12,
   "metadata": {},
   "outputs": [
    {
     "data": {
      "text/plain": [
       "1425.51"
      ]
     },
     "execution_count": 12,
     "metadata": {},
     "output_type": "execute_result"
    }
   ],
   "source": [
    "def mbSize(obj):\n",
    "    return round(sys.getsizeof(obj) / 1024 / 1024.0, 2)\n",
    "\n",
    "mbSize(pub_spend)"
   ]
  },
  {
   "cell_type": "markdown",
   "metadata": {},
   "source": [
    "# Estadística descriptiva"
   ]
  },
  {
   "cell_type": "markdown",
   "metadata": {},
   "source": [
    "## Gasto anual"
   ]
  },
  {
   "cell_type": "code",
   "execution_count": 13,
   "metadata": {},
   "outputs": [],
   "source": [
    "es_month_dict = {'enero': 1,\n",
    "                 'febrero': 2,\n",
    "                 'marzo': 3, \n",
    "                 'abril': 4,\n",
    "                 'mayo': 5,\n",
    "                 'junio': 6,\n",
    "                 'julio': 7,\n",
    "                 'agosto': 8,\n",
    "                 'septiembre': 9,\n",
    "                 'octubre': 10,\n",
    "                 'noviembre': 11,\n",
    "                 'diciembre': 12\n",
    "                }\n",
    "\n",
    "pub_spend['month'] = pub_spend['mes'].str.lower().map(es_month_dict)\n",
    "pub_spend['day'] = 15\n",
    "pub_spend['date'] = pd.to_datetime(pub_spend[['day', 'month', 'periodo']].rename(columns={'periodo': 'year'}))\n",
    "pub_spend.drop(['periodo', 'mes', 'month', 'day'], axis=1, inplace=True)"
   ]
  },
  {
   "cell_type": "markdown",
   "metadata": {},
   "source": [
    "## Agregaciones"
   ]
  },
  {
   "cell_type": "markdown",
   "metadata": {},
   "source": [
    "Quitando el cuarto nivel de presupuesto (Subasignacion) se tiene que:"
   ]
  },
  {
   "cell_type": "code",
   "execution_count": 16,
   "metadata": {},
   "outputs": [],
   "source": [
    "pub_spend_agg3 = pub_spend.groupby(['partida', 'capitulo', 'programa', 'subtitulo', 'item', 'asignacion', 'date'])['gasto'].sum().reset_index()"
   ]
  },
  {
   "cell_type": "code",
   "execution_count": 17,
   "metadata": {},
   "outputs": [
    {
     "data": {
      "text/plain": [
       "909.06"
      ]
     },
     "execution_count": 17,
     "metadata": {},
     "output_type": "execute_result"
    }
   ],
   "source": [
    "mbSize(pub_spend_agg3)"
   ]
  },
  {
   "cell_type": "code",
   "execution_count": 18,
   "metadata": {},
   "outputs": [
    {
     "data": {
      "text/plain": [
       "62.55832197861183"
      ]
     },
     "execution_count": 18,
     "metadata": {},
     "output_type": "execute_result"
    }
   ],
   "source": [
    "mbSize(pub_spend_agg3) / mbSize(pub_spend) * 100"
   ]
  },
  {
   "cell_type": "markdown",
   "metadata": {},
   "source": [
    "Quitando el cuarto y tercer nivel de presupuesto (Subasignacion y Asignacion) se tiene que:"
   ]
  },
  {
   "cell_type": "code",
   "execution_count": 19,
   "metadata": {},
   "outputs": [],
   "source": [
    "pub_spend_agg2 = pub_spend.groupby(['partida', 'capitulo', 'programa', 'subtitulo', 'item', 'date'])['gasto'].sum().reset_index()"
   ]
  },
  {
   "cell_type": "code",
   "execution_count": 20,
   "metadata": {},
   "outputs": [
    {
     "data": {
      "text/plain": [
       "261.89"
      ]
     },
     "execution_count": 20,
     "metadata": {},
     "output_type": "execute_result"
    }
   ],
   "source": [
    "mbSize(pub_spend_agg2)"
   ]
  },
  {
   "cell_type": "code",
   "execution_count": 21,
   "metadata": {},
   "outputs": [
    {
     "data": {
      "text/plain": [
       "18.022351597230823"
      ]
     },
     "execution_count": 21,
     "metadata": {},
     "output_type": "execute_result"
    }
   ],
   "source": [
    "mbSize(pub_spend_agg2) / mbSize(pub_spend) * 100"
   ]
  },
  {
   "cell_type": "markdown",
   "metadata": {},
   "source": [
    "## Gasto Anual"
   ]
  },
  {
   "cell_type": "code",
   "execution_count": 27,
   "metadata": {},
   "outputs": [],
   "source": [
    "pub_spend_agg2_dict = alt.to_json(pub_spend_agg2, prefix='pub_spend_agg2')"
   ]
  },
  {
   "cell_type": "code",
   "execution_count": null,
   "metadata": {},
   "outputs": [],
   "source": [
    "pub_spend_chart = alt.Chart(pub_spend_agg2_dict['url']).mark_line().encode(\n",
    "    x=alt.X('date:T', \n",
    "        timeUnit='year',\n",
    "        axis=alt.Axis(title='Year')\n",
    "           ),\n",
    "    y='sum(gasto):Q',\n",
    ").properties( \n",
    "    width=600, \n",
    "    height=400 \n",
    ")"
   ]
  },
  {
   "cell_type": "code",
   "execution_count": null,
   "metadata": {},
   "outputs": [],
   "source": [
    "pub_spend_chart"
   ]
  },
  {
   "cell_type": "code",
   "execution_count": 34,
   "metadata": {},
   "outputs": [],
   "source": [
    "pub_spend_base = alt.Chart().encode(\n",
    "    x=alt.X('date:T', \n",
    "        timeUnit='year',\n",
    "        axis=alt.Axis(title='Año')\n",
    "           ),\n",
    "    y=alt.Y('sum(gasto):Q', axis=alt.Axis(format='.2$', title='Miles de Pesos Chilenos'))\n",
    ")\n",
    "\n",
    "chart = alt.layer(\n",
    "    pub_spend_base.mark_point(),\n",
    "    pub_spend_base.mark_line(),\n",
    "    data=pub_spend_agg2_dict['url']\n",
    ").properties(\n",
    "    title='Gasto Anual',\n",
    "    width=600, \n",
    "    height=400 \n",
    ")"
   ]
  },
  {
   "cell_type": "code",
   "execution_count": 35,
   "metadata": {},
   "outputs": [
    {
     "data": {
      "application/vnd.jupyter.stderr": "Javascript Error: Cannot read property 'marktype' of undefined. This usually means there's a typo in your chart specification. See the JavaScript console for the full traceback."
     },
     "execution_count": 35,
     "metadata": {},
     "output_type": "execute_result"
    }
   ],
   "source": [
    "chart"
   ]
  },
  {
   "cell_type": "markdown",
   "metadata": {},
   "source": [
    "## Gasto Año-Mes"
   ]
  },
  {
   "cell_type": "code",
   "execution_count": null,
   "metadata": {},
   "outputs": [],
   "source": [
    "pub_spend_chart.encode(\n",
    "    x=alt.X('date:T', \n",
    "            timeUnit='yearmonth',\n",
    "            axis=alt.Axis(title='Year-Month')\n",
    "           )\n",
    ")"
   ]
  },
  {
   "cell_type": "markdown",
   "metadata": {},
   "source": [
    "## Gasto por Partida y Año"
   ]
  },
  {
   "cell_type": "code",
   "execution_count": null,
   "metadata": {},
   "outputs": [],
   "source": [
    "pub_spend_chart.mark_bar().encode(\n",
    "    x=alt.X('sum(gasto):Q'),\n",
    "    y='partida:N',\n",
    "    color=alt.Color('date:N', \n",
    "            timeUnit='year')\n",
    ")"
   ]
  },
  {
   "cell_type": "markdown",
   "metadata": {},
   "source": [
    "## Gasto Anual por Partida"
   ]
  },
  {
   "cell_type": "code",
   "execution_count": null,
   "metadata": {},
   "outputs": [],
   "source": [
    "pub_spend_chart.encode(\n",
    "    x=alt.X('date:T', \n",
    "            timeUnit='year',\n",
    "            axis=alt.Axis( title='Year')\n",
    "           ),\n",
    "    color='partida:N',\n",
    ")"
   ]
  },
  {
   "cell_type": "markdown",
   "metadata": {},
   "source": [
    "## Gasto Mensual por Partida en cada Año"
   ]
  },
  {
   "cell_type": "code",
   "execution_count": null,
   "metadata": {},
   "outputs": [],
   "source": [
    "pub_spend_chart.encode(\n",
    "    x=alt.X('date:T', \n",
    "            timeUnit='month',\n",
    "            axis=alt.Axis( title='Month')\n",
    "           ),\n",
    "    color='partida:N',\n",
    "    row=alt.Row('date:T', \n",
    "            timeUnit='year'\n",
    "           ),\n",
    ")"
   ]
  },
  {
   "cell_type": "markdown",
   "metadata": {},
   "source": [
    "## Conteo de registros vs Gasto"
   ]
  },
  {
   "cell_type": "markdown",
   "metadata": {},
   "source": [
    "### Por Partida"
   ]
  },
  {
   "cell_type": "code",
   "execution_count": null,
   "metadata": {},
   "outputs": [],
   "source": [
    "aux_line = pub_spend_chart.encode(\n",
    "    x=alt.X('date:T', \n",
    "            timeUnit='year',\n",
    "            axis=alt.Axis( title='Month')\n",
    "           ),\n",
    "    y='count()',\n",
    "    color='partida:N',\n",
    ")"
   ]
  },
  {
   "cell_type": "code",
   "execution_count": null,
   "metadata": {},
   "outputs": [],
   "source": [
    "aux_line + aux_line.mark_point() | aux_line.encode(y='sum(gasto):Q') + aux_line.mark_point().encode(y='sum(gasto):Q')"
   ]
  },
  {
   "cell_type": "markdown",
   "metadata": {},
   "source": [
    "### Por capítulo"
   ]
  },
  {
   "cell_type": "code",
   "execution_count": null,
   "metadata": {},
   "outputs": [],
   "source": [
    "# aux_line.encode(color='capitulo') + aux_line.mark_point().encode(color='capitulo')"
   ]
  },
  {
   "cell_type": "markdown",
   "metadata": {},
   "source": [
    "### Por Subtítulo"
   ]
  },
  {
   "cell_type": "code",
   "execution_count": null,
   "metadata": {},
   "outputs": [],
   "source": [
    "aux_line.encode(color='subtitulo') + aux_line.mark_point().encode(color='subtitulo') | aux_line.encode(y='sum(gasto):Q', color='subtitulo') + aux_line.mark_point().encode(y='sum(gasto):Q', color='subtitulo')"
   ]
  },
  {
   "cell_type": "markdown",
   "metadata": {},
   "source": [
    "### Por Item"
   ]
  },
  {
   "cell_type": "code",
   "execution_count": null,
   "metadata": {},
   "outputs": [],
   "source": [
    "aux_line.encode(color='item') + aux_line.mark_point().encode(color='item') | aux_line.encode(y='sum(gasto):Q', color='item') + aux_line.mark_point().encode(y='sum(gasto):Q', color='item')"
   ]
  },
  {
   "cell_type": "markdown",
   "metadata": {},
   "source": [
    "# Perfil por Partida"
   ]
  },
  {
   "cell_type": "code",
   "execution_count": null,
   "metadata": {},
   "outputs": [],
   "source": [
    "partida_name = 'Ministerio De Educación'"
   ]
  },
  {
   "cell_type": "code",
   "execution_count": null,
   "metadata": {},
   "outputs": [],
   "source": [
    "partida = pub_spend[pub_spend['partida'] == partida_name]"
   ]
  },
  {
   "cell_type": "code",
   "execution_count": null,
   "metadata": {},
   "outputs": [],
   "source": [
    "partida_chart = alt.Chart(partida).mark_line().encode(\n",
    "    x=alt.X('date:T', \n",
    "            timeUnit='year',\n",
    "            axis=alt.Axis( title='Year')\n",
    "           ),\n",
    "    y='sum(gasto):Q',\n",
    ").properties(\n",
    "    width=600,\n",
    "    height=400,\n",
    ")"
   ]
  },
  {
   "cell_type": "markdown",
   "metadata": {},
   "source": [
    "## Quién gasta"
   ]
  },
  {
   "cell_type": "code",
   "execution_count": null,
   "metadata": {},
   "outputs": [],
   "source": [
    "partida_chart.encode(color='capitulo:N') + partida_chart.mark_point().encode(color='capitulo:N') "
   ]
  },
  {
   "cell_type": "code",
   "execution_count": null,
   "metadata": {},
   "outputs": [],
   "source": [
    "partida_chart.encode(color='programa:N') + partida_chart.mark_point().encode(color='programa:N') "
   ]
  },
  {
   "cell_type": "markdown",
   "metadata": {},
   "source": [
    "## Cómo se gasta"
   ]
  },
  {
   "cell_type": "code",
   "execution_count": null,
   "metadata": {},
   "outputs": [],
   "source": [
    "partida_chart.encode(color='subtitulo:N') + partida_chart.mark_point().encode(color='subtitulo:N')"
   ]
  },
  {
   "cell_type": "code",
   "execution_count": null,
   "metadata": {},
   "outputs": [],
   "source": [
    "partida_chart.encode(color='item:N') + partida_chart.mark_point().encode(color='item:N')"
   ]
  }
 ],
 "metadata": {
  "kernelspec": {
   "display_name": "Python 3",
   "language": "python",
   "name": "python3"
  },
  "language_info": {
   "codemirror_mode": {
    "name": "ipython",
    "version": 3
   },
   "file_extension": ".py",
   "mimetype": "text/x-python",
   "name": "python",
   "nbconvert_exporter": "python",
   "pygments_lexer": "ipython3",
   "version": "3.6.5"
  }
 },
 "nbformat": 4,
 "nbformat_minor": 2
}
